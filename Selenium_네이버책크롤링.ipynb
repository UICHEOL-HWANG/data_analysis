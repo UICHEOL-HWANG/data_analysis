{
 "cells": [
  {
   "cell_type": "markdown",
   "id": "9a2a6cea",
   "metadata": {},
   "source": [
    "## 1. Selenium이란?\n",
    "* 웹 브라우저를 자동으로 제어 하는 라이브러리 \n",
    "* 본래 다양한 웹 브라우저를 사용한 웹사이트 자동 테스트 도구 \n",
    "* 현재는 웹 브라우저를 자동 제어 하여 동적 웹 사이트에서 정보를 가져오는 용도로 많이 활용\n"
   ]
  },
  {
   "cell_type": "markdown",
   "id": "c10bb22f",
   "metadata": {},
   "source": [
    "## 2. 정적 웹사이트 VS 동적 웹사이트\n",
    "* 정적 웹 사이트(Static website) : HTML 페이지 안에 웹 브라우저에 표시 되는 모든 정보가 포함된 사이트 \n",
    "    * requests 라이브러리를 이용 하여 정보 추출이 가능하다 \n",
    "* 동적 웹 사이트(Dynamic website) : JavaScript를 사용 하여 상황에 따라 필요한 정보를 불러와서 표시 하는 웹 사이트 \n",
    "    * 상황에 맞춰서 JavaScript를 활용 하여 서버에 정보를 다시 요청 하는 형식이라 requests로는 정보 추출이 불가능함 \n",
    "    * Selenium으로 웹 브라우저를 조작해 원하는 정보가 다 표시 된 후 정보 추출 필요 \n",
    "   "
   ]
  },
  {
   "cell_type": "markdown",
   "id": "3a060b1b",
   "metadata": {},
   "source": [
    "## 3. Selenium 웹 사이트 \n",
    "* https://www.selenium.dev/documentation/webdriver/"
   ]
  },
  {
   "cell_type": "markdown",
   "id": "cba2f095",
   "metadata": {},
   "source": [
    "## 4. Selenium 설치 \n",
    "* pip install selenium  # 셀레니움 설치 \n",
    "* pip install webdriver-manager # web driver 자동 갱신 설치"
   ]
  },
  {
   "cell_type": "code",
   "execution_count": 38,
   "id": "ecf82759",
   "metadata": {},
   "outputs": [],
   "source": [
    "from selenium import webdriver\n",
    "from selenium.webdriver.chrome.service import Service as ChromeService\n",
    "from webdriver_manager.chrome import ChromeDriverManager\n",
    "from selenium.webdriver.common.keys import Keys\n",
    "from selenium.webdriver.common.by import By\n",
    "from bs4 import BeautifulSoup as bs\n",
    "import time\n"
   ]
  },
  {
   "cell_type": "code",
   "execution_count": 7,
   "id": "6a4ef779",
   "metadata": {},
   "outputs": [],
   "source": [
    "driver = webdriver.Chrome(service=ChromeService(ChromeDriverManager().install())) #웹 드라이버 버전에 맞게 다운 받고 옵션을 추가해줌 \n",
    "driver.set_window_size(1920,1080)# 웹 브라우저 해상도 조절 \n",
    "driver.get(\"https://search.shopping.naver.com/book/home\") # 크롤링할 웹사이트 주소 \n"
   ]
  },
  {
   "cell_type": "code",
   "execution_count": 8,
   "id": "f78f3246",
   "metadata": {},
   "outputs": [],
   "source": [
    "search_box = driver.find_element(By.CSS_SELECTOR,\"div._lnbSearch_lnb_search_29ynI > div > div > form > input\")\n",
    "search_box.send_keys(\"파이썬\"+Keys.ENTER)"
   ]
  },
  {
   "cell_type": "code",
   "execution_count": 34,
   "id": "1bf00b8f",
   "metadata": {
    "scrolled": true
   },
   "outputs": [
    {
     "ename": "NoSuchElementException",
     "evalue": "Message: no such element: Unable to locate element: {\"method\":\"css selector\",\"selector\":\"div.Paginator_list_paging__OTDcR > button.Paginator_btn_prev__4PdUm.Paginator_disabled__Mwag8\"}\n  (Session info: chrome=116.0.5845.188); For documentation on this error, please visit: https://www.selenium.dev/documentation/webdriver/troubleshooting/errors#no-such-element-exception\nStacktrace:\n\tGetHandleVerifier [0x009337C3+48947]\n\t(No symbol) [0x008C8551]\n\t(No symbol) [0x007CC92D]\n\t(No symbol) [0x007F9E38]\n\t(No symbol) [0x007F9EFB]\n\t(No symbol) [0x00828EF2]\n\t(No symbol) [0x008150D4]\n\t(No symbol) [0x008275DA]\n\t(No symbol) [0x00814E86]\n\t(No symbol) [0x007F16C7]\n\t(No symbol) [0x007F284D]\n\tGetHandleVerifier [0x00B7FDF9+2458985]\n\tGetHandleVerifier [0x00BC744F+2751423]\n\tGetHandleVerifier [0x00BC1361+2726609]\n\tGetHandleVerifier [0x009B0680+560624]\n\t(No symbol) [0x008D238C]\n\t(No symbol) [0x008CE268]\n\t(No symbol) [0x008CE392]\n\t(No symbol) [0x008C10B7]\n\tBaseThreadInitThunk [0x760BFCC9+25]\n\tRtlGetAppContainerNamedObjectPath [0x77367B1E+286]\n\tRtlGetAppContainerNamedObjectPath [0x77367AEE+238]\n",
     "output_type": "error",
     "traceback": [
      "\u001b[1;31m---------------------------------------------------------------------------\u001b[0m",
      "\u001b[1;31mNoSuchElementException\u001b[0m                    Traceback (most recent call last)",
      "Cell \u001b[1;32mIn[34], line 17\u001b[0m\n\u001b[0;32m     15\u001b[0m soup \u001b[38;5;241m=\u001b[39m bs(page_html,\u001b[38;5;124m\"\u001b[39m\u001b[38;5;124mlxml\u001b[39m\u001b[38;5;124m\"\u001b[39m)\n\u001b[0;32m     16\u001b[0m all_booklist\u001b[38;5;241m.\u001b[39mappend(soup)\n\u001b[1;32m---> 17\u001b[0m \u001b[43mdriver\u001b[49m\u001b[38;5;241;43m.\u001b[39;49m\u001b[43mfind_element\u001b[49m\u001b[43m(\u001b[49m\u001b[43mBy\u001b[49m\u001b[38;5;241;43m.\u001b[39;49m\u001b[43mCSS_SELECTOR\u001b[49m\u001b[43m,\u001b[49m\u001b[38;5;124;43m\"\u001b[39;49m\u001b[38;5;124;43mdiv.Paginator_list_paging__OTDcR > button.Paginator_btn_prev__4PdUm.Paginator_disabled__Mwag8\u001b[39;49m\u001b[38;5;124;43m\"\u001b[39;49m\u001b[43m)\u001b[49m\u001b[38;5;241m.\u001b[39mclick()\n",
      "File \u001b[1;32m~\\anaconda3\\envs\\myvenv\\lib\\site-packages\\selenium\\webdriver\\remote\\webdriver.py:738\u001b[0m, in \u001b[0;36mWebDriver.find_element\u001b[1;34m(self, by, value)\u001b[0m\n\u001b[0;32m    735\u001b[0m     by \u001b[38;5;241m=\u001b[39m By\u001b[38;5;241m.\u001b[39mCSS_SELECTOR\n\u001b[0;32m    736\u001b[0m     value \u001b[38;5;241m=\u001b[39m \u001b[38;5;124mf\u001b[39m\u001b[38;5;124m'\u001b[39m\u001b[38;5;124m[name=\u001b[39m\u001b[38;5;124m\"\u001b[39m\u001b[38;5;132;01m{\u001b[39;00mvalue\u001b[38;5;132;01m}\u001b[39;00m\u001b[38;5;124m\"\u001b[39m\u001b[38;5;124m]\u001b[39m\u001b[38;5;124m'\u001b[39m\n\u001b[1;32m--> 738\u001b[0m \u001b[38;5;28;01mreturn\u001b[39;00m \u001b[38;5;28;43mself\u001b[39;49m\u001b[38;5;241;43m.\u001b[39;49m\u001b[43mexecute\u001b[49m\u001b[43m(\u001b[49m\u001b[43mCommand\u001b[49m\u001b[38;5;241;43m.\u001b[39;49m\u001b[43mFIND_ELEMENT\u001b[49m\u001b[43m,\u001b[49m\u001b[43m \u001b[49m\u001b[43m{\u001b[49m\u001b[38;5;124;43m\"\u001b[39;49m\u001b[38;5;124;43musing\u001b[39;49m\u001b[38;5;124;43m\"\u001b[39;49m\u001b[43m:\u001b[49m\u001b[43m \u001b[49m\u001b[43mby\u001b[49m\u001b[43m,\u001b[49m\u001b[43m \u001b[49m\u001b[38;5;124;43m\"\u001b[39;49m\u001b[38;5;124;43mvalue\u001b[39;49m\u001b[38;5;124;43m\"\u001b[39;49m\u001b[43m:\u001b[49m\u001b[43m \u001b[49m\u001b[43mvalue\u001b[49m\u001b[43m}\u001b[49m\u001b[43m)\u001b[49m[\u001b[38;5;124m\"\u001b[39m\u001b[38;5;124mvalue\u001b[39m\u001b[38;5;124m\"\u001b[39m]\n",
      "File \u001b[1;32m~\\anaconda3\\envs\\myvenv\\lib\\site-packages\\selenium\\webdriver\\remote\\webdriver.py:344\u001b[0m, in \u001b[0;36mWebDriver.execute\u001b[1;34m(self, driver_command, params)\u001b[0m\n\u001b[0;32m    342\u001b[0m response \u001b[38;5;241m=\u001b[39m \u001b[38;5;28mself\u001b[39m\u001b[38;5;241m.\u001b[39mcommand_executor\u001b[38;5;241m.\u001b[39mexecute(driver_command, params)\n\u001b[0;32m    343\u001b[0m \u001b[38;5;28;01mif\u001b[39;00m response:\n\u001b[1;32m--> 344\u001b[0m     \u001b[38;5;28;43mself\u001b[39;49m\u001b[38;5;241;43m.\u001b[39;49m\u001b[43merror_handler\u001b[49m\u001b[38;5;241;43m.\u001b[39;49m\u001b[43mcheck_response\u001b[49m\u001b[43m(\u001b[49m\u001b[43mresponse\u001b[49m\u001b[43m)\u001b[49m\n\u001b[0;32m    345\u001b[0m     response[\u001b[38;5;124m\"\u001b[39m\u001b[38;5;124mvalue\u001b[39m\u001b[38;5;124m\"\u001b[39m] \u001b[38;5;241m=\u001b[39m \u001b[38;5;28mself\u001b[39m\u001b[38;5;241m.\u001b[39m_unwrap_value(response\u001b[38;5;241m.\u001b[39mget(\u001b[38;5;124m\"\u001b[39m\u001b[38;5;124mvalue\u001b[39m\u001b[38;5;124m\"\u001b[39m, \u001b[38;5;28;01mNone\u001b[39;00m))\n\u001b[0;32m    346\u001b[0m     \u001b[38;5;28;01mreturn\u001b[39;00m response\n",
      "File \u001b[1;32m~\\anaconda3\\envs\\myvenv\\lib\\site-packages\\selenium\\webdriver\\remote\\errorhandler.py:229\u001b[0m, in \u001b[0;36mErrorHandler.check_response\u001b[1;34m(self, response)\u001b[0m\n\u001b[0;32m    227\u001b[0m         alert_text \u001b[38;5;241m=\u001b[39m value[\u001b[38;5;124m\"\u001b[39m\u001b[38;5;124malert\u001b[39m\u001b[38;5;124m\"\u001b[39m]\u001b[38;5;241m.\u001b[39mget(\u001b[38;5;124m\"\u001b[39m\u001b[38;5;124mtext\u001b[39m\u001b[38;5;124m\"\u001b[39m)\n\u001b[0;32m    228\u001b[0m     \u001b[38;5;28;01mraise\u001b[39;00m exception_class(message, screen, stacktrace, alert_text)  \u001b[38;5;66;03m# type: ignore[call-arg]  # mypy is not smart enough here\u001b[39;00m\n\u001b[1;32m--> 229\u001b[0m \u001b[38;5;28;01mraise\u001b[39;00m exception_class(message, screen, stacktrace)\n",
      "\u001b[1;31mNoSuchElementException\u001b[0m: Message: no such element: Unable to locate element: {\"method\":\"css selector\",\"selector\":\"div.Paginator_list_paging__OTDcR > button.Paginator_btn_prev__4PdUm.Paginator_disabled__Mwag8\"}\n  (Session info: chrome=116.0.5845.188); For documentation on this error, please visit: https://www.selenium.dev/documentation/webdriver/troubleshooting/errors#no-such-element-exception\nStacktrace:\n\tGetHandleVerifier [0x009337C3+48947]\n\t(No symbol) [0x008C8551]\n\t(No symbol) [0x007CC92D]\n\t(No symbol) [0x007F9E38]\n\t(No symbol) [0x007F9EFB]\n\t(No symbol) [0x00828EF2]\n\t(No symbol) [0x008150D4]\n\t(No symbol) [0x008275DA]\n\t(No symbol) [0x00814E86]\n\t(No symbol) [0x007F16C7]\n\t(No symbol) [0x007F284D]\n\tGetHandleVerifier [0x00B7FDF9+2458985]\n\tGetHandleVerifier [0x00BC744F+2751423]\n\tGetHandleVerifier [0x00BC1361+2726609]\n\tGetHandleVerifier [0x009B0680+560624]\n\t(No symbol) [0x008D238C]\n\t(No symbol) [0x008CE268]\n\t(No symbol) [0x008CE392]\n\t(No symbol) [0x008C10B7]\n\tBaseThreadInitThunk [0x760BFCC9+25]\n\tRtlGetAppContainerNamedObjectPath [0x77367B1E+286]\n\tRtlGetAppContainerNamedObjectPath [0x77367AEE+238]\n"
     ]
    }
   ],
   "source": [
    "all_booklist = [] \n",
    "header = {\"User-Agent\":\"Mozilla/5.0 (Windows NT 10.0; Win64; x64) AppleWebKit/537.36 (KHTML, like Gecko) Chrome/116.0.0.0 Safari/537.36\"}\n",
    "for page in range(1,20):\n",
    "\n",
    "    y = 0 # 마우스 스크롤 시작 지점 \n",
    "    y_step = 1000 # 마우스 스크롤 길이 \n",
    "\n",
    "    for i in range(1,8):\n",
    "        y = y + y_step \n",
    "        script = f\"window.scrollTo({0},{y})\" # JAVASCRIPT로 위치 지정 \n",
    "        driver.execute_script(script) # 스크롤 실행 \n",
    "        time.sleep(5)\n",
    "\n",
    "    page_html = driver.page_source # 페이지 끝에서 40개의 책이 로딩 된 결과를 저장 \n",
    "    soup = bs(page_html,\"lxml\")\n",
    "    all_booklist.append(soup)\n",
    "    driver.find_element(\"div.Paginator_list_paging__OTDcR > button.Paginator_btn_next__OpdVd\").click()\n",
    "    time.sleep(2)\n",
    "    # 다음버튼으로 클릭 \n"
   ]
  },
  {
   "cell_type": "code",
   "execution_count": 37,
   "id": "f0852fcd",
   "metadata": {},
   "outputs": [],
   "source": [
    "soup.select_one(\"div.Paginator_list_paging__OTDcR > button.Paginator_btn_prev__4PdUm.Paginator_disabled__Mwag8\")\n",
    "# 셀렉터 확인용"
   ]
  },
  {
   "cell_type": "code",
   "execution_count": 39,
   "id": "5b0ee6e0",
   "metadata": {
    "scrolled": false
   },
   "outputs": [
    {
     "ename": "TypeError",
     "evalue": "unhashable type: 'slice'",
     "output_type": "error",
     "traceback": [
      "\u001b[1;31m---------------------------------------------------------------------------\u001b[0m",
      "\u001b[1;31mTypeError\u001b[0m                                 Traceback (most recent call last)",
      "Cell \u001b[1;32mIn[39], line 1\u001b[0m\n\u001b[1;32m----> 1\u001b[0m \u001b[43msoup\u001b[49m\u001b[43m[\u001b[49m\u001b[43m:\u001b[49m\u001b[38;5;241;43m1\u001b[39;49m\u001b[43m]\u001b[49m\n",
      "File \u001b[1;32m~\\anaconda3\\envs\\myvenv\\lib\\site-packages\\bs4\\element.py:1573\u001b[0m, in \u001b[0;36mTag.__getitem__\u001b[1;34m(self, key)\u001b[0m\n\u001b[0;32m   1570\u001b[0m \u001b[38;5;28;01mdef\u001b[39;00m \u001b[38;5;21m__getitem__\u001b[39m(\u001b[38;5;28mself\u001b[39m, key):\n\u001b[0;32m   1571\u001b[0m \u001b[38;5;250m    \u001b[39m\u001b[38;5;124;03m\"\"\"tag[key] returns the value of the 'key' attribute for the Tag,\u001b[39;00m\n\u001b[0;32m   1572\u001b[0m \u001b[38;5;124;03m    and throws an exception if it's not there.\"\"\"\u001b[39;00m\n\u001b[1;32m-> 1573\u001b[0m     \u001b[38;5;28;01mreturn\u001b[39;00m \u001b[38;5;28;43mself\u001b[39;49m\u001b[38;5;241;43m.\u001b[39;49m\u001b[43mattrs\u001b[49m\u001b[43m[\u001b[49m\u001b[43mkey\u001b[49m\u001b[43m]\u001b[49m\n",
      "\u001b[1;31mTypeError\u001b[0m: unhashable type: 'slice'"
     ]
    }
   ],
   "source": [
    "soup[:1]"
   ]
  },
  {
   "cell_type": "code",
   "execution_count": 28,
   "id": "52a24ad9",
   "metadata": {
    "scrolled": true
   },
   "outputs": [
    {
     "name": "stdout",
     "output_type": "stream",
     "text": [
      "파이썬 클린 코드\n",
      " (유지보수가 쉬운 파이썬 코드를 만드는 비결)\n",
      "스타트 업 파이썬\n",
      " (코딩 한 달만 시작해 봐!)\n",
      "파이썬 로보틱스\n",
      " (파이썬, ROS, OpenCV를 사용해 자율 주행 로봇 만들기)\n",
      "모던 파이썬 입문\n",
      " (프로그래밍, 시작은 파이썬이다!)\n",
      "파이썬 입문교실\n",
      " (파이썬3 버전 호환 | Windows.Mac 함께 설명)\n",
      "러닝 파이썬 세트\n",
      "None\n",
      "파이썬 머신러닝\n",
      " (최신 예측 분석 기반으로 깊은 통찰력을 얻는 머신러닝 필수 가이드)\n",
      "파이썬 프로그래밍\n",
      "None\n",
      "기계학습 기반의 파이썬 활용\n",
      "None\n",
      "ChatGPT를 활용한 파이썬 워크북\n",
      "None\n",
      "파이썬 프로그래밍\n",
      " (기초부터 실전 프로그래밍까지 한 권에 끝내는)\n",
      "쉽게 배우는 파이썬\n",
      " (누구나 쉽게 배울 수 있는 파이썬 입문서)\n",
      "파이썬 머신러닝 정복하기\n",
      " (기초부터 심화까지)\n",
      "인공지능과 함께하는 파이썬\n",
      "None\n",
      "파이썬 프로그래밍\n",
      " (입문부터 실무까지 한 방에 끝내는, 개정판)\n",
      "파이썬과 C로 구현한 수치해석\n",
      "None\n",
      "백엔드를 위한 Django REST Framework with 파이썬\n",
      "None\n",
      "제대로 빠르게 파이썬 입문\n",
      " (파이썬 프로그래밍의 기초부터 실전까지)\n",
      "파이썬 프로그래밍\n",
      "None\n",
      "파이썬과 파이게임\n",
      " (쉽고 재미있게 예제로 배우는!)\n",
      "파이썬과 아두이노 기초\n",
      "None\n",
      "파이썬 고급 딥러닝\n",
      "None\n",
      "거니의 문과 감성 실용 파이썬\n",
      " (문과생의, 문과생에 의한, 문과생을 위한 실용 파이썬 클래스(비전공자를 위한 코딩 입문서))\n",
      "파이썬으로 쉽게 배우는 자료구조\n",
      " (개정판)\n",
      "파이썬 프로그래밍\n",
      " (자료구조와 알고리즘을 함께 배우는)\n",
      "파이썬 기반 금융 인공지능\n",
      " (파이썬과 케라스를 활용한 금융 시계열 데이터 기반 알고리즘 트레이딩전략)\n",
      "파이썬으로 공부하는 블록체인\n",
      " (파이썬으로 구현하는 웹 3.0)\n",
      "파이썬 코딩 노트북 38\n",
      " (처음으로 프로그래밍 사고의 길을 내다)\n",
      "파이썬·케라스로 시작하는 AI기초\n",
      " (환경구축에서 초급활용까지)\n",
      "파이썬 프로그래밍\n",
      " (컴퓨터 비전공자를 위한 인공지능 활용의 시작)\n",
      "코딩수학 파이썬 1\n",
      "None\n",
      "파이썬 프로그래밍\n",
      " (입문부터 실무까지 한 방에 끝내는)\n",
      "쉽게 따라 만드는 파이썬 주식 자동매매 시스템\n",
      " (증권사 API 사용, 매매전략 구현, 실전 투자 전환까지!)\n",
      "파이썬 마스터 3급\n",
      "None\n",
      "파이썬 플라스크 웹 앱 개발 입문\n",
      "None\n",
      "혼자 공부하는 파이썬\n",
      " (파이썬 최신 버전 반영)\n",
      "파이썬 프로그래밍\n",
      " (데이터과학 및 응용프로그램, 2판)\n",
      "손에 잡히는 파이썬\n",
      " (주피터 노트북을 이용한 파이썬 프로그래밍 | 개념부터 코어까지)\n",
      "파이썬 완벽 가이드\n",
      "None\n",
      "모두를 위한 파이썬\n",
      " (제3판)\n"
     ]
    }
   ],
   "source": [
    "for i in soup.select(\".bookListItem_item_book__1yCey\"):\n",
    "    print(i.select_one(\".bookListItem_text__bglOw span\").text)\n",
    "    print(i.select_one(\".bookListItem_text__bglOw span+span\").text if i.select_one(\".bookListItem_text__bglOw span+span\") is not None else \"None\" )"
   ]
  },
  {
   "cell_type": "code",
   "execution_count": 1,
   "id": "3ba8438e",
   "metadata": {},
   "outputs": [
    {
     "ename": "NameError",
     "evalue": "name 'driver' is not defined",
     "output_type": "error",
     "traceback": [
      "\u001b[1;31m---------------------------------------------------------------------------\u001b[0m",
      "\u001b[1;31mNameError\u001b[0m                                 Traceback (most recent call last)",
      "Cell \u001b[1;32mIn[1], line 1\u001b[0m\n\u001b[1;32m----> 1\u001b[0m \u001b[43mdriver\u001b[49m\u001b[38;5;241m.\u001b[39mset_window_size(\u001b[38;5;241m1920\u001b[39m,\u001b[38;5;241m1080\u001b[39m)\u001b[38;5;66;03m# 웹 브라우저 해상도 조절 \u001b[39;00m\n\u001b[0;32m      2\u001b[0m driver\u001b[38;5;241m.\u001b[39mget(\u001b[38;5;124m\"\u001b[39m\u001b[38;5;124mhttps://www.yes24.com/Product/Category/BestSeller?CategoryNumber=001&sumgb=06\u001b[39m\u001b[38;5;124m\"\u001b[39m)\n",
      "\u001b[1;31mNameError\u001b[0m: name 'driver' is not defined"
     ]
    }
   ],
   "source": [
    "driver.set_window_size(1920,1080)# 웹 브라우저 해상도 조절 \n",
    "driver.get(\"https://www.yes24.com/Product/Category/BestSeller?CategoryNumber=001&sumgb=06\") # 크롤링할 웹사이트 주소 \n"
   ]
  }
 ],
 "metadata": {
  "kernelspec": {
   "display_name": "myvenv",
   "language": "python",
   "name": "myvenv"
  },
  "language_info": {
   "codemirror_mode": {
    "name": "ipython",
    "version": 3
   },
   "file_extension": ".py",
   "mimetype": "text/x-python",
   "name": "python",
   "nbconvert_exporter": "python",
   "pygments_lexer": "ipython3",
   "version": "3.8.17"
  }
 },
 "nbformat": 4,
 "nbformat_minor": 5
}
