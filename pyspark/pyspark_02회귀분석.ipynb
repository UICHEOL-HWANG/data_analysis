{
 "cells": [
  {
   "cell_type": "code",
   "execution_count": 12,
   "id": "c095ae6d-29b2-4e82-916d-f84fb7c9cdd2",
   "metadata": {},
   "outputs": [],
   "source": [
    "import pyspark.pandas as ps \n",
    "from pyspark.sql import SparkSession\n",
    "import pandas as pd \n",
    "import pyspark.sql.functions as f "
   ]
  },
  {
   "cell_type": "code",
   "execution_count": 4,
   "id": "8cc77348-18f3-4568-b91e-583e25fe821e",
   "metadata": {},
   "outputs": [
    {
     "name": "stderr",
     "output_type": "stream",
     "text": [
      "Setting default log level to \"WARN\".\n",
      "To adjust logging level use sc.setLogLevel(newLevel). For SparkR, use setLogLevel(newLevel).\n"
     ]
    },
    {
     "name": "stdout",
     "output_type": "stream",
     "text": [
      "23/11/30 11:46:09 WARN NativeCodeLoader: Unable to load native-hadoop library for your platform... using builtin-java classes where applicable\n",
      "23/11/30 11:46:11 WARN Utils: Service 'SparkUI' could not bind on port 4040. Attempting port 4041.\n"
     ]
    }
   ],
   "source": [
    "spark = SparkSession.builder.config(\"spark.executor.memory\",\"10g\").config(\"spark.driver.memory\",\"2G\").getOrCreate()"
   ]
  },
  {
   "cell_type": "code",
   "execution_count": 124,
   "id": "708dbda9-7039-49f4-991a-bfa0548dbca3",
   "metadata": {},
   "outputs": [],
   "source": [
    "data = spark.read.csv(\"/home/himedia/data/부동산실거래가1998-2023.csv\",header=True)"
   ]
  },
  {
   "cell_type": "code",
   "execution_count": 10,
   "id": "ed19cd3d-da6d-4598-b356-34daaffd8ddf",
   "metadata": {},
   "outputs": [
    {
     "name": "stdout",
     "output_type": "stream",
     "text": [
      "+---------------------------------+-----------+------------+--------+--------------+---+--------+\n",
      "|                           시군구|     단지명|전용면적(㎡)|계약년월|거래금액(만원)| 층|건축년도|\n",
      "+---------------------------------+-----------+------------+--------+--------------+---+--------+\n",
      "|강원특별자치도 양구군 양구읍 상리|       경림|        59.4|  200509|          5000| 11|    1998|\n",
      "|           경기도 의정부시 민락동| 한라비발디|       84.99|  200510|         12750| 19|    2003|\n",
      "|           경기도 의정부시 신곡동|      신일1|      59.878|  200510|          5750|  3|    1997|\n",
      "|           경기도 의정부시 신곡동|       풍림|       49.83|  200510|          5500|  8|    1998|\n",
      "|           경기도 의정부시 용현동|용현현대1차|      129.73|  200511|         12200| 11|    1992|\n",
      "|           경기도 의정부시 용현동|용현현대1차|      129.73|  200511|         11500| 17|    1992|\n",
      "|     강원특별자치도 강릉시 견소동|   송정한신|       43.38|  200601|          4200|  1|    1997|\n",
      "|       강원특별자치도 강릉시 교동|  교동1주공|       59.89|  200601|          7500|  2|    1999|\n",
      "|       강원특별자치도 강릉시 교동|  교동1주공|       59.89|  200601|          8500| 11|    1999|\n",
      "|       강원특별자치도 강릉시 교동|  교동1주공|       84.84|  200601|         12500|  5|    1999|\n",
      "|       강원특별자치도 강릉시 교동|  교동1주공|       59.89|  200601|          5998|  2|    1999|\n",
      "|       강원특별자치도 강릉시 교동|  교동1주공|       59.89|  200601|          7379|  4|    1999|\n",
      "|       강원특별자치도 강릉시 교동|  교동1주공|       49.85|  200601|          5580|  6|    1999|\n",
      "|       강원특별자치도 강릉시 교동|  교동1주공|       59.89|  200601|          7213| 14|    1999|\n",
      "|       강원특별자치도 강릉시 교동|  교동1주공|       59.89|  200601|          7379|  7|    1999|\n",
      "|       강원특별자치도 강릉시 교동|  교동1주공|       59.89|  200601|          7379| 13|    1999|\n",
      "|       강원특별자치도 강릉시 교동|  교동1주공|       59.89|  200601|          7213| 14|    1999|\n",
      "|       강원특별자치도 강릉시 교동|  교동1주공|       59.89|  200601|          7379|  9|    1999|\n",
      "|       강원특별자치도 강릉시 교동|  교동1주공|       59.89|  200601|          7379|  3|    1999|\n",
      "|       강원특별자치도 강릉시 교동|  교동1주공|       59.89|  200601|          8600|  7|    1999|\n",
      "+---------------------------------+-----------+------------+--------+--------------+---+--------+\n",
      "only showing top 20 rows\n",
      "\n"
     ]
    }
   ],
   "source": [
    "data.show()"
   ]
  },
  {
   "cell_type": "code",
   "execution_count": 11,
   "id": "568aa0c0-eff7-4050-bb0c-8425ec9d7ad2",
   "metadata": {},
   "outputs": [
    {
     "name": "stdout",
     "output_type": "stream",
     "text": [
      "root\n",
      " |-- 시군구: string (nullable = true)\n",
      " |-- 단지명: string (nullable = true)\n",
      " |-- 전용면적(㎡): string (nullable = true)\n",
      " |-- 계약년월: string (nullable = true)\n",
      " |-- 거래금액(만원): string (nullable = true)\n",
      " |-- 층: string (nullable = true)\n",
      " |-- 건축년도: string (nullable = true)\n",
      "\n"
     ]
    }
   ],
   "source": [
    "data.printSchema()"
   ]
  },
  {
   "cell_type": "markdown",
   "id": "5e777c2d-c77a-451b-a830-1aca57fb2301",
   "metadata": {},
   "source": [
    "## 전체 데이터의 양 측정\n",
    "* count()\n",
    "* len(DataFrame.columns) = 컬럼 수 "
   ]
  },
  {
   "cell_type": "code",
   "execution_count": 13,
   "id": "8715af28-9d73-49f6-a0e9-c84e7e222352",
   "metadata": {},
   "outputs": [
    {
     "name": "stderr",
     "output_type": "stream",
     "text": [
      "[Stage 6:=======================================>                   (4 + 2) / 6]\r"
     ]
    },
    {
     "name": "stdout",
     "output_type": "stream",
     "text": [
      "9591228 7\n"
     ]
    },
    {
     "name": "stderr",
     "output_type": "stream",
     "text": [
      "                                                                                \r"
     ]
    }
   ],
   "source": [
    "print(data.count(),len(data.columns))"
   ]
  },
  {
   "cell_type": "markdown",
   "id": "d233aa07-1c23-475f-ab2b-dd6a75446976",
   "metadata": {},
   "source": [
    "## 컬럼의 데이터 타입 바꾸기 (거래금액,전용면적) 숫자로 바꾸기"
   ]
  },
  {
   "cell_type": "code",
   "execution_count": 125,
   "id": "c3a9c023-e36c-4ccf-b226-95429e12a63e",
   "metadata": {},
   "outputs": [],
   "source": [
    "data = data.withColumn(\"거래금액(만원)\",f.col(\"거래금액(만원)\").cast(\"int\"))"
   ]
  },
  {
   "cell_type": "code",
   "execution_count": 126,
   "id": "924bd563-903c-420f-950a-df3ebbe40cc4",
   "metadata": {},
   "outputs": [],
   "source": [
    "data = data.withColumn(\"전용면적(㎡)\",f.col(\"전용면적(㎡)\").cast(\"float\"))"
   ]
  },
  {
   "cell_type": "code",
   "execution_count": 24,
   "id": "055e9655-3ad4-423f-900e-08b3334df5a4",
   "metadata": {},
   "outputs": [
    {
     "name": "stdout",
     "output_type": "stream",
     "text": [
      "root\n",
      " |-- 시군구: string (nullable = true)\n",
      " |-- 단지명: string (nullable = true)\n",
      " |-- 전용면적(㎡): float (nullable = true)\n",
      " |-- 계약년월: string (nullable = true)\n",
      " |-- 거래금액(만원): integer (nullable = true)\n",
      " |-- 층: string (nullable = true)\n",
      " |-- 건축년도: string (nullable = true)\n",
      "\n"
     ]
    }
   ],
   "source": [
    "data.printSchema()"
   ]
  },
  {
   "cell_type": "code",
   "execution_count": 25,
   "id": "3df11f4d-3ef1-459e-a5f5-24d26fe8587e",
   "metadata": {},
   "outputs": [
    {
     "name": "stderr",
     "output_type": "stream",
     "text": [
      "                                                                                \r"
     ]
    },
    {
     "data": {
      "text/plain": [
       "DataFrame[summary: string, 시군구: string, 단지명: string, 전용면적(㎡): string, 계약년월: string, 거래금액(만원): string, 층: string, 건축년도: string]"
      ]
     },
     "execution_count": 25,
     "metadata": {},
     "output_type": "execute_result"
    }
   ],
   "source": [
    "data.summary().show()"
   ]
  },
  {
   "cell_type": "markdown",
   "id": "81127dc7-e6a1-42b9-97e6-5d0005758b9d",
   "metadata": {},
   "source": [
    "## 결측값 확인"
   ]
  },
  {
   "cell_type": "code",
   "execution_count": 30,
   "id": "7f70f2ff-dce0-4556-a8e9-6fe4531ca5e3",
   "metadata": {},
   "outputs": [
    {
     "name": "stderr",
     "output_type": "stream",
     "text": [
      "[Stage 13:================================================>         (5 + 1) / 6]\r"
     ]
    },
    {
     "name": "stdout",
     "output_type": "stream",
     "text": [
      "+------+------+------------+--------+--------------+---+--------+\n",
      "|시군구|단지명|전용면적(㎡)|계약년월|거래금액(만원)| 층|건축년도|\n",
      "+------+------+------------+--------+--------------+---+--------+\n",
      "|     0|     0|           0|       0|             0|  0|       0|\n",
      "+------+------+------------+--------+--------------+---+--------+\n",
      "\n"
     ]
    },
    {
     "name": "stderr",
     "output_type": "stream",
     "text": [
      "                                                                                \r"
     ]
    }
   ],
   "source": [
    "data.select(*(f.sum(f.col(c).isNull().cast(\"int\")).alias(c) for c in data.columns)).show()"
   ]
  },
  {
   "cell_type": "markdown",
   "id": "37104151-b48d-40e0-95d3-b37e9fc58dc0",
   "metadata": {},
   "source": [
    "## 데이터프레임에서 이상값 찾기"
   ]
  },
  {
   "cell_type": "code",
   "execution_count": 32,
   "id": "6c83dbd7-a59a-482d-8e7c-8f941417c715",
   "metadata": {},
   "outputs": [
    {
     "name": "stderr",
     "output_type": "stream",
     "text": [
      "                                                                                \r"
     ]
    }
   ],
   "source": [
    "bounds = data.stat.approxQuantile(\"거래금액(만원)\",[0.27,0.75],0)"
   ]
  },
  {
   "cell_type": "code",
   "execution_count": 33,
   "id": "02624e07-0c5b-44b0-90a0-835d1601afc3",
   "metadata": {},
   "outputs": [],
   "source": [
    "# IQR 계산\n",
    "lower_range = bounds[0] - (1.5 * (bounds[1] -bounds[0]))\n",
    "upper_range = bounds[1] + (1.5 * (bounds[1] - bounds[0])) "
   ]
  },
  {
   "cell_type": "code",
   "execution_count": 34,
   "id": "03d0fd53-ebc1-47a2-b75b-df431b5b1c5b",
   "metadata": {},
   "outputs": [
    {
     "name": "stdout",
     "output_type": "stream",
     "text": [
      "-18500.0\n",
      "62300.0\n"
     ]
    }
   ],
   "source": [
    "print(lower_range)\n",
    "print(upper_range)"
   ]
  },
  {
   "cell_type": "code",
   "execution_count": 41,
   "id": "c0c5a102-7514-443d-a3f1-53fc72fa04d6",
   "metadata": {},
   "outputs": [
    {
     "name": "stderr",
     "output_type": "stream",
     "text": [
      "                                                                                \r"
     ]
    },
    {
     "data": {
      "text/plain": [
       "605879"
      ]
     },
     "execution_count": 41,
     "metadata": {},
     "output_type": "execute_result"
    }
   ],
   "source": [
    "data.filter((data[\"거래금액(만원)\"] < lower_range) | (data[\"거래금액(만원)\"] > upper_range)).count()"
   ]
  },
  {
   "cell_type": "markdown",
   "id": "c37abd4d-1352-49e2-a916-e34fbc1a7f32",
   "metadata": {},
   "source": [
    "## 데이터프레임에서 이상 값 찾는 함수"
   ]
  },
  {
   "cell_type": "code",
   "execution_count": null,
   "id": "adf04e5b-3a41-4aef-89a9-d97f0235cac5",
   "metadata": {},
   "outputs": [],
   "source": [
    "data.select"
   ]
  },
  {
   "cell_type": "code",
   "execution_count": 49,
   "id": "48823cfe-5c2f-4630-afe9-acf7ad537e5d",
   "metadata": {},
   "outputs": [],
   "source": [
    "def out_lier(data):\n",
    "    for col_name in data.columns:\n",
    "        if data.select(col_name).dtypes[0][1] in (\"int\",\"float\",\"float32\",\"float62\",\"int32\",\"int64\",\"double\"):\n",
    "            bounds = data.stat.approxQuantile(col_name,[0.27,0.75],0)\n",
    "            # 이상치 범위 계산 \n",
    "            \n",
    "            lower_range = bounds[0] - (1.5 * (bounds[1] -bounds[0]))\n",
    "            upper_range = bounds[1] + (1.5 * (bounds[1] - bounds[0])) \n",
    "            print(col_name,lower_range,upper_range)\n",
    "            # 이상치 필터링 \n",
    "            outliers = data.filter((data[col_name] < lower_range) | (data[col_name] > upper_range))\n",
    "            print(f\"number of outliers: {outliers.count()}\")\n",
    "    return outliers.show()\n",
    "            "
   ]
  },
  {
   "cell_type": "code",
   "execution_count": 50,
   "id": "89cf29cf-88ef-4012-936a-df7c8ac01212",
   "metadata": {},
   "outputs": [
    {
     "name": "stderr",
     "output_type": "stream",
     "text": [
      "                                                                                \r"
     ]
    },
    {
     "name": "stdout",
     "output_type": "stream",
     "text": [
      "전용면적(㎡) 21.5 121.5\n"
     ]
    },
    {
     "name": "stderr",
     "output_type": "stream",
     "text": [
      "                                                                                \r"
     ]
    },
    {
     "name": "stdout",
     "output_type": "stream",
     "text": [
      "number of outliers: 669923\n"
     ]
    },
    {
     "name": "stderr",
     "output_type": "stream",
     "text": [
      "                                                                                \r"
     ]
    },
    {
     "name": "stdout",
     "output_type": "stream",
     "text": [
      "거래금액(만원) -18500.0 62300.0\n"
     ]
    },
    {
     "name": "stderr",
     "output_type": "stream",
     "text": [
      "[Stage 38:======================================>                   (4 + 2) / 6]\r"
     ]
    },
    {
     "name": "stdout",
     "output_type": "stream",
     "text": [
      "number of outliers: 605879\n",
      "+--------------------------+----------------+------------+--------+--------------+---+--------+\n",
      "|                    시군구|          단지명|전용면적(㎡)|계약년월|거래금액(만원)| 층|건축년도|\n",
      "+--------------------------+----------------+------------+--------+--------------+---+--------+\n",
      "|경기도 고양일산동구 마두동|강촌마을(미도파)|       134.0|  200601|         63000| 14|    1993|\n",
      "|경기도 고양일산동구 마두동|강촌마을(미도파)|       134.0|  200601|         63000| 10|    1993|\n",
      "|경기도 고양일산동구 마두동|  강촌마을(영남)|       165.0|  200601|         78000| 18|    1992|\n",
      "|경기도 고양일산동구 마두동|  강촌마을(우방)|       134.0|  200601|         71300| 10|    1993|\n",
      "|경기도 고양일산동구 마두동|  강촌마을(우방)|       134.0|  200601|         73000|  5|    1993|\n",
      "|경기도 고양일산동구 마두동|  강촌마을(우방)|       134.0|  200601|         67000|  7|    1993|\n",
      "|경기도 고양일산동구 마두동|  강촌마을(우방)|       164.0|  200601|         87500| 17|    1993|\n",
      "|경기도 고양일산동구 마두동|  강촌마을(우방)|       164.0|  200601|        102750|  5|    1993|\n",
      "|경기도 고양일산동구 마두동|  강촌마을(한신)|       173.0|  200601|         78500| 17|    1993|\n",
      "|경기도 고양일산동구 마두동|  강촌마을(한신)|       173.0|  200601|         73500| 12|    1993|\n",
      "|경기도 고양일산동구 마두동|  강촌마을(한신)|       134.0|  200601|         67500| 10|    1993|\n",
      "|경기도 고양일산동구 마두동|  백마마을(극동)|       132.0|  200601|         79700|  9|    1992|\n",
      "|경기도 고양일산동구 마두동|  백마마을(극동)|       132.0|  200601|         69000| 11|    1992|\n",
      "|경기도 고양일산동구 마두동|  백마마을(삼성)|       133.0|  200601|         69000|  8|    1993|\n",
      "|경기도 고양일산동구 마두동|  백마마을(삼성)|       133.0|  200601|         72500|  5|    1993|\n",
      "|경기도 고양일산동구 마두동|  백마마을(삼성)|       133.0|  200601|         76400| 18|    1993|\n",
      "|경기도 고양일산동구 마두동|  백마마을(삼환)|       132.0|  200601|         70000|  8|    1992|\n",
      "|경기도 고양일산동구 마두동|  백마마을(삼환)|       132.0|  200601|         71500|  8|    1992|\n",
      "|경기도 고양일산동구 장항동|  호수마을(삼환)|       132.0|  200601|         65000|  9|    1994|\n",
      "|경기도 고양일산서구 일산동|  후곡마을(동신)|       164.0|  200601|         71500|  9|    1994|\n",
      "+--------------------------+----------------+------------+--------+--------------+---+--------+\n",
      "only showing top 20 rows\n",
      "\n"
     ]
    },
    {
     "name": "stderr",
     "output_type": "stream",
     "text": [
      "                                                                                \r"
     ]
    }
   ],
   "source": [
    "out_lier(data)"
   ]
  },
  {
   "cell_type": "markdown",
   "id": "e5b13992-b59b-46d0-827f-a6958ec2a671",
   "metadata": {},
   "source": [
    "## 레이블 인코딩\n",
    "\n",
    "* 데이터프레임의 데이터 타입을 검출한 후 string이면 StringIndexer를 사용해 숫자로 변환"
   ]
  },
  {
   "cell_type": "code",
   "execution_count": 51,
   "id": "9bcbafc4-2ab1-4a0b-b4a7-10adf41958e2",
   "metadata": {},
   "outputs": [],
   "source": [
    "from pyspark.ml.feature import StringIndexer\n",
    "# indexer = StringIndexer(inputCols=[\"Sex\",\"Embarked\"],outputCols=[\"SexIndex\",\"EmbarkedIndex\"])\n",
    "# df = indexer.fit(data).transform(data)"
   ]
  },
  {
   "cell_type": "code",
   "execution_count": 127,
   "id": "017ba326-44f3-4138-a2ca-50df9dcd15fb",
   "metadata": {},
   "outputs": [],
   "source": [
    "def string_index(data):\n",
    "    for col_name in data.columns:\n",
    "        if data.select(col_name).dtypes[0][1] == \"string\":\n",
    "            indexer = StringIndexer(inputCols=[col_name],outputCols=[col_name+\"Index\"])\n",
    "            data = indexer.fit(data).transform(data)\n",
    "    return data"
   ]
  },
  {
   "cell_type": "code",
   "execution_count": 69,
   "id": "03960a06-fbd1-44e4-93c9-f8ba2044c8dd",
   "metadata": {},
   "outputs": [
    {
     "name": "stderr",
     "output_type": "stream",
     "text": [
      "                                                                                \r"
     ]
    }
   ],
   "source": [
    "one_hot = string_index(data)"
   ]
  },
  {
   "cell_type": "code",
   "execution_count": 70,
   "id": "e8bec9ab-3588-4732-95bc-6b5a25d94031",
   "metadata": {},
   "outputs": [
    {
     "name": "stdout",
     "output_type": "stream",
     "text": [
      "23/11/30 15:20:17 WARN DAGScheduler: Broadcasting large task binary with size 1712.4 KiB\n",
      "+---------------------------------+-----------+------------+--------+--------------+---+--------+-----------+-----------+-------------+-------+-------------+\n",
      "|                           시군구|     단지명|전용면적(㎡)|계약년월|거래금액(만원)| 층|건축년도|시군구Index|단지명Index|계약년월Index|층Index|건축년도Index|\n",
      "+---------------------------------+-----------+------------+--------+--------------+---+--------+-----------+-----------+-------------+-------+-------------+\n",
      "|강원특별자치도 양구군 양구읍 상리|       경림|        59.0|  200509|          5000| 11|    1998|     1969.0|     2139.0|        206.0|   10.0|          1.0|\n",
      "|           경기도 의정부시 민락동| 한라비발디|        84.0|  200510|         12750| 19|    2003|       95.0|       25.0|        204.0|   18.0|          9.0|\n",
      "|           경기도 의정부시 신곡동|      신일1|        59.0|  200510|          5750|  3|    1997|       17.0|     6011.0|        204.0|    2.0|          0.0|\n",
      "|           경기도 의정부시 신곡동|       풍림|        49.0|  200510|          5500|  8|    1998|       17.0|       36.0|        204.0|    7.0|          1.0|\n",
      "|           경기도 의정부시 용현동|용현현대1차|       129.0|  200511|         12200| 11|    1992|      187.0|     2206.0|        205.0|   10.0|         13.0|\n",
      "|           경기도 의정부시 용현동|용현현대1차|       129.0|  200511|         11500| 17|    1992|      187.0|     2206.0|        205.0|   16.0|         13.0|\n",
      "|     강원특별자치도 강릉시 견소동|   송정한신|        43.0|  200601|          4200|  1|    1997|     1197.0|     2888.0|        191.0|    4.0|          0.0|\n",
      "|       강원특별자치도 강릉시 교동|  교동1주공|        59.0|  200601|          7500|  2|    1999|      363.0|     1516.0|        191.0|    3.0|          7.0|\n",
      "|       강원특별자치도 강릉시 교동|  교동1주공|        59.0|  200601|          8500| 11|    1999|      363.0|     1516.0|        191.0|   10.0|          7.0|\n",
      "|       강원특별자치도 강릉시 교동|  교동1주공|        84.0|  200601|         12500|  5|    1999|      363.0|     1516.0|        191.0|    1.0|          7.0|\n",
      "|       강원특별자치도 강릉시 교동|  교동1주공|        59.0|  200601|          5998|  2|    1999|      363.0|     1516.0|        191.0|    3.0|          7.0|\n",
      "|       강원특별자치도 강릉시 교동|  교동1주공|        59.0|  200601|          7379|  4|    1999|      363.0|     1516.0|        191.0|    0.0|          7.0|\n",
      "|       강원특별자치도 강릉시 교동|  교동1주공|        49.0|  200601|          5580|  6|    1999|      363.0|     1516.0|        191.0|    5.0|          7.0|\n",
      "|       강원특별자치도 강릉시 교동|  교동1주공|        59.0|  200601|          7213| 14|    1999|      363.0|     1516.0|        191.0|   13.0|          7.0|\n",
      "|       강원특별자치도 강릉시 교동|  교동1주공|        59.0|  200601|          7379|  7|    1999|      363.0|     1516.0|        191.0|    6.0|          7.0|\n",
      "|       강원특별자치도 강릉시 교동|  교동1주공|        59.0|  200601|          7379| 13|    1999|      363.0|     1516.0|        191.0|   12.0|          7.0|\n",
      "|       강원특별자치도 강릉시 교동|  교동1주공|        59.0|  200601|          7213| 14|    1999|      363.0|     1516.0|        191.0|   13.0|          7.0|\n",
      "|       강원특별자치도 강릉시 교동|  교동1주공|        59.0|  200601|          7379|  9|    1999|      363.0|     1516.0|        191.0|    8.0|          7.0|\n",
      "|       강원특별자치도 강릉시 교동|  교동1주공|        59.0|  200601|          7379|  3|    1999|      363.0|     1516.0|        191.0|    2.0|          7.0|\n",
      "|       강원특별자치도 강릉시 교동|  교동1주공|        59.0|  200601|          8600|  7|    1999|      363.0|     1516.0|        191.0|    6.0|          7.0|\n",
      "+---------------------------------+-----------+------------+--------+--------------+---+--------+-----------+-----------+-------------+-------+-------------+\n",
      "only showing top 20 rows\n",
      "\n"
     ]
    }
   ],
   "source": [
    "one_hot.show()"
   ]
  },
  {
   "cell_type": "markdown",
   "id": "af8218ec-7f24-42bb-8f5e-e2761b37e132",
   "metadata": {},
   "source": [
    "## 레이블 인코딩과 one_hot 인코딩 한 번에 하기 \n",
    "* 데이터프레임에서 데이터 타입이 string인 컬럼 찾기\n",
    "* StringIndexer를 이용해 레이블 인코딩(문자 → 숫자)\n",
    "* 숫자로 변경된 컬럼을 OneHotEncoder를 이용해서 OneHotEncoding"
   ]
  },
  {
   "cell_type": "code",
   "execution_count": 128,
   "id": "f912d837-a4b5-426b-b4de-61d343c12aa6",
   "metadata": {},
   "outputs": [
    {
     "name": "stderr",
     "output_type": "stream",
     "text": [
      "                                                                                \r"
     ]
    }
   ],
   "source": [
    "def str2index_onehot(data):\n",
    "    cols = []\n",
    "    for col_name in data.columns:\n",
    "        if data.select(col_name).dtypes[0][1] == \"string\":\n",
    "            # StringIndexer를 사용하여 문자열을 인덱스로 변환\n",
    "            indexer = StringIndexer(inputCols=[col_name], outputCols=[col_name + \"Index\"])\n",
    "            data = indexer.fit(data).transform(data)\n",
    "\n",
    "            # OneHotEncoder를 사용하여 인덱스를 원핫 인코딩으로 변환\n",
    "            encoder = OneHotEncoder(inputCols=[col_name + \"Index\"], outputCols=[f\"{col_name}_Vec\"])\n",
    "            data = encoder.fit(data).transform(data)\n",
    "\n",
    "            cols.append(col_name)\n",
    "            cols.append(col_name + \"Index\")\n",
    "            cols.append(col_name+ \"_Vec\")\n",
    "    return data, cols\n",
    "\n",
    "# 함수 사용 예시\n",
    "# data와 cols는 함수에서 반환하는 값을 받습니다.\n",
    "data2, cols = str2index_onehot(data)"
   ]
  },
  {
   "cell_type": "code",
   "execution_count": 132,
   "id": "af70480b-3c63-464f-9800-634e2e9c00d1",
   "metadata": {},
   "outputs": [
    {
     "name": "stdout",
     "output_type": "stream",
     "text": [
      "23/11/30 16:01:00 WARN DAGScheduler: Broadcasting large task binary with size 1762.5 KiB\n",
      "-RECORD 0-------------------------------------------\n",
      " 시군구         | 강원특별자치도 양구군 양구읍 상리 \n",
      " 단지명         | 경림                              \n",
      " 전용면적(㎡)   | 59.4                              \n",
      " 계약년월       | 200509                            \n",
      " 거래금액(만원) | 5000                              \n",
      " 층             | 11                                \n",
      " 건축년도       | 1998                              \n",
      " 시군구Index    | 1969.0                            \n",
      " 시군구_Vec     | (3653,[1969],[1.0])               \n",
      " 단지명Index    | 2139.0                            \n",
      " 단지명_Vec     | (34151,[2139],[1.0])              \n",
      " 계약년월Index  | 206.0                             \n",
      " 계약년월_Vec   | (206,[],[])                       \n",
      " 층Index        | 10.0                              \n",
      " 층_Vec         | (87,[10],[1.0])                   \n",
      " 건축년도Index  | 1.0                               \n",
      " 건축년도_Vec   | (60,[1],[1.0])                    \n",
      "-RECORD 1-------------------------------------------\n",
      " 시군구         | 경기도 의정부시 민락동            \n",
      " 단지명         | 한라비발디                        \n",
      " 전용면적(㎡)   | 84.99                             \n",
      " 계약년월       | 200510                            \n",
      " 거래금액(만원) | 12750                             \n",
      " 층             | 19                                \n",
      " 건축년도       | 2003                              \n",
      " 시군구Index    | 95.0                              \n",
      " 시군구_Vec     | (3653,[95],[1.0])                 \n",
      " 단지명Index    | 25.0                              \n",
      " 단지명_Vec     | (34151,[25],[1.0])                \n",
      " 계약년월Index  | 204.0                             \n",
      " 계약년월_Vec   | (206,[204],[1.0])                 \n",
      " 층Index        | 18.0                              \n",
      " 층_Vec         | (87,[18],[1.0])                   \n",
      " 건축년도Index  | 9.0                               \n",
      " 건축년도_Vec   | (60,[9],[1.0])                    \n",
      "-RECORD 2-------------------------------------------\n",
      " 시군구         | 경기도 의정부시 신곡동            \n",
      " 단지명         | 신일1                             \n",
      " 전용면적(㎡)   | 59.878                            \n",
      " 계약년월       | 200510                            \n",
      " 거래금액(만원) | 5750                              \n",
      " 층             | 3                                 \n",
      " 건축년도       | 1997                              \n",
      " 시군구Index    | 17.0                              \n",
      " 시군구_Vec     | (3653,[17],[1.0])                 \n",
      " 단지명Index    | 6011.0                            \n",
      " 단지명_Vec     | (34151,[6011],[1.0])              \n",
      " 계약년월Index  | 204.0                             \n",
      " 계약년월_Vec   | (206,[204],[1.0])                 \n",
      " 층Index        | 2.0                               \n",
      " 층_Vec         | (87,[2],[1.0])                    \n",
      " 건축년도Index  | 0.0                               \n",
      " 건축년도_Vec   | (60,[0],[1.0])                    \n",
      "-RECORD 3-------------------------------------------\n",
      " 시군구         | 경기도 의정부시 신곡동            \n",
      " 단지명         | 풍림                              \n",
      " 전용면적(㎡)   | 49.83                             \n",
      " 계약년월       | 200510                            \n",
      " 거래금액(만원) | 5500                              \n",
      " 층             | 8                                 \n",
      " 건축년도       | 1998                              \n",
      " 시군구Index    | 17.0                              \n",
      " 시군구_Vec     | (3653,[17],[1.0])                 \n",
      " 단지명Index    | 36.0                              \n",
      " 단지명_Vec     | (34151,[36],[1.0])                \n",
      " 계약년월Index  | 204.0                             \n",
      " 계약년월_Vec   | (206,[204],[1.0])                 \n",
      " 층Index        | 7.0                               \n",
      " 층_Vec         | (87,[7],[1.0])                    \n",
      " 건축년도Index  | 1.0                               \n",
      " 건축년도_Vec   | (60,[1],[1.0])                    \n",
      "-RECORD 4-------------------------------------------\n",
      " 시군구         | 경기도 의정부시 용현동            \n",
      " 단지명         | 용현현대1차                       \n",
      " 전용면적(㎡)   | 129.73                            \n",
      " 계약년월       | 200511                            \n",
      " 거래금액(만원) | 12200                             \n",
      " 층             | 11                                \n",
      " 건축년도       | 1992                              \n",
      " 시군구Index    | 187.0                             \n",
      " 시군구_Vec     | (3653,[187],[1.0])                \n",
      " 단지명Index    | 2206.0                            \n",
      " 단지명_Vec     | (34151,[2206],[1.0])              \n",
      " 계약년월Index  | 205.0                             \n",
      " 계약년월_Vec   | (206,[205],[1.0])                 \n",
      " 층Index        | 10.0                              \n",
      " 층_Vec         | (87,[10],[1.0])                   \n",
      " 건축년도Index  | 13.0                              \n",
      " 건축년도_Vec   | (60,[13],[1.0])                   \n",
      "-RECORD 5-------------------------------------------\n",
      " 시군구         | 경기도 의정부시 용현동            \n",
      " 단지명         | 용현현대1차                       \n",
      " 전용면적(㎡)   | 129.73                            \n",
      " 계약년월       | 200511                            \n",
      " 거래금액(만원) | 11500                             \n",
      " 층             | 17                                \n",
      " 건축년도       | 1992                              \n",
      " 시군구Index    | 187.0                             \n",
      " 시군구_Vec     | (3653,[187],[1.0])                \n",
      " 단지명Index    | 2206.0                            \n",
      " 단지명_Vec     | (34151,[2206],[1.0])              \n",
      " 계약년월Index  | 205.0                             \n",
      " 계약년월_Vec   | (206,[205],[1.0])                 \n",
      " 층Index        | 16.0                              \n",
      " 층_Vec         | (87,[16],[1.0])                   \n",
      " 건축년도Index  | 13.0                              \n",
      " 건축년도_Vec   | (60,[13],[1.0])                   \n",
      "-RECORD 6-------------------------------------------\n",
      " 시군구         | 강원특별자치도 강릉시 견소동      \n",
      " 단지명         | 송정한신                          \n",
      " 전용면적(㎡)   | 43.38                             \n",
      " 계약년월       | 200601                            \n",
      " 거래금액(만원) | 4200                              \n",
      " 층             | 1                                 \n",
      " 건축년도       | 1997                              \n",
      " 시군구Index    | 1197.0                            \n",
      " 시군구_Vec     | (3653,[1197],[1.0])               \n",
      " 단지명Index    | 2888.0                            \n",
      " 단지명_Vec     | (34151,[2888],[1.0])              \n",
      " 계약년월Index  | 191.0                             \n",
      " 계약년월_Vec   | (206,[191],[1.0])                 \n",
      " 층Index        | 4.0                               \n",
      " 층_Vec         | (87,[4],[1.0])                    \n",
      " 건축년도Index  | 0.0                               \n",
      " 건축년도_Vec   | (60,[0],[1.0])                    \n",
      "-RECORD 7-------------------------------------------\n",
      " 시군구         | 강원특별자치도 강릉시 교동        \n",
      " 단지명         | 교동1주공                         \n",
      " 전용면적(㎡)   | 59.89                             \n",
      " 계약년월       | 200601                            \n",
      " 거래금액(만원) | 7500                              \n",
      " 층             | 2                                 \n",
      " 건축년도       | 1999                              \n",
      " 시군구Index    | 363.0                             \n",
      " 시군구_Vec     | (3653,[363],[1.0])                \n",
      " 단지명Index    | 1516.0                            \n",
      " 단지명_Vec     | (34151,[1516],[1.0])              \n",
      " 계약년월Index  | 191.0                             \n",
      " 계약년월_Vec   | (206,[191],[1.0])                 \n",
      " 층Index        | 3.0                               \n",
      " 층_Vec         | (87,[3],[1.0])                    \n",
      " 건축년도Index  | 7.0                               \n",
      " 건축년도_Vec   | (60,[7],[1.0])                    \n",
      "-RECORD 8-------------------------------------------\n",
      " 시군구         | 강원특별자치도 강릉시 교동        \n",
      " 단지명         | 교동1주공                         \n",
      " 전용면적(㎡)   | 59.89                             \n",
      " 계약년월       | 200601                            \n",
      " 거래금액(만원) | 8500                              \n",
      " 층             | 11                                \n",
      " 건축년도       | 1999                              \n",
      " 시군구Index    | 363.0                             \n",
      " 시군구_Vec     | (3653,[363],[1.0])                \n",
      " 단지명Index    | 1516.0                            \n",
      " 단지명_Vec     | (34151,[1516],[1.0])              \n",
      " 계약년월Index  | 191.0                             \n",
      " 계약년월_Vec   | (206,[191],[1.0])                 \n",
      " 층Index        | 10.0                              \n",
      " 층_Vec         | (87,[10],[1.0])                   \n",
      " 건축년도Index  | 7.0                               \n",
      " 건축년도_Vec   | (60,[7],[1.0])                    \n",
      "-RECORD 9-------------------------------------------\n",
      " 시군구         | 강원특별자치도 강릉시 교동        \n",
      " 단지명         | 교동1주공                         \n",
      " 전용면적(㎡)   | 84.84                             \n",
      " 계약년월       | 200601                            \n",
      " 거래금액(만원) | 12500                             \n",
      " 층             | 5                                 \n",
      " 건축년도       | 1999                              \n",
      " 시군구Index    | 363.0                             \n",
      " 시군구_Vec     | (3653,[363],[1.0])                \n",
      " 단지명Index    | 1516.0                            \n",
      " 단지명_Vec     | (34151,[1516],[1.0])              \n",
      " 계약년월Index  | 191.0                             \n",
      " 계약년월_Vec   | (206,[191],[1.0])                 \n",
      " 층Index        | 1.0                               \n",
      " 층_Vec         | (87,[1],[1.0])                    \n",
      " 건축년도Index  | 7.0                               \n",
      " 건축년도_Vec   | (60,[7],[1.0])                    \n",
      "-RECORD 10------------------------------------------\n",
      " 시군구         | 강원특별자치도 강릉시 교동        \n",
      " 단지명         | 교동1주공                         \n",
      " 전용면적(㎡)   | 59.89                             \n",
      " 계약년월       | 200601                            \n",
      " 거래금액(만원) | 5998                              \n",
      " 층             | 2                                 \n",
      " 건축년도       | 1999                              \n",
      " 시군구Index    | 363.0                             \n",
      " 시군구_Vec     | (3653,[363],[1.0])                \n",
      " 단지명Index    | 1516.0                            \n",
      " 단지명_Vec     | (34151,[1516],[1.0])              \n",
      " 계약년월Index  | 191.0                             \n",
      " 계약년월_Vec   | (206,[191],[1.0])                 \n",
      " 층Index        | 3.0                               \n",
      " 층_Vec         | (87,[3],[1.0])                    \n",
      " 건축년도Index  | 7.0                               \n",
      " 건축년도_Vec   | (60,[7],[1.0])                    \n",
      "-RECORD 11------------------------------------------\n",
      " 시군구         | 강원특별자치도 강릉시 교동        \n",
      " 단지명         | 교동1주공                         \n",
      " 전용면적(㎡)   | 59.89                             \n",
      " 계약년월       | 200601                            \n",
      " 거래금액(만원) | 7379                              \n",
      " 층             | 4                                 \n",
      " 건축년도       | 1999                              \n",
      " 시군구Index    | 363.0                             \n",
      " 시군구_Vec     | (3653,[363],[1.0])                \n",
      " 단지명Index    | 1516.0                            \n",
      " 단지명_Vec     | (34151,[1516],[1.0])              \n",
      " 계약년월Index  | 191.0                             \n",
      " 계약년월_Vec   | (206,[191],[1.0])                 \n",
      " 층Index        | 0.0                               \n",
      " 층_Vec         | (87,[0],[1.0])                    \n",
      " 건축년도Index  | 7.0                               \n",
      " 건축년도_Vec   | (60,[7],[1.0])                    \n",
      "-RECORD 12------------------------------------------\n",
      " 시군구         | 강원특별자치도 강릉시 교동        \n",
      " 단지명         | 교동1주공                         \n",
      " 전용면적(㎡)   | 49.85                             \n",
      " 계약년월       | 200601                            \n",
      " 거래금액(만원) | 5580                              \n",
      " 층             | 6                                 \n",
      " 건축년도       | 1999                              \n",
      " 시군구Index    | 363.0                             \n",
      " 시군구_Vec     | (3653,[363],[1.0])                \n",
      " 단지명Index    | 1516.0                            \n",
      " 단지명_Vec     | (34151,[1516],[1.0])              \n",
      " 계약년월Index  | 191.0                             \n",
      " 계약년월_Vec   | (206,[191],[1.0])                 \n",
      " 층Index        | 5.0                               \n",
      " 층_Vec         | (87,[5],[1.0])                    \n",
      " 건축년도Index  | 7.0                               \n",
      " 건축년도_Vec   | (60,[7],[1.0])                    \n",
      "-RECORD 13------------------------------------------\n",
      " 시군구         | 강원특별자치도 강릉시 교동        \n",
      " 단지명         | 교동1주공                         \n",
      " 전용면적(㎡)   | 59.89                             \n",
      " 계약년월       | 200601                            \n",
      " 거래금액(만원) | 7213                              \n",
      " 층             | 14                                \n",
      " 건축년도       | 1999                              \n",
      " 시군구Index    | 363.0                             \n",
      " 시군구_Vec     | (3653,[363],[1.0])                \n",
      " 단지명Index    | 1516.0                            \n",
      " 단지명_Vec     | (34151,[1516],[1.0])              \n",
      " 계약년월Index  | 191.0                             \n",
      " 계약년월_Vec   | (206,[191],[1.0])                 \n",
      " 층Index        | 13.0                              \n",
      " 층_Vec         | (87,[13],[1.0])                   \n",
      " 건축년도Index  | 7.0                               \n",
      " 건축년도_Vec   | (60,[7],[1.0])                    \n",
      "-RECORD 14------------------------------------------\n",
      " 시군구         | 강원특별자치도 강릉시 교동        \n",
      " 단지명         | 교동1주공                         \n",
      " 전용면적(㎡)   | 59.89                             \n",
      " 계약년월       | 200601                            \n",
      " 거래금액(만원) | 7379                              \n",
      " 층             | 7                                 \n",
      " 건축년도       | 1999                              \n",
      " 시군구Index    | 363.0                             \n",
      " 시군구_Vec     | (3653,[363],[1.0])                \n",
      " 단지명Index    | 1516.0                            \n",
      " 단지명_Vec     | (34151,[1516],[1.0])              \n",
      " 계약년월Index  | 191.0                             \n",
      " 계약년월_Vec   | (206,[191],[1.0])                 \n",
      " 층Index        | 6.0                               \n",
      " 층_Vec         | (87,[6],[1.0])                    \n",
      " 건축년도Index  | 7.0                               \n",
      " 건축년도_Vec   | (60,[7],[1.0])                    \n",
      "-RECORD 15------------------------------------------\n",
      " 시군구         | 강원특별자치도 강릉시 교동        \n",
      " 단지명         | 교동1주공                         \n",
      " 전용면적(㎡)   | 59.89                             \n",
      " 계약년월       | 200601                            \n",
      " 거래금액(만원) | 7379                              \n",
      " 층             | 13                                \n",
      " 건축년도       | 1999                              \n",
      " 시군구Index    | 363.0                             \n",
      " 시군구_Vec     | (3653,[363],[1.0])                \n",
      " 단지명Index    | 1516.0                            \n",
      " 단지명_Vec     | (34151,[1516],[1.0])              \n",
      " 계약년월Index  | 191.0                             \n",
      " 계약년월_Vec   | (206,[191],[1.0])                 \n",
      " 층Index        | 12.0                              \n",
      " 층_Vec         | (87,[12],[1.0])                   \n",
      " 건축년도Index  | 7.0                               \n",
      " 건축년도_Vec   | (60,[7],[1.0])                    \n",
      "-RECORD 16------------------------------------------\n",
      " 시군구         | 강원특별자치도 강릉시 교동        \n",
      " 단지명         | 교동1주공                         \n",
      " 전용면적(㎡)   | 59.89                             \n",
      " 계약년월       | 200601                            \n",
      " 거래금액(만원) | 7213                              \n",
      " 층             | 14                                \n",
      " 건축년도       | 1999                              \n",
      " 시군구Index    | 363.0                             \n",
      " 시군구_Vec     | (3653,[363],[1.0])                \n",
      " 단지명Index    | 1516.0                            \n",
      " 단지명_Vec     | (34151,[1516],[1.0])              \n",
      " 계약년월Index  | 191.0                             \n",
      " 계약년월_Vec   | (206,[191],[1.0])                 \n",
      " 층Index        | 13.0                              \n",
      " 층_Vec         | (87,[13],[1.0])                   \n",
      " 건축년도Index  | 7.0                               \n",
      " 건축년도_Vec   | (60,[7],[1.0])                    \n",
      "-RECORD 17------------------------------------------\n",
      " 시군구         | 강원특별자치도 강릉시 교동        \n",
      " 단지명         | 교동1주공                         \n",
      " 전용면적(㎡)   | 59.89                             \n",
      " 계약년월       | 200601                            \n",
      " 거래금액(만원) | 7379                              \n",
      " 층             | 9                                 \n",
      " 건축년도       | 1999                              \n",
      " 시군구Index    | 363.0                             \n",
      " 시군구_Vec     | (3653,[363],[1.0])                \n",
      " 단지명Index    | 1516.0                            \n",
      " 단지명_Vec     | (34151,[1516],[1.0])              \n",
      " 계약년월Index  | 191.0                             \n",
      " 계약년월_Vec   | (206,[191],[1.0])                 \n",
      " 층Index        | 8.0                               \n",
      " 층_Vec         | (87,[8],[1.0])                    \n",
      " 건축년도Index  | 7.0                               \n",
      " 건축년도_Vec   | (60,[7],[1.0])                    \n",
      "-RECORD 18------------------------------------------\n",
      " 시군구         | 강원특별자치도 강릉시 교동        \n",
      " 단지명         | 교동1주공                         \n",
      " 전용면적(㎡)   | 59.89                             \n",
      " 계약년월       | 200601                            \n",
      " 거래금액(만원) | 7379                              \n",
      " 층             | 3                                 \n",
      " 건축년도       | 1999                              \n",
      " 시군구Index    | 363.0                             \n",
      " 시군구_Vec     | (3653,[363],[1.0])                \n",
      " 단지명Index    | 1516.0                            \n",
      " 단지명_Vec     | (34151,[1516],[1.0])              \n",
      " 계약년월Index  | 191.0                             \n",
      " 계약년월_Vec   | (206,[191],[1.0])                 \n",
      " 층Index        | 2.0                               \n",
      " 층_Vec         | (87,[2],[1.0])                    \n",
      " 건축년도Index  | 7.0                               \n",
      " 건축년도_Vec   | (60,[7],[1.0])                    \n",
      "-RECORD 19------------------------------------------\n",
      " 시군구         | 강원특별자치도 강릉시 교동        \n",
      " 단지명         | 교동1주공                         \n",
      " 전용면적(㎡)   | 59.89                             \n",
      " 계약년월       | 200601                            \n",
      " 거래금액(만원) | 8600                              \n",
      " 층             | 7                                 \n",
      " 건축년도       | 1999                              \n",
      " 시군구Index    | 363.0                             \n",
      " 시군구_Vec     | (3653,[363],[1.0])                \n",
      " 단지명Index    | 1516.0                            \n",
      " 단지명_Vec     | (34151,[1516],[1.0])              \n",
      " 계약년월Index  | 191.0                             \n",
      " 계약년월_Vec   | (206,[191],[1.0])                 \n",
      " 층Index        | 6.0                               \n",
      " 층_Vec         | (87,[6],[1.0])                    \n",
      " 건축년도Index  | 7.0                               \n",
      " 건축년도_Vec   | (60,[7],[1.0])                    \n",
      "only showing top 20 rows\n",
      "\n"
     ]
    }
   ],
   "source": [
    "data2.show(vertical=True)"
   ]
  },
  {
   "cell_type": "code",
   "execution_count": 114,
   "id": "02a1525c-c56f-4970-8c26-480c99f6fcef",
   "metadata": {},
   "outputs": [
    {
     "data": {
      "text/plain": [
       "['시군구',\n",
       " '시군구Index',\n",
       " '시군구_Vec',\n",
       " '단지명',\n",
       " '단지명Index',\n",
       " '단지명_Vec',\n",
       " '전용면적(㎡)',\n",
       " '전용면적(㎡)Index',\n",
       " '전용면적(㎡)_Vec',\n",
       " '계약년월',\n",
       " '계약년월Index',\n",
       " '계약년월_Vec',\n",
       " '거래금액(만원)',\n",
       " '거래금액(만원)Index',\n",
       " '거래금액(만원)_Vec',\n",
       " '층',\n",
       " '층Index',\n",
       " '층_Vec',\n",
       " '건축년도',\n",
       " '건축년도Index',\n",
       " '건축년도_Vec']"
      ]
     },
     "execution_count": 114,
     "metadata": {},
     "output_type": "execute_result"
    }
   ],
   "source": [
    "cols"
   ]
  },
  {
   "cell_type": "code",
   "execution_count": 133,
   "id": "a8f12b16-4b60-4a57-8460-dab5b5d961c6",
   "metadata": {},
   "outputs": [],
   "source": [
    "data3 = data2.drop('시군구','시군구Index','단지명','단지명Index','계약년월','계약년월Index','층','층Index','건축년도','건축년도_Vec')"
   ]
  },
  {
   "cell_type": "code",
   "execution_count": 134,
   "id": "597f53a3-33ba-4972-87b4-795663ba6a97",
   "metadata": {},
   "outputs": [
    {
     "name": "stdout",
     "output_type": "stream",
     "text": [
      "23/11/30 16:01:10 WARN DAGScheduler: Broadcasting large task binary with size 1756.5 KiB\n",
      "+------------+--------------+-------------------+--------------------+-----------------+---------------+-------------+\n",
      "|전용면적(㎡)|거래금액(만원)|         시군구_Vec|          단지명_Vec|     계약년월_Vec|         층_Vec|건축년도Index|\n",
      "+------------+--------------+-------------------+--------------------+-----------------+---------------+-------------+\n",
      "|        59.4|          5000|(3653,[1969],[1.0])|(34151,[2139],[1.0])|      (206,[],[])|(87,[10],[1.0])|          1.0|\n",
      "|       84.99|         12750|  (3653,[95],[1.0])|  (34151,[25],[1.0])|(206,[204],[1.0])|(87,[18],[1.0])|          9.0|\n",
      "|      59.878|          5750|  (3653,[17],[1.0])|(34151,[6011],[1.0])|(206,[204],[1.0])| (87,[2],[1.0])|          0.0|\n",
      "|       49.83|          5500|  (3653,[17],[1.0])|  (34151,[36],[1.0])|(206,[204],[1.0])| (87,[7],[1.0])|          1.0|\n",
      "|      129.73|         12200| (3653,[187],[1.0])|(34151,[2206],[1.0])|(206,[205],[1.0])|(87,[10],[1.0])|         13.0|\n",
      "|      129.73|         11500| (3653,[187],[1.0])|(34151,[2206],[1.0])|(206,[205],[1.0])|(87,[16],[1.0])|         13.0|\n",
      "|       43.38|          4200|(3653,[1197],[1.0])|(34151,[2888],[1.0])|(206,[191],[1.0])| (87,[4],[1.0])|          0.0|\n",
      "|       59.89|          7500| (3653,[363],[1.0])|(34151,[1516],[1.0])|(206,[191],[1.0])| (87,[3],[1.0])|          7.0|\n",
      "|       59.89|          8500| (3653,[363],[1.0])|(34151,[1516],[1.0])|(206,[191],[1.0])|(87,[10],[1.0])|          7.0|\n",
      "|       84.84|         12500| (3653,[363],[1.0])|(34151,[1516],[1.0])|(206,[191],[1.0])| (87,[1],[1.0])|          7.0|\n",
      "|       59.89|          5998| (3653,[363],[1.0])|(34151,[1516],[1.0])|(206,[191],[1.0])| (87,[3],[1.0])|          7.0|\n",
      "|       59.89|          7379| (3653,[363],[1.0])|(34151,[1516],[1.0])|(206,[191],[1.0])| (87,[0],[1.0])|          7.0|\n",
      "|       49.85|          5580| (3653,[363],[1.0])|(34151,[1516],[1.0])|(206,[191],[1.0])| (87,[5],[1.0])|          7.0|\n",
      "|       59.89|          7213| (3653,[363],[1.0])|(34151,[1516],[1.0])|(206,[191],[1.0])|(87,[13],[1.0])|          7.0|\n",
      "|       59.89|          7379| (3653,[363],[1.0])|(34151,[1516],[1.0])|(206,[191],[1.0])| (87,[6],[1.0])|          7.0|\n",
      "|       59.89|          7379| (3653,[363],[1.0])|(34151,[1516],[1.0])|(206,[191],[1.0])|(87,[12],[1.0])|          7.0|\n",
      "|       59.89|          7213| (3653,[363],[1.0])|(34151,[1516],[1.0])|(206,[191],[1.0])|(87,[13],[1.0])|          7.0|\n",
      "|       59.89|          7379| (3653,[363],[1.0])|(34151,[1516],[1.0])|(206,[191],[1.0])| (87,[8],[1.0])|          7.0|\n",
      "|       59.89|          7379| (3653,[363],[1.0])|(34151,[1516],[1.0])|(206,[191],[1.0])| (87,[2],[1.0])|          7.0|\n",
      "|       59.89|          8600| (3653,[363],[1.0])|(34151,[1516],[1.0])|(206,[191],[1.0])| (87,[6],[1.0])|          7.0|\n",
      "+------------+--------------+-------------------+--------------------+-----------------+---------------+-------------+\n",
      "only showing top 20 rows\n",
      "\n"
     ]
    }
   ],
   "source": [
    "data3.show()"
   ]
  },
  {
   "cell_type": "code",
   "execution_count": 135,
   "id": "f0145e94-6551-4d71-81a1-8de355190c23",
   "metadata": {},
   "outputs": [
    {
     "name": "stdout",
     "output_type": "stream",
     "text": [
      "root\n",
      " |-- 전용면적(㎡): float (nullable = true)\n",
      " |-- 거래금액(만원): integer (nullable = true)\n",
      " |-- 시군구_Vec: vector (nullable = true)\n",
      " |-- 단지명_Vec: vector (nullable = true)\n",
      " |-- 계약년월_Vec: vector (nullable = true)\n",
      " |-- 층_Vec: vector (nullable = true)\n",
      " |-- 건축년도Index: double (nullable = false)\n",
      "\n"
     ]
    }
   ],
   "source": [
    "data3.printSchema()"
   ]
  },
  {
   "cell_type": "markdown",
   "id": "18234ec3-6979-4542-aa89-8d8165a9cccd",
   "metadata": {},
   "source": [
    "## 독립변수를 1개의 벡터로 변환하고 독립변수와 종속변수만 남기기"
   ]
  },
  {
   "cell_type": "code",
   "execution_count": 136,
   "id": "9f2a378c-f074-4738-a5a7-6d7f4052a037",
   "metadata": {},
   "outputs": [
    {
     "name": "stdout",
     "output_type": "stream",
     "text": [
      "23/11/30 16:03:09 WARN DAGScheduler: Broadcasting large task binary with size 1777.6 KiB\n",
      "+------------+--------------+-------------------+--------------------+-----------------+---------------+-------------+--------------------+\n",
      "|전용면적(㎡)|거래금액(만원)|         시군구_Vec|          단지명_Vec|     계약년월_Vec|         층_Vec|건축년도Index|            Features|\n",
      "+------------+--------------+-------------------+--------------------+-----------------+---------------+-------------+--------------------+\n",
      "|        59.4|          5000|(3653,[1969],[1.0])|(34151,[2139],[1.0])|      (206,[],[])|(87,[10],[1.0])|          1.0|(3948,[0,1970,387...|\n",
      "|       84.99|         12750|  (3653,[95],[1.0])|  (34151,[25],[1.0])|(206,[204],[1.0])|(87,[18],[1.0])|          9.0|(3948,[0,96,3858,...|\n",
      "|      59.878|          5750|  (3653,[17],[1.0])|(34151,[6011],[1.0])|(206,[204],[1.0])| (87,[2],[1.0])|          0.0|(3948,[0,18,3858,...|\n",
      "|       49.83|          5500|  (3653,[17],[1.0])|  (34151,[36],[1.0])|(206,[204],[1.0])| (87,[7],[1.0])|          1.0|(3948,[0,18,3858,...|\n",
      "|      129.73|         12200| (3653,[187],[1.0])|(34151,[2206],[1.0])|(206,[205],[1.0])|(87,[10],[1.0])|         13.0|(3948,[0,188,3859...|\n",
      "|      129.73|         11500| (3653,[187],[1.0])|(34151,[2206],[1.0])|(206,[205],[1.0])|(87,[16],[1.0])|         13.0|(3948,[0,188,3859...|\n",
      "|       43.38|          4200|(3653,[1197],[1.0])|(34151,[2888],[1.0])|(206,[191],[1.0])| (87,[4],[1.0])|          0.0|(3948,[0,1198,384...|\n",
      "|       59.89|          7500| (3653,[363],[1.0])|(34151,[1516],[1.0])|(206,[191],[1.0])| (87,[3],[1.0])|          7.0|(3948,[0,364,3845...|\n",
      "|       59.89|          8500| (3653,[363],[1.0])|(34151,[1516],[1.0])|(206,[191],[1.0])|(87,[10],[1.0])|          7.0|(3948,[0,364,3845...|\n",
      "|       84.84|         12500| (3653,[363],[1.0])|(34151,[1516],[1.0])|(206,[191],[1.0])| (87,[1],[1.0])|          7.0|(3948,[0,364,3845...|\n",
      "|       59.89|          5998| (3653,[363],[1.0])|(34151,[1516],[1.0])|(206,[191],[1.0])| (87,[3],[1.0])|          7.0|(3948,[0,364,3845...|\n",
      "|       59.89|          7379| (3653,[363],[1.0])|(34151,[1516],[1.0])|(206,[191],[1.0])| (87,[0],[1.0])|          7.0|(3948,[0,364,3845...|\n",
      "|       49.85|          5580| (3653,[363],[1.0])|(34151,[1516],[1.0])|(206,[191],[1.0])| (87,[5],[1.0])|          7.0|(3948,[0,364,3845...|\n",
      "|       59.89|          7213| (3653,[363],[1.0])|(34151,[1516],[1.0])|(206,[191],[1.0])|(87,[13],[1.0])|          7.0|(3948,[0,364,3845...|\n",
      "|       59.89|          7379| (3653,[363],[1.0])|(34151,[1516],[1.0])|(206,[191],[1.0])| (87,[6],[1.0])|          7.0|(3948,[0,364,3845...|\n",
      "|       59.89|          7379| (3653,[363],[1.0])|(34151,[1516],[1.0])|(206,[191],[1.0])|(87,[12],[1.0])|          7.0|(3948,[0,364,3845...|\n",
      "|       59.89|          7213| (3653,[363],[1.0])|(34151,[1516],[1.0])|(206,[191],[1.0])|(87,[13],[1.0])|          7.0|(3948,[0,364,3845...|\n",
      "|       59.89|          7379| (3653,[363],[1.0])|(34151,[1516],[1.0])|(206,[191],[1.0])| (87,[8],[1.0])|          7.0|(3948,[0,364,3845...|\n",
      "|       59.89|          7379| (3653,[363],[1.0])|(34151,[1516],[1.0])|(206,[191],[1.0])| (87,[2],[1.0])|          7.0|(3948,[0,364,3845...|\n",
      "|       59.89|          8600| (3653,[363],[1.0])|(34151,[1516],[1.0])|(206,[191],[1.0])| (87,[6],[1.0])|          7.0|(3948,[0,364,3845...|\n",
      "+------------+--------------+-------------------+--------------------+-----------------+---------------+-------------+--------------------+\n",
      "only showing top 20 rows\n",
      "\n"
     ]
    }
   ],
   "source": [
    "from pyspark.ml.feature import VectorAssembler\n",
    "va = VectorAssembler(inputCols=['전용면적(㎡)','시군구_Vec','계약년월_Vec','층_Vec','건축년도Index'],outputCol='Features')\n",
    "data3 = va.transform(data3)\n",
    "\n",
    "data3.show()"
   ]
  },
  {
   "cell_type": "code",
   "execution_count": 143,
   "id": "24d7bf95-b8e9-4145-9408-e822fa4e9c4e",
   "metadata": {},
   "outputs": [],
   "source": [
    "data3 = data3.withColumnRenamed(\"거래금액(만원)\",\"price\")"
   ]
  },
  {
   "cell_type": "code",
   "execution_count": 144,
   "id": "a7b1bb69-e5ad-436d-82af-32fc74019228",
   "metadata": {},
   "outputs": [
    {
     "data": {
      "text/plain": [
       "['전용면적(㎡)',\n",
       " 'price',\n",
       " '시군구_Vec',\n",
       " '단지명_Vec',\n",
       " '계약년월_Vec',\n",
       " '층_Vec',\n",
       " '건축년도Index',\n",
       " 'Features']"
      ]
     },
     "execution_count": 144,
     "metadata": {},
     "output_type": "execute_result"
    }
   ],
   "source": [
    "data3.columns"
   ]
  },
  {
   "cell_type": "code",
   "execution_count": 147,
   "id": "6f253ea6-f5fe-4502-b457-5fc2dc316323",
   "metadata": {},
   "outputs": [],
   "source": [
    "data3 = data3.drop('전용면적(㎡)','시군구_Vec',\n",
    " '단지명_Vec',\n",
    " '계약년월_Vec',\n",
    " '층_Vec',\n",
    " '건축년도Index')"
   ]
  },
  {
   "cell_type": "code",
   "execution_count": 149,
   "id": "0065d70c-4e24-42a8-87be-ac966130d4d6",
   "metadata": {},
   "outputs": [
    {
     "name": "stdout",
     "output_type": "stream",
     "text": [
      "+-----+--------------------+\n",
      "|price|            Features|\n",
      "+-----+--------------------+\n",
      "| 5000|(3948,[0,1970,387...|\n",
      "|12750|(3948,[0,96,3858,...|\n",
      "| 5750|(3948,[0,18,3858,...|\n",
      "| 5500|(3948,[0,18,3858,...|\n",
      "|12200|(3948,[0,188,3859...|\n",
      "|11500|(3948,[0,188,3859...|\n",
      "| 4200|(3948,[0,1198,384...|\n",
      "| 7500|(3948,[0,364,3845...|\n",
      "| 8500|(3948,[0,364,3845...|\n",
      "|12500|(3948,[0,364,3845...|\n",
      "| 5998|(3948,[0,364,3845...|\n",
      "| 7379|(3948,[0,364,3845...|\n",
      "| 5580|(3948,[0,364,3845...|\n",
      "| 7213|(3948,[0,364,3845...|\n",
      "| 7379|(3948,[0,364,3845...|\n",
      "| 7379|(3948,[0,364,3845...|\n",
      "| 7213|(3948,[0,364,3845...|\n",
      "| 7379|(3948,[0,364,3845...|\n",
      "| 7379|(3948,[0,364,3845...|\n",
      "| 8600|(3948,[0,364,3845...|\n",
      "+-----+--------------------+\n",
      "only showing top 20 rows\n",
      "\n"
     ]
    }
   ],
   "source": [
    "data3.show()"
   ]
  },
  {
   "cell_type": "markdown",
   "id": "09c50ff2-2337-4e25-8839-0a852d1db01b",
   "metadata": {},
   "source": [
    "## 홀드아웃"
   ]
  },
  {
   "cell_type": "code",
   "execution_count": 151,
   "id": "c69ab483-c535-4dff-9e71-21a18e87b79d",
   "metadata": {},
   "outputs": [],
   "source": [
    "(train_data,test_data) = data3.randomSplit([0.6,0.4],seed=7)"
   ]
  },
  {
   "cell_type": "markdown",
   "id": "cf15bd3d-0c06-4ae9-b836-1d45cd437324",
   "metadata": {},
   "source": [
    "## 회귀분석으로 분석하기"
   ]
  },
  {
   "cell_type": "code",
   "execution_count": 152,
   "id": "11a430eb-f82a-4aba-8175-57431c859790",
   "metadata": {},
   "outputs": [
    {
     "name": "stdout",
     "output_type": "stream",
     "text": [
      "23/11/30 16:11:13 WARN Instrumentation: [92175f78] regParam is zero, which might cause numerical instability and overfitting.\n"
     ]
    },
    {
     "name": "stderr",
     "output_type": "stream",
     "text": [
      "                                                                                \r"
     ]
    },
    {
     "name": "stdout",
     "output_type": "stream",
     "text": [
      "23/11/30 16:11:57 WARN Instrumentation: [92175f78] Cholesky solver failed due to singular covariance matrix. Retrying with Quasi-Newton solver.\n"
     ]
    },
    {
     "name": "stderr",
     "output_type": "stream",
     "text": [
      "                                                                                \r"
     ]
    },
    {
     "name": "stdout",
     "output_type": "stream",
     "text": [
      "[369.95857809144803,17186.920792838835,6790.263186690753,15475.32732131433,15667.243765791622,8727.934915476775,2700.011502706395,15051.313063868902,5509.427666411092,181.67856466035667,12588.906883543428,22775.628701872774,16885.928004587076,-5180.538939238455,11124.025402630434,3015.3842074972194,18384.590601239557,17521.318415103953,4824.8094489240675,3565.9599140680166,38569.9837843777,9783.938255092002,13145.028504721913,4647.629337362515,19219.976674560316,18216.685624124584,22558.085608832407,20443.63601985776,-5994.039180604767,5056.402229604245,20408.41493989002,23097.717997447762,8704.042354792378,-1422.9201984851297,13353.62664443901,4662.174392729346,455.7400179275492,11123.859459165686,26337.834706881575,18242.495529969958,4759.384056158252,16484.699558082688,-3889.52575722087,6807.021515500167,23023.665882706773,1936.038827612829,20591.63350389603,6545.866443542888,1975.8807173510759,2765.3904264363923,3962.455552813143,12860.358562935562,126.84201237209612,2228.802388386436,45960.76520612192,7775.074212117697,6350.2271048814155,11067.547479021983,18144.047993033415,28973.081507024006,2576.493424103246,54755.95292429155,6876.378100864321,9651.56479055389,-2754.531569288529,2879.0711395246553,3197.4665622813545,8796.422616547241,16118.237116122844,7599.9257953735505,12019.812604482686,3765.0131519967144,4364.745895432235,22.253108553594164,5398.43736466529,-213.8458817842663,39.89940575371256,1365.3313564455646,12382.86678286859,18903.643587342398,-1874.8071766762512,69907.06212495656,8069.924180971695,6874.547930951315,10358.474873420735,-1806.8168667848513,2650.9374718602935,13523.57990350116,-5095.338039611325,2882.256530082533,-3805.218799796773,-3088.8533227642283,-4425.526679810528,-2464.349347800203,4355.83277625529,993.6638668963262,4638.300182836676,-2320.0853847873686,5453.126764228148,2786.50797559239,-886.3947636560192,1333.4481301542435,18673.583898857913,-191.10657496806232,22112.330307181008,5251.142689022782,24065.379453824222,-1645.5542753181257,5524.5510646842295,2905.522815634719,49512.32953130435,-2582.364564570397,1547.4065457090242,-1507.2912801933187,823.9146160605867,21152.129537496443,98005.21919197205,4901.722848786541,-966.2813459164577,15558.289607315284,15616.271371580988,1961.4812556281074,5443.126959546289,3689.870854955837,-479.68635759008635,14257.807329937199,7793.597624269489,22148.201722425354,6457.746963567898,22567.410349477996,583.7398916833076,-6942.6143246100355,17843.789566845757,17204.460123325716,78699.34980918415,-3522.0033479022445,204.5808195086482,32735.716212053896,1277.7127786025098,3351.4231158086905,-3039.8692307753095,-262.7403904082505,5481.51986921286,-6035.780457676215,359.5342921281002,-3264.885268723887,-882.1379824005878,12773.283951243822,3142.6602314633824,-8099.108256542011,5805.165174482693,1321.3131260102828,7342.944293338307,627.7136885799711,-6294.793821557277,18740.94294278548,2309.566473842602,-4243.558944789472,5549.727658637711,3751.836454802928,12863.107934500735,-3146.4768265586195,-3876.4240289018308,-482.5989862894039,776.3229804056991,-3404.368955542279,18827.57240975041,14783.540502327383,-4030.9340110056573,11031.221512771954,-4180.586341796442,1223.7305754587474,8977.41824769012,11041.45649227265,-259.01270665308834,20190.40708600069,-2871.357708264971,6861.807972816817,128221.17816247919,-48.003804290153866,-2229.983464627457,6492.223656756334,17991.09772453296,-2894.8537896308912,1159.649158027888,2970.5082441680756,5294.231715560534,32020.485865286675,3509.7703299616437,-1825.9319266543077,84041.92579053678,28253.47897385082,4989.3137154627475,-1417.6125441694992,-915.1652246568293,3962.7315495429602,12560.10600284449,2079.5930758851923,2199.452823886406,-745.134361871546,11195.808327472476,7364.975994086967,-415.33695903600136,12681.771885783335,6241.064847120407,9369.365761558884,3229.6928070146373,2908.16048191934,32384.515884919056,41671.07982068206,-3396.7397094465146,1241.865256863172,-1438.5375525948941,110083.9456633775,931.7387606779937,42095.84179903698,-3201.2655190785895,-3037.0099433567966,69124.42158787728,37465.91849856791,21651.20558205389,-4086.973079547642,28800.88966945358,18288.206298955567,-2641.623112733674,26507.773722185717,-3043.8198110730514,-61.98152908506942,9472.095498595327,-4081.536565940218,-198.86805165449763,549.9211150536266,-2307.165321502183,23383.48858270047,1453.0380945946729,13184.449521099767,38871.62087965698,2526.8760806052633,101311.42125637263,23071.83341331922,51.6810357012876,19972.988116593,7580.713871345184,6165.744618377808,-1226.3907826843597,77.78801824067656,-998.6167619533014,4352.792925675802,17626.130240216487,-549.6735614240073,3898.533822636915,-1147.4754152720982,9297.131255712711,34995.81394262942,-2875.8960877327286,-3663.502533390054,18431.75684275422,5415.377631084178,2104.320813528891,5068.226003011035,2383.331333854363,-9284.706961319323,20505.934012023914,-4109.424347384595,44585.0058044444,-5351.6232688759765,-1519.5542206986438,-3377.013006027005,3405.1743512522776,13759.353685999042,617.2517936993007,-4724.576212928022,1009.8477489722422,11238.979036048326,-6873.4280566913485,17699.267009467498,-5918.187893402665,5863.236781791196,23267.062775464765,-3688.4615902930627,-684.752122420837,-3422.111782970465,12394.680122793925,29074.996810792916,6320.55903019212,15228.079145596745,11169.653365569604,3186.924230953016,900.6740527481318,11528.798946780109,-3799.8153722193197,78896.43673881884,10050.060023460699,2132.13495271735,-2089.446011387728,2494.6750932522013,570.6377888835573,45336.789123018985,8345.741690917706,46984.058809834976,2290.888598643687,14291.068279627181,28111.268803935494,64380.79079213042,10163.889521035657,1481.5957787045477,8821.246541548398,38743.927362546616,43972.92642606791,29677.932967257628,713.752595484251,17052.022008917495,263.2611492610294,2811.424246249838,21779.243454314706,-1743.3977269108711,-2049.5511884732264,-1716.2081193649537,6254.466163909367,-403.41282275559405,1135.7474418935244,-4250.444073150364,-2440.4229969169364,-4757.702414774783,6440.375905946479,-3217.936217016808,-7686.483194989335,-3386.600237019247,7314.6336391958575,9668.991711394674,-1152.679659509636,30033.698462313176,31553.255416792195,10682.403158340854,34963.75041599337,-2551.7485315083013,20333.248567613635,53678.42437665369,12075.103750629141,8545.02679725652,316.3443229148886,9772.325529965534,2792.1344295504327,3104.267472768575,-6335.768686435887,43196.132103353775,147.88482276587652,6950.0590397007145,6501.880507106564,330.7357527919736,-506.4582967397184,-3197.0259671520625,-868.9127853468955,25328.611790871753,18102.062679042174,5855.198413532352,204.05985373614254,79838.18237029624,924.6794964932653,18455.145376992667,1547.6770611307625,1058.768711414746,12759.642767205882,8288.056545924443,-3058.2961678791316,27484.11555586041,-1425.88791569522,17168.22213337795,5983.699691990918,-86.8594052942667,-1052.7138637872706,-5.108235711505519,5788.960207275011,-790.3212343414166,16361.008041285111,-546.3009075476111,29399.778103974004,13767.727813623493,10767.676970646964,2513.160256308386,-2031.0192684829374,1414.1022410765847,-3719.072960685582,-4108.676485491072,-1430.7609827676122,25302.615965822006,1642.6078247355752,-2502.4129605883336,759.2285375864508,-6074.706347118162,4646.397571366434,1025.7557876964743,-2377.6680002009607,52817.71538937441,-2915.230029996814,9021.62060586527,-1946.6883309901852,-4576.259144771715,-322.32571266031505,-2789.3275569734924,-6184.363213186598,108.91329381811558,-1837.3336340127044,4217.684656915816,17576.94297024037,34305.07132873794,3812.500710291884,-1692.7484305478984,-1135.0842304234573,1512.5054295914128,21425.744499557335,-9171.743640400658,-3311.87106759655,-4712.979735238596,-3225.713055730956,6486.518437768293,5955.821853580792,876.5394204811887,5623.848354576828,4422.406032533246,5168.430575252794,15210.834154181097,5734.641444768403,-60.73696853814069,68.33095898157939,-2968.041177071958,-461.4672920405123,21465.403542979504,12445.911832966056,7340.814836574963,20801.856134372374,-3353.44878850949,398.9839473684923,-3063.5818497057685,4260.503643356026,-4755.090452907584,8641.561470328752,-2622.624014799622,-4971.261722675309,555.7408933905565,1774.515059846943,-952.6327364178734,-4774.277130511296,-2210.356225444162,1754.9571090428674,13624.582777825568,37016.60202479948,-2351.2912589652133,3962.3277097434234,7813.969208632552,-4626.790866143931,15543.236906687536,22786.692248328884,-1719.5147981019236,10991.617411868378,6248.95360686545,-6431.469338016531,3735.813487366662,-370.3248344826864,3685.412803730826,91923.19074640173,-3493.6880743255197,4173.552415818163,6533.867136490143,5726.149601332198,16112.675636123793,3102.126096002019,669.3563151225442,5094.830011472322,2505.531694512543,35624.958032645525,2701.1391233848394,-3642.636628257382,863.5559450528085,26673.39721505024,1519.629855184895,-1024.7348997240879,-14.89937479333049,-6355.929950061181,26318.138910140948,8441.148667785024,-1977.1104103401253,67211.4052307936,-2810.900750661162,53836.52175743297,-3036.42973766497,-1336.7586566711436,4652.296693363569,4651.532648551678,5471.967415638348,9738.076166553145,12237.470798112086,-3734.0268880749554,21411.337785761465,17047.817197921602,15014.487818404365,-995.8268152352557,-315.4338900125759,2216.739674727032,-20.716117660472683,-2260.950158768747,14621.383126318431,19211.06910966395,-2932.968253145144,9538.630767281478,-4990.2559442299325,-1824.410640678884,2109.8246248017226,-6399.431373492477,-3257.4597794495676,-7364.941650086493,-560.2311703424383,31878.588346665438,73456.39424392661,7754.76645365047,-4797.566717212353,-6168.322698638423,9049.067003173119,4809.030791309932,-3778.8683384678366,-1050.769662889399,-1715.9095534674943,4220.687468274426,-1875.2087409702426,57800.315306117445,2775.5505363491343,4074.34566630719,-3153.1672620383515,-498.29639823368564,-3543.7032163397926,-379.5634424180099,-5070.234938833413,-4638.739518118899,5514.618655262842,4565.490764740306,3588.2150240671826,-3581.120038996857,1147.1640409084323,20806.81737595676,6759.91154490499,5990.959685298976,5697.489159217281,674.1338782709342,-6767.476516948392,3413.365958445743,-7902.776081116224,6317.025217042998,23389.954986622048,-5597.420330939472,-1590.8831295815826,6427.810797826694,-4628.193640315914,-1555.4917474473116,-4989.896898502885,13072.590142177836,-3992.7510621679407,1471.628446484864,11746.74603003604,4646.072827063941,1718.2532064355225,243.4717080304695,-720.4618719490936,-3842.7016053697334,37803.362386642315,-896.4535818984151,-6889.149298578219,20698.993418902435,1801.2219817062405,42188.13599941644,-4259.81339502223,-2687.0412534448424,14254.603720464062,2378.2931872241516,9510.064014045878,3614.2845185859915,4896.489485461543,30753.73844559596,-5590.751090863901,-1292.077906650337,-6047.003026717702,-892.8983825534845,-5331.374814941779,162526.15356794882,-1378.428864629507,2595.385438354301,-2486.5345042033987,11857.172119320072,-1919.841278512784,50306.182102640945,1077.710986863178,-856.9080468902947,181.1571018478141,-3385.1084012713236,9873.259516090651,-5094.298100047104,-8307.217517989913,-1567.1438096767915,-7150.754912804139,-2154.893383828877,2985.7688137344944,122.20027586880452,-1101.598922496845,4133.063775940254,45858.14225529403,8812.919503369227,-2171.3880458107615,-2592.744109950672,-2596.2013186253785,-6453.753344749015,-1104.7680570748907,57510.68616229063,2002.2652690045356,927.8183296633304,21674.474494421887,25257.834240307195,2262.3517605785073,10955.254634975016,610.4373551636572,-6289.7373885030265,34178.10712814514,-2712.7225349473288,-5702.197689052898,50266.9280334677,11297.93212007214,974.8765233722354,2242.759193493262,-1896.8478864570843,2205.320371946099,-640.4583243378862,1722.079007053493,4542.003085095399,100311.00217519408,3575.1993083155894,45019.76082121477,-1050.8301812674915,1261.3516403188426,56557.24523462888,23800.692576490474,4363.215367783159,-1018.4355446594664,13938.452419000383,-4103.539827504818,-3545.648173652674,-3289.694593654739,-1636.5559883580129,4623.020518117741,-1399.370646754816,31828.694924126074,606.5685145434965,5358.797624034224,-17.373888626079747,-1329.7991125517565,-4478.770863150283,-4407.8848745061905,7196.8887960914435,-335.921182699817,-985.9552350083259,-4250.6061301548425,-2907.7129791546545,-5038.25551175619,-3995.3127194445865,3697.3780138370635,38066.674425681565,3475.4267158673706,6810.292634669405,1853.304282360272,-1526.6298998695568,8323.882290049887,-5674.833515736966,34458.6337288507,6772.2888448295635,1872.8863081487216,-4454.931047527629,1025.6107682758973,1737.183563097973,-5712.237391809628,-2130.645474797455,-4629.409745655935,9678.088975941979,30.266192385215838,-7168.746819339345,20666.139824480324,12074.24128020249,980.6917263727678,-5914.862521139874,-2301.2870813099526,10339.783247590722,1666.2043438686815,3723.1088055398855,7330.832512862064,-6225.884081885192,43578.76884023001,-7542.043278828886,-6068.489556972404,77937.67468991195,-4729.489428574708,42206.90097399358,-4664.537748887757,-1146.4649829601956,-3998.287818547561,5631.5505034556445,-1175.085127082206,31042.454023289483,-1396.3549643000397,-5181.764985345916,-5201.120496790248,-2754.447619851943,15029.742648994048,308.3424244544535,69040.31084627597,51242.762286427176,-5584.268852614623,-3751.0185932644113,3582.3901987763616,-3937.2776899776864,9839.816430081684,4909.154905240811,-927.555551065154,199.10023502625376,-2876.784844806085,-2560.2456179261826,3130.5952502954433,-2180.770876582245,-5443.018029641984,3482.281432761514,-39.983397304652755,-1594.456937747388,36983.55041047363,17973.773412404378,1974.4869817176059,360.25442908428323,-1930.1362354810435,-7195.300889593728,-2491.7335577196054,-4545.40811473041,4029.5837698384184,-921.9534755838815,-3377.899116399633,-3811.931677982251,-2021.3379731281045,56254.08353731434,-3422.5859617180636,8738.126521924929,17260.588149901178,2456.3670679816764,-5175.517639497536,-2883.8238673274413,-2348.8621540431755,8030.1152691239495,-1394.8235147032103,16540.43916089778,-2715.52456652588,17087.701406967448,-190.85563939936307,-3627.693154596773,915.6160635038085,-1922.056539303568,-6860.4133880957,-143.19380685340636,12789.050792457814,14926.510746167516,1302.0278059252378,-2682.292174742809,4850.143555104434,1923.6986323558676,-1635.8682374584403,56682.81588166549,-4512.66298197997,3094.434150214136,-6370.611609400083,-7343.420108746671,296.8417926488057,-1041.0902599489768,15920.167860252765,-287.19225768799686,-1272.8335579025436,550.8486172136047,-5032.419807385917,4610.5903258373755,5405.05496188997,5893.245685589677,23483.43252997225,-86.56271271094982,-4792.800260781363,-3278.8575935673703,-2059.802420554226,-3851.0208933292574,-4653.794296458011,-5173.314672744453,-3199.7881174002505,-1683.0930189091273,-1687.1133993624348,-3705.537957850788,-4089.195105312812,-151.52011516177802,2742.9618309511725,31094.205050007273,-3413.9769649565396,2738.917092657284,-1250.8382180587575,2769.4584556347554,-2170.6575270527055,4145.620521266508,1414.3752458329052,-6738.031737357483,-2913.5932135292924,5067.136148165184,2658.6787063745955,734.2896320069351,-1554.2052677160257,7353.4431007471185,37244.59564865191,-3912.472701193652,702.2719232743258,48585.625466406644,8440.796101380878,-6702.588453109333,-2524.8757904603126,-2131.825049876547,-4721.2088039743685,1052.732879709049,39266.50082261561,-2525.9878092541476,9953.022096043598,-3312.0966992036238,-2841.9483704741665,-2275.3533089532407,-5374.899825443636,-6492.840275357871,-930.1173363723896,11494.523258315387,-8244.999412116511,28472.65169101774,-668.5773227917385,2237.577657648053,-8054.020853696,9366.042826700994,3142.938642026612,-4244.70786240736,-2293.2316605736196,27089.626811637623,-4575.8106790049105,10814.575349139444,-3193.9098660938066,-2664.721876894747,5825.487124549294,-1030.665554902914,2821.350765679081,24610.464919652142,-6978.258408835362,-3744.138777445435,-9513.537305859149,-7551.233062040171,4284.222022307416,-5188.9382940907,-3639.2460871489175,-1482.9554683039082,-1908.5620997907768,26293.96169535232,-902.8435024947755,-2126.4177249719137,-9541.529805587514,-5222.313417075249,-3425.852222421767,-4915.537680803706,-2784.678422398454,-4701.727212068406,-5263.922036988546,-4457.555433748446,14619.027103974546,-465.9529343177017,3647.114226070238,3267.3652216469445,-3431.296685516816,-5575.271758343952,-3683.3206444080556,-4305.727797828837,24501.802072082515,-2309.7552882709842,47288.910574741385,-4300.084667648593,65230.49350805292,-4684.35808698511,72753.99195053105,-883.4840818756769,-2439.591038533557,-3582.8271032579864,1189.6368764810436,-4421.631869607046,-10440.48045741481,-2702.7020470888497,-3838.427676033466,-2721.223728591497,-6020.4186657137825,-2781.2930739344606,-3436.0042948799464,-2416.4856111328436,-882.0779665946693,-4088.7725939072157,2171.6994195654984,5983.372382687715,-7890.266521511785,1191.2337489085853,-3144.758697564755,-1568.501743249339,1165.1633587624954,-1984.6940852652751,51372.837194808795,5998.705893137915,-4604.220963221679,2497.8503852540493,-3798.03425449539,-8037.706785585339,-6773.4614718080065,6848.6063324435245,-2999.452422415668,4039.2907487337575,21654.61256176048,-1130.20250801943,12468.050144945502,-1987.320132795504,-5925.002084621684,-1409.9362877368994,-2628.3740611124117,-3740.9565550687244,3643.8611118998183,12.965383376532138,-5793.3836353733295,16990.321941794195,-2645.681132439035,1685.2648642817453,-11283.034927334627,-837.0166585409161,3688.396755694285,130394.90960128378,-3990.7999958898417,-7482.875749479666,721.4151828411499,-1251.9543798290465,33866.545289911875,-2062.8136871000343,-2877.815437129117,2430.1002406397956,-1902.0546959495748,-1317.9802551744879,-2281.4655389274626,42298.956166443946,-4956.198371985888,2887.2588052325495,91.18881730208305,7865.149965081501,-4794.548798732743,3979.5098805469943,-1104.1735095277286,-97.13328662319444,-4584.096670664805,129.85517118865553,699.9743668033075,-3966.1357817240255,1505.5589106511736,3122.5703060416695,15179.765094419634,18551.53141036715,-3081.172406586428,21379.20279712491,14388.868795528106,742.8900330622502,-6486.790115429342,-4146.524110652296,15743.350969564815,-7296.915688234747,-813.4408591823803,3126.117162600424,8494.378029117126,17583.009364559715,19441.8646090707,5407.211301651579,-2630.6322492226177,52840.97264713298,3808.9675608924795,-2992.6293084102526,-6269.569142677698,48760.76058316785,3186.837045078443,-3277.2072742362393,-4667.549612577377,14080.341271062234,174.0700258305086,29025.196836384137,-1557.5013425522156,3662.5820437207954,46807.56420418265,643.0364497187456,2817.2784659533927,-1519.86617701978,-1325.1492985491896,-699.0464154612671,3386.5294173334246,1702.7643543526835,-6509.988035910597,63353.476638335604,22362.058867344476,-273.5656169180727,-6394.178997295529,3841.9788624328444,2417.645776998425,60349.907466925535,-5330.774109063907,29683.44709479089,-2732.149983780371,1085.1762992064769,39739.093359580904,7164.040308084522,-3363.8067876612504,-5659.231554781094,-3693.6988854616584,-3355.965837425994,1798.4413572449835,-4420.868680435725,-1787.8811183339303,861.4516355678556,-5468.113380757471,11276.601084801987,-4594.038519572209,-1913.3335764763706,12461.671648999969,2590.2940849834913,-2689.905608796618,-5402.675275402343,22057.414099248643,-2291.3237111189756,6423.954600702105,-4503.975393100509,40910.43052861836,21397.911900473417,5055.83692450796,-5543.812434702055,1381.0866453480994,1359.884843524321,3414.1707681770163,13054.965873963294,-2092.3934078590128,5352.302573967458,-4178.764126634357,-5340.433632848954,2495.8704872973303,-5942.161785029589,3293.590402426891,-3608.3352774524587,-10581.878126327802,20415.908193987732,1446.6702656268517,-8636.005550348922,-1835.4173363483458,2694.3529857960552,44172.09406734184,-1705.8838735066288,10772.432041792132,-1563.7416083141575,-6249.410874652282,-4689.003365345445,-3294.423031465238,-1566.881006713161,-5599.278372963531,-3068.566356924078,-1789.0078646126403,172.9125202202325,-7226.658660600853,-5693.838201089261,2635.4170588194916,5100.701229906385,24435.981109382214,-9599.261409821793,2524.2324379289444,2982.430885700995,-4978.037189673234,-1551.3598494611665,662.9370194725536,51246.85028019419,-3321.189133404906,8095.674553149862,-283.68732784652786,-1575.5257238320844,77077.78181231383,52.51082542401662,-2434.689260457858,-2726.277921761082,-5050.005518535014,-2526.194207790231,-2614.773167871429,-9102.180255474903,-1183.6271269972535,-1051.1173427514684,-3037.327077313389,886.5980977999618,-69.06475892517149,5600.187367923782,5218.199134965746,-5821.071479811677,-3151.654966815748,-3698.129483890481,-3880.7764346032304,-3905.862502852157,1443.0070453174092,30184.556876364077,1660.964776907351,-6509.347423625643,-918.8809717597494,-7263.244101543346,6870.776117250238,1142.556659001554,2341.9616248293773,-7023.475914272454,-5363.364236603195,-792.6051411415439,-4472.074201798196,12125.865783748213,-2206.989237868506,-1944.0723652862243,-2781.2448551262314,-4091.141697737113,6426.3963199592945,-7435.765083024084,56690.59844914351,3450.1896602656143,354.56725613987436,820.9160492410201,6276.533025598205,-2370.491508156121,-6274.48214939641,1457.1188527475138,157.73009080006776,16458.165783716213,-3437.751337936147,-2145.92383334754,-1748.5245896862475,-4919.330298531268,-3999.114881747245,-1297.2614281194867,-268.49345264324256,-3222.5851125842137,-3962.4080161066895,2127.8857937138273,674.3782207153213,1456.831986028539,3285.2442230336533,-1690.0365449816882,-2542.2395104528196,-3972.8262929829093,-6829.1504798432425,-414.509792600156,-3339.7837084598873,22551.719615330167,-3900.231805524135,68922.87250072093,526.109833273066,-5110.132792279913,-4593.619668376115,-10008.62597181047,-3195.469196209554,-1851.2440056057753,-5120.281842145701,12120.417339715108,-5303.244184975535,5304.616758447711,-7196.076118519609,3344.4053333952465,2768.8776134426425,-7787.9549022524525,367.58500091352914,-8375.560088669246,977.3021028847055,2753.535679046519,-624.976057244319,6250.789375121896,-3188.7087894443807,58016.18262408878,-6608.104766231942,2982.8457539610554,3861.817596786602,-2800.084295869521,-115.4477027925107,-6086.2835733150105,93245.22383739255,4908.614447610724,-3094.2102737923065,40613.05089081125,2836.4266834293835,32074.889621802024,-1740.6405187890919,5313.308935942432,-6029.049771689565,-3893.415356529463,-7012.146138218817,-2352.4331711655714,22693.069041464478,-12408.29416048517,-3371.7701026175673,-1121.635740744807,-1713.260148389689,-6098.3927987626,-9244.888045379788,5078.225172331877,2486.8100698789367,1639.2271751230976,-2998.2384729217065,-2357.5457608252614,38645.19851759588,-5756.492259602907,31982.823112953116,19327.915653095337,-3121.110283857856,-1064.2320639501086,-2470.309611553431,13921.208797160614,-4034.9453880263286,45717.98212199871,3306.676811808844,-2937.759072003281,-3533.57133617705,-7705.796653022099,-3004.318245801694,1263.6153564229555,1821.9171695241848,29772.1673559923,-2367.6386577460244,-2035.650909538131,-2809.927468086694,6650.254374661007,-6006.481612124246,-9504.39122438038,1294.8239491622205,23498.062090257212,-9391.120367198277,-3820.2306042099967,29047.793218800205,6550.155707463619,16731.717202396285,-4191.916585002062,-5396.060867494895,-3930.3799787420703,-2073.288771372373,1806.8592461974577,-4169.653143125656,-4623.673561496727,4131.79645844605,-5841.807105567989,-660.9432669487054,-6156.732759112538,-7094.905632852315,-3863.5206581045813,-4939.107008231054,-5459.230384822564,7225.198945328667,288.82904620654665,-2566.3047247506056,-3643.548333088886,-8664.626921739628,1490.139029764186,-1350.8793350438643,10125.532661039502,633.727621009261,-6717.222215158141,-1564.1377897514637,45516.75241386498,-1454.6542669376445,-6831.633988251779,25339.662877763472,3045.212553208447,-3253.3530523458408,-4557.104137584907,-1780.680999417421,19573.243118500766,1505.647694533518,3158.5938462669833,655.1356557209309,-1252.033204781524,-6845.3999847267805,-7341.483644624379,-2088.9928689748435,-6200.368747884926,7267.776883587321,9183.73986593688,56360.04204742315,10122.48341970216,-366.81009202188267,-557.1548288151088,-3999.512855684507,-6147.3750962510185,-7873.389205817194,13534.921327414591,-2229.776765479233,-2483.33584227337,39580.44865089628,-2158.419979666565,2981.5361386873283,3539.610984309751,-2309.0537100803317,-4884.235207787677,-5679.3022033347515,-2706.622749843903,358.2195547828258,-8421.686022255033,23623.57955635873,4949.777609166435,-5731.82050451554,-314.7541860196389,-1570.3560708862765,-2414.7868451081645,-9194.310128889052,4116.483702652418,1688.2003419737357,-2033.8650379514365,378.98475294193764,3283.5269127584297,-6882.861761849831,-1851.5509960916606,-5231.458173079048,-2443.3746939674193,-4134.768390068423,-513.0300933268237,-4255.794691638041,26091.737383092284,24634.02685552903,-7842.975376673044,-1317.6064936396176,1874.1890708410992,-2660.271456860164,-750.4589309086309,-3643.6628243180285,3698.940052167019,-2724.9271462405186,-3246.0129246790098,-4133.666848079417,4181.5740015821575,1644.3573483518621,-8383.32753672609,-1572.3387674749886,27438.780440157527,-2933.868198411799,3600.8074138658317,-302.6192830938495,2477.5683661384232,-819.7993681241751,18768.179365178305,-5880.791213304587,-5451.113280400683,567.8233205924394,21405.403452781415,49140.43191382372,-7523.078067063388,-5403.289977364615,819.6836068976462,761.1065056112807,10298.733954389665,-1387.9185617653375,7030.966787481435,-1792.6638364537928,-6637.194266017985,1929.1568823968878,-4172.407650236737,-4298.111506177562,-2196.135652551958,1901.9758583362573,-9401.057938958033,704.593149031794,-7589.8731533545115,-4958.614901609761,8793.992215273147,-1337.6970001843167,2521.212063206669,-7809.856310395176,-3815.589015759775,8809.160328942131,1456.68248512415,-7315.459136529815,380.04896937991805,56.58294438750822,-1959.212470687379,33670.31298198165,29536.701648023616,26306.43159486962,5640.2767374213945,55876.49897889259,-4023.1467506572076,-2680.410415435494,-3836.863871086573,3971.829829618139,-1473.4637763293385,1046.431731163228,-4803.829910038136,-2769.606494170183,-7359.866918024996,2167.512762426297,-1323.0025624505301,7728.707069298212,-384.2220404735662,25803.629042052555,-1713.2071592251925,-6014.398668583949,-3179.5849863763237,-2895.908185031016,33605.27286055424,-8085.3522749949725,-5168.964769776664,46769.49357158034,14399.02590497114,-8417.571488651658,8550.48105777444,-155.18837959688062,-7093.7937713828105,10730.927335622906,-1528.627580127691,-2475.551601839743,-6452.765326755709,-7338.065836681139,-6776.2842865117045,-532.7866025915641,-1829.799852676678,-10916.588101165644,-941.7813974696683,-277.41693718273075,-3875.6108404473885,27975.554354415755,9717.813447718707,-7608.098717725302,-5276.259626807814,-6766.395416803092,1287.6541823622845,460.6475459644651,-2684.827221338106,1389.1651261601405,-7899.569473243753,-1969.630463733195,-3625.8740543712747,-3596.760896204988,-4219.736788695244,-4876.9658072299835,-4758.836447549054,5956.530147993017,14495.976500468209,-6057.673694876448,34348.811673350334,-5811.982212840205,-5299.571140777412,-2162.372956948408,23292.915256036245,-4685.661076730887,-2568.4527293066567,-3287.0618900392205,-7881.058234061355,-6017.629435652069,-634.9905659875571,27308.37685030637,-1387.3913492610232,55820.59038144774,-2328.684584659017,-10575.409234846291,-6270.909475593446,1352.8890778586817,15552.226772638816,-6287.200856580187,-10220.008562385348,-7484.787748249134,-1768.131361878578,1455.9046968023604,22846.114622646568,-7189.697287539361,-12114.596975417884,5246.754370986841,-2776.251444986144,-6167.249903706781,-3595.6098566170554,-6038.486731385247,64517.1434087571,1820.2412355465547,-11733.729919278427,41372.39296129049,655.9655020987313,-4194.283488156713,-3569.423260843594,-2239.9768505442025,-7509.35490896506,-4776.286225289565,31563.677344032465,1033.973465273168,-6001.776417492689,-3572.794741232455,27339.31487880426,-11792.35135312689,-7462.153782525671,-6743.275758668385,47400.18774482095,1157.66660096211,-9388.66133671728,-5137.816224528781,-6711.25167883179,-970.2766622594244,-2771.4358985658605,73989.0654327246,-4500.576327909457,-1690.90305833699,37300.73931798582,-1531.580357601961,-4453.0340032019585,-4480.488503949397,-4902.112397722477,2519.2107336520567,-5042.466375442913,43987.29281505058,11091.351850738802,4865.851593618249,-8290.931811056844,4469.829323033474,698.5778989515386,-6272.67598691084,-5006.197880970146,-2634.8708490851286,7116.940094544142,-4116.386290088001,-8717.333560216044,-4774.41681607004,1505.0441088566747,27244.290861133155,105.2743645657459,-2936.7256228801807,-6415.13596783399,9950.032891150217,-2169.1372689853474,42464.69896872439,-9798.296365690852,1127.5354672467815,-736.5404147592616,27363.178140736993,-3895.16898559075,-2881.248737580089,-5146.242899410557,4990.375120286238,-4489.829715146564,-9424.454872710798,-2054.5569325952797,-677.9071240566644,5623.486431348675,29796.491848508183,-6827.721093769189,1079.159884252715,-2027.31810805347,2369.1601797017493,-3927.202062178938,-11448.201954570051,-3211.469838853505,-2764.926833710105,-5992.696459263927,-6162.875087347007,-2862.982231486612,-2846.4868257221324,-8240.85363612731,-17815.2960710025,1053.0309104397704,6159.274630526264,140.63013043870117,-1808.3476067260895,7241.635265462603,8659.520704925373,-33.79769571026957,38992.72131247513,771.2528942959543,2299.4738278629507,1073.8381603791718,3298.2519688362777,-1612.474312467836,-7410.331413623729,586.4232372265458,-4907.878701601315,8015.775134888376,-6876.496632498351,-2795.205655759391,-8888.477780005394,-7347.159332519512,-11258.724308628138,1763.445058165966,-4264.193040100001,-640.1475290249008,-7848.667115644277,21936.83663416608,-4243.868182181458,-235.95876259883283,-4670.156232167729,274.7946799421344,-7322.813137538418,-7179.418973000694,-3506.496706639158,3104.0205494313977,-6698.039225888512,-3756.984248385817,-453.89497516631155,15649.979710421927,-6645.774897060087,-6858.650611230773,5125.689821999003,-4435.164761315142,-4858.839194988632,-793.5075068315156,23535.68600149043,-3270.290940431178,-7550.248338291349,-3139.3798779122753,-3445.0988006727594,-272.3568116755269,-3572.865468287269,-1679.9964906348862,8151.200992049936,-2929.087146795669,2446.8024214862253,-1854.6438552092309,-4838.772811365386,83829.84559849325,-2996.9887406110684,-4565.80172910832,-6599.970695070227,-782.2649615536528,1429.4470311539258,-6177.520813647306,-6736.530036660583,-9784.192931873498,42.06157788703457,-2816.1736866227566,-2952.044113257899,21577.195329235507,-8870.422560037452,56631.88994211017,-3071.7244067016845,-4337.971232664651,-3297.7571891473585,-705.4142207234694,-2429.780908516582,-7320.579223282177,-7512.450120746375,-15300.958088421716,-4427.647229790258,-2504.049192192379,15046.613123880436,-5870.996946556895,-6310.790170797868,63690.00970514355,-3809.1354664031824,-5312.427451800833,-4663.688844742221,-962.2554882569401,-4577.812645210227,-3058.897383371272,-7108.37389678364,11436.701358345774,11268.147519876107,-4744.994878741322,-9625.074000580626,-6543.948820269698,11665.749554847895,14048.89642753224,-5396.103310194801,-5950.678163120224,-2398.208248832396,-842.1200673396329,-2569.7895184235254,36931.03204671792,4286.52085123556,10135.087799891524,-8754.129186869442,-11304.907051543389,-2296.640590948591,21593.87805495287,-8545.005231054683,-1911.1724161210666,-13017.585362759699,29291.269359420727,-7141.581518345346,382.85283161909683,-6781.852674988647,-2928.044991330132,-10113.271682845916,-3219.919325852458,7051.565735095787,-6369.547492470737,-70.79944693369944,3571.5343255357643,29867.074361563125,-2464.2261325944637,60705.89153924762,2586.7687802163437,-3478.296631590327,-10028.276419218784,-1656.464028235876,-2605.8032304983344,-2249.8056109843565,3301.5948689222832,1444.7347600141604,-389.0732269258196,31551.94395531797,1153.815153038065,-4716.560117149521,-4777.998435784897,1698.213056684817,-1787.3820834905528,-1855.121651600456,-325.10035458748655,27969.29300696087,7700.844586991174,-5046.2619382179655,-5928.232705547026,-6947.07011838209,1729.5680531360792,-3706.9480261279023,-4641.067545876527,-1763.6198906083457,-1366.1966941393089,-3913.223083990769,62289.36272001462,-1982.6697720921602,-8536.589428927165,-1509.3368870626327,-512.6239335353673,-6530.718632344993,-1834.4418145435623,4911.795870940807,19771.563468489785,54399.54644095831,4099.835194412416,-6928.355660837733,-12106.440276163245,64119.29741288389,-3134.739933352683,-5824.6887887376115,-3073.667556663228,-2009.286052411326,-5617.742108105404,-3508.8395399283036,-8669.673194652369,-2623.525883466263,3356.5188362747786,25764.308033908623,28854.6258191966,-8685.988354940453,-6816.809924628018,-2517.1696009431785,-4781.031303746153,1252.9523841737007,-7139.328753263671,-1894.6749338019592,-1825.6697305892721,-2745.794277984294,-652.1447325268318,-1355.8975024549025,96559.67076190677,1522.3925497323185,-7362.380037830923,-8361.81400063447,-5023.290930501067,-1697.905375086871,-1620.3992657486365,-315.7203497842909,-3942.52565289433,-7582.620320992229,-6602.673422521974,-3014.4239245998465,82195.99916413189,1386.1483917436342,22690.933299032786,-7068.975878110274,-4411.4330623443675,1903.2487878821416,-10996.35592345536,2733.880784227135,-293.7108357812353,-4732.947089817857,-2380.098758436245,-9468.873831772142,-3899.642325346726,-1732.0224347943301,-2886.219336919592,-8653.576543752837,-11110.770518907068,-9821.176812571839,-1717.282062522704,4832.744418883318,-5620.342892116303,-3549.0279668514877,4851.942884615924,-9553.685284306908,-4558.133222647274,-2457.117040825308,-7626.2340971726935,-8342.775426358105,-11391.696046236464,-257.6051539308293,29468.614834431333,-5204.714213719014,-5923.559979424062,36186.49457083239,-6797.87833480409,-2152.650016993591,40585.04346523434,860.5937276797107,9613.161428066318,4787.304996372456,30151.177383035716,-5925.12126063215,-11084.853060630405,-183.92886618783191,4104.600637358828,-10533.040623576137,39231.70706395539,-8311.755156462126,3417.5781152963973,2333.486627528014,-6197.096373661518,-7781.363679463594,-850.0721309679974,-5175.244846927734,145.75407239230114,2514.6635588232007,-2352.6085406205866,24577.751932887273,-5029.829515522278,-6342.51965889027,-408.54568640392944,-2590.0157777256036,-2576.9095192852765,-2808.8135519847583,1243.3873883676813,-10764.526906626537,-1780.7728525460802,-419.66038287174575,-9145.134571863495,6697.4798754611165,-3176.74969834874,19258.05130794217,5217.618696972384,879.5638093984026,25580.892266738585,88828.62286804564,-2490.4172338254093,-5515.985585559029,32255.34190109457,-3097.153493976071,-6099.1526330027655,-9016.174395966967,-4893.337012501827,-2748.8631343687994,-4691.547014038158,-4392.114239611538,3514.1932164181126,-2414.524867845979,-3368.6137159124937,47878.11636941035,1145.2249189155823,5491.485384939781,-3338.763694284376,10.747457570356493,1284.3966074155649,3254.6389518029146,-8125.854285274195,-8303.010264034598,-2822.905679065483,-7685.639893112041,-7184.958260100483,-343.18934931104513,27216.590755844467,-1257.0120250712494,2040.3763023363974,-7208.0571225026215,-6278.539088300895,24059.853470462545,-4554.07384097968,-1117.8936503348775,-1730.536008110722,648.6112178490865,744.153864734348,-4915.322300227438,41000.54287045532,-3777.6124429857464,-2275.0472330592534,-6828.415673583014,-5847.36533318867,-5672.377876133354,148.4065190640812,-2331.214023066717,3687.191384343437,-6052.665359269786,-6180.655498274009,-2908.855932153239,24808.22059243683,-4835.349920008143,-9378.626236348477,-3567.763366266195,21086.27576702134,6018.363148552287,-5853.201728172199,-3384.2451478887947,-3367.655350668589,-7206.220798007634,-9332.09474255994,-1435.3793318062176,-2750.24730816286,-6794.440776166371,-6974.1923281982345,-5096.8200037019915,-9790.444266708893,-7121.812518627267,-3322.557315847573,-8212.275031055891,-10001.931908809864,-1488.0548453491892,26523.48691470143,2147.8494670343616,-11483.26358726315,-6570.116283354393,-2656.1187460817628,-3428.7709936635674,-4723.790483305291,-4970.7586486373175,-8357.285241002299,-324.94602876895937,-3006.1987954810465,-422.6687834892126,-5133.536861644349,327.2427998258987,-7357.556170634381,1843.454976091109,-2585.0702429934413,-10310.56284959825,-5201.687100406771,-1278.948201697949,4205.34539367564,23023.54581236097,-6735.572834504661,-128.39833723263524,-4732.504593241265,-4601.416744226236,7189.972209998775,-6660.394669148062,-6516.222693929112,574.7511323739366,-9331.216960755708,-85.64068474570009,-2128.172199524214,-3936.288420942892,1107.3510078685301,-9748.842644480546,2393.992841267774,10230.155666036011,-3266.7043456479037,492.5095471294607,-377.9503142774097,-7628.886917745802,-9637.1196716999,-8893.180958857329,3292.9560518946005,-4762.823209460801,-6490.89940130838,-3243.793106930059,-2494.246615481757,-2503.192292213795,-6533.323236500879,-4399.315837046242,70074.54998464274,-5157.413184145964,51056.701775409565,72672.25157014743,-5236.231998190431,30117.113821260744,-4305.283976186298,21334.021450872293,36701.24222315241,-988.2475153320055,1134.0546316780828,27383.291442634687,-10039.784608734635,-6391.129307350477,-5654.199134414689,-8223.042508011053,-6777.508984766151,-9762.346866339863,4742.79753433313,-5001.997062649942,-7231.808315616208,-1780.7498164744666,75269.1799186963,33318.985161081946,959.4042484886683,-8489.012049803294,-2929.6554062549276,-4181.8646642934045,14165.997798421307,-5845.52414141115,-10179.27248007444,-635.6903124537895,31365.565291744388,-1590.183685578113,42897.79438356416,-1203.8482655545617,43102.09924240319,-6122.746148555343,-1389.7259896797198,-7637.572041264125,-6715.263224782186,-6049.852852476902,1826.6161223377596,2561.9301917924095,-4178.586867048442,10221.550938837201,-3211.2584275324366,7847.891151349852,1488.8016017565117,8946.467324986985,-6710.647246133177,-7456.3843726375635,148.99248509106133,2911.2459993360644,-1681.0888355110367,31635.761387987975,-9580.215380446945,-4172.939594375606,-4459.397063545612,-10425.92379311314,-5321.372696137241,-2306.450684227724,-7211.069652932025,-2373.216469422678,-1807.2683028564982,-12670.39535011821,-3742.502858709536,17259.897816251858,28671.99360968263,6200.890242327779,-7605.030651354071,-3474.562578195706,-13488.415222884212,-1589.2371982924992,-4234.12595101531,-3831.507989154624,-4934.680007136309,31041.68914323351,-6869.409328974964,-1773.8475628845608,-9911.936197632056,1145.6384779673576,-4228.657877944017,-3536.319696547574,-1776.0795089140768,36928.80247735863,5700.105677689298,11314.16216690792,-6545.069150235492,-8260.520698782355,3882.076686874863,-3770.5404178396366,-5122.796636339916,-5033.411144148783,-5384.226031720411,-1225.2428961304624,-850.9660312586548,24647.417242770058,-5041.652270235988,-6674.814363996863,-2293.733561471919,11911.765352540755,-9250.660829652217,-2827.3762857977963,5093.072953873262,-3986.732732621254,-7228.662330798789,-7148.527414882188,-7240.543230027787,38747.53642701209,66429.62471304105,3208.4195146527823,133.7180493481633,41944.28916128181,-5907.438248793166,59646.75861755958,-6073.306362900069,2298.866929158215,68450.02031086001,-4295.724617670948,68462.8060610995,-4828.85231331399,-8060.441770374764,-12168.692340459882,3768.7542638613045,-3505.010447827434,-3593.072295761998,-7003.146360410424,-4927.667799790463,11227.932823320989,-2636.598473101011,-9812.915787883689,29955.743787702286,-1547.1173233588993,-5290.777763814171,-1487.9803124928187,920.6333123641518,9327.356740310686,-9935.456717852017,-9646.470955083787,13545.101414343819,-9492.24508577283,-6390.02420331092,-4669.942498717317,-10613.16956367756,-6845.535064959225,-7331.701354865993,-3889.1108044201137,-2546.550703681333,-9484.292109773287,-2975.3561662272728,3388.124942782522,24196.18885501108,-8832.970776893171,-3323.8116631576263,-5767.771810221799,4838.025441383366,-13031.453535951965,984.1694647417313,-2333.3737522129977,-11021.313514199639,25198.96227481632,-8057.387745090098,-4212.947665055477,6709.987825675801,2662.013039726012,-2986.6653003652796,2585.0622935409065,-8.312392716905528,1792.753596593579,-542.3117646322024,-2716.4503632992178,-3347.24352304473,-3690.578624612129,-7763.695862665344,-4952.969988754658,61463.786779947026,35570.24626559328,14125.757458163638,-2446.6358799320246,-7082.093876149583,-9897.895818698724,-8709.191930612678,-984.6957536392968,-9321.724530624326,-10528.894074656415,58516.277744247134,13814.99403722262,-4717.08752737268,-7184.248074882241,-956.6041339740693,-3917.6999024908023,-7522.183292437468,19307.459637403612,1157.2946210531793,-1893.9456280955317,18854.63072652789,-1210.1209102968846,-5175.8220287621525,-5250.468703722709,-6616.050063728568,15903.709659291111,1717.8202677775457,24032.429735332636,-2080.7389009851095,-7789.915835632143,67129.7999280922,-2915.0575010521507,35355.57752487613,-4124.199907222276,7856.555586041959,-10278.260805624224,-8132.090380073773,-1428.1962779140963,-8076.776792103962,-5296.3673644341825,-3041.95127064984,-12263.517827114934,1360.3033348424688,5918.764913357911,-7913.963613834981,-107.4440822664838,-7266.712829052664,-4194.0419877437525,40841.19005707449,-10584.87575667036,-11058.134598755641,-6346.194982814845,-3935.7517595826284,3309.5954235156664,-981.7320675770811,-7503.334890041543,-2540.339644334779,-5542.902982371268,3870.9612906310886,-6576.241103792814,-455.9886594858087,4823.2579499167805,-6674.933170962157,-3027.0995738419447,-9725.05573539894,-9020.682709224093,-10090.468904969926,-3924.9343073392483,76206.1633140153,742.8315702117982,-7302.447440515726,-7106.236054993436,-12852.366650186746,-12038.36879718493,21800.683863437815,-4120.004656373054,866.0401604261496,-11774.103132809321,-4325.925328884,3289.2850138612066,6625.400233523656,-7711.98649523082,-6143.691666390893,-6953.913414582209,7269.112132597179,1503.8063186381016,-980.5730549770664,2548.989128628738,-9020.63515396066,3124.0106595770326,-6745.378316506625,4238.11705800572,-6369.94740903908,-1640.666490546481,-3201.253054375401,1930.9417601788498,-7769.715704660871,-1558.7308962524633,-1536.9296085311416,-5621.36556827256,-9218.430390379632,-11812.639921513453,284.48422737288666,-5488.718618751084,894.534226157353,5670.337712897925,-4911.459102902134,-8410.080172274222,-4403.139095177465,-313.5260891461745,-9354.637576842717,-1979.6841365739715,-9289.561954459812,11992.627560724288,22552.68010500686,-8386.535280571998,-8617.182815350166,1352.0536987539906,-3183.5110219984654,-4946.156602467179,7.009740899370992,-2319.3191581526517,18462.378246195756,-12953.293020481162,-9105.03363394161,-4528.285687423387,7034.269637756452,-6365.331941737545,3419.678654841686,-7178.041874135028,1760.6915159849825,1900.5934783837051,-2308.0112272419815,-13180.45112520921,-2240.733192266734,-8702.234929031174,-3222.326855270677,-2565.080986719854,10443.137308547426,5475.186581565906,-4820.972015144343,-6931.1534661516225,13798.753229311187,-2675.419186747481,-3760.9472446601935,-8369.300956789522,-3105.436097006902,-2393.125399794917,-2680.6465736845316,135279.85410408833,651.6923129405437,24857.02445306942,3440.4791662875386,-1976.4675885174786,-6944.688369763124,-8117.315543771294,-2625.2931167731203,-7956.281470313868,1133.0648450911847,4938.715631864071,39116.15795941481,-622.564327371835,-4937.597486853032,-7120.599552594508,-4506.325655875434,-2915.1260906651614,6331.891149070181,-3902.30519138783,-4594.127951845073,-9297.957563147791,-7672.619638621144,-11268.325780297177,-6572.769156070291,-10684.33725226236,-8476.533043674975,-874.1991890257783,2929.2172436837786,1579.3544562358566,-4870.3822871583925,-8049.281045810912,-2939.462692734989,-15555.106085237854,-1667.1189869957657,-5388.924020811888,-7153.596210841641,-5974.888329399231,2634.122793338406,-667.6844128381281,-2769.716960217783,-10856.000043841159,-7387.096405829717,1706.1577697844446,-6815.155841910999,-6467.233517585764,-4966.1673071524765,-7291.419569168925,78097.63677901258,-8515.567970030343,-3494.3749484831988,-2425.1467879366514,-9182.903024498739,15064.146366682287,2039.487199540514,-7338.788755746136,-2111.7892022306482,-4003.9119331668735,-4156.080835923273,-4557.4841329126975,-7215.543193882023,-3981.3771521046274,-2571.3859776894897,-4047.7747559820905,-9386.135457023718,-6319.488526104501,-1892.2112313305224,87595.28524929764,-1910.925003853551,43471.13729777412,-733.7982057284079,-6610.969402524294,1228.4796422208428,-3485.927375226573,-4298.096592515904,-6977.520427820116,-8456.879619914089,-5788.437371474436,-7760.767158716201,-6624.299665777399,-1266.0521166581193,8581.16767406732,-4594.843072877653,-6693.16680953006,2628.3398241712007,-4621.976201507949,-7904.692048691424,-1601.7438290077962,-7644.128558829785,-6716.896210124565,-3462.4620621187646,63013.20215398755,-1263.178798938011,-7564.83193344688,-5846.360968264667,-8357.500840422077,-7393.057794355128,18004.265148385774,-3221.358006601907,-11677.61646583888,-6825.990273782508,-7476.906893488154,-11376.023605220018,-5627.616840159065,458.10537509917657,1539.308641397354,-2930.326320683089,-9330.12104608801,-5446.3643333095,352.82706007402214,-4681.06695217903,-7082.438011691889,-12272.861737117528,-1607.5983653788992,-4686.770372606419,1510.2440513421707,-9331.23604219346,-6272.421505464438,677.4704299859487,-2642.625061385062,7512.2748467714255,-5964.872356092487,2293.834314351041,-4356.162817664027,-2076.4617355139944,564.1999128684923,-161.59341037213463,-4212.359481735161,-3091.5410173477626,-5913.699091565244,-18170.337121060864,-1039.4502340116414,-3530.6263232135466,-7701.466593628069,-3895.3897004676023,-2834.0157464015356,8827.742237193228,-5224.746220634269,-2148.0888490250054,-8659.812816679905,-4842.423298149398,-3348.980744213175,204.47614839327002,-2875.242138181341,-735.6227031680306,-9774.176206542577,-2963.0307958060384,-6516.016095762483,-6040.245624032308,-2044.678243667537,-9019.039382523168,-5082.716730790991,-5829.844676150844,-7280.369916640423,-4571.9924983823685,-9446.583933181542,-2733.7754724452784,-3655.9572146490673,-11044.712804587756,-4841.598767675802,3669.500274546979,-10607.497488704288,-280.848864191431,-15868.90461758821,-2954.0778602608484,-6143.994843654528,30504.55159680427,-8572.50898656077,-4903.691237605498,-1632.4597055033546,-9946.562163453747,-1482.137307058082,-8233.052071844108,-5338.202771662258,-2784.303660181629,2679.4792988221493,1351.961130376546,-1123.2091956833663,29161.808760491323,-1520.6385325652955,-1859.144274692736,-5975.606297308333,-8334.333047525932,-684.1879482344773,2588.2724467809453,1743.994989715533,-4305.908518236131,-11178.344918212782,-9282.245480224272,-8496.999024033183,1852.136572507709,-9030.932604178222,-3859.124305452113,2561.656130801075,59088.9774423049,-2781.575623650959,194.77433554935905,-7663.749574551255,-12706.16778035335,-12709.621511283922,-7500.384682875269,-581.9096278533142,-2301.4946043468526,-6776.283527755386,3264.0607533698185,-8166.161057551499,4442.1146945341325,-7222.13743630308,-4462.970175762887,-7292.029120813964,-6378.762169110092,-3971.5553722543195,-6262.166938599641,-3486.27599815125,-1302.7465709703306,-306.6303722963029,13139.01715896247,-10261.624131480907,27753.79259164891,-3582.2514780998863,1136.8930170742221,-8976.955358530991,-3402.1709233974016,-571.1807881831916,-1463.8836109570166,-566.0394904609067,3387.230490198572,-3867.5372769306477,-18730.699033347824,-2924.739042112674,3933.251569344827,-435.1069144107244,12282.641152317641,-3703.0093727032563,-11289.991135430753,-6918.457380066355,-3112.4129202127647,-5403.58151543305,818.8871520915676,-4809.171338959403,16183.89128800633,34226.093605590206,-3333.1825105475546,-12233.381563254252,-2577.0771498634094,-10600.346577506953,305.9396196863371,-7578.685209903113,-4507.574147436897,3885.2262891971372,-5893.91596353105,-10277.158683096142,-2893.8896412300464,-9798.578965410063,-4809.871090344546,2769.0050132901406,-7423.95870643281,-395.76718916413785,-1451.151112762114,-3346.262737943255,156.2452791887119,-8284.189864435515,-4763.890080807292,403.22471815246115,-5228.54908872885,-8597.798580460783,-633.8605076920077,-7885.785781398689,-8136.4228920434625,-7368.827390468352,2166.7603803954717,-6499.726492127142,-2922.4010698764737,-3767.311318059957,-3082.903763775689,2782.9451157989147,-9787.973302674369,-6266.040731324174,-8122.37650124176,-8169.510762775968,-1668.8294230058027,-8460.126631597494,882.7522154991989,-4225.904833882811,-4394.583585672066,1023.7693593387137,-1031.115832904848,-2749.5872060075117,-8384.591555612982,-5990.755650638846,6874.8739149218145,-10025.314964600158,1436.2542565316346,1081.2546624307736,-2438.4134669539103,1431.9198768546835,-987.6929479776861,1203.889345396389,-5160.068062870439,-2256.9239172179946,-10756.940939869504,-8357.677831176106,-5378.097370708409,2241.0913436628175,-619.9917491269764,23417.525530814015,-1446.3187147359718,-14065.047248565363,-5740.692205154975,-6422.907029411623,-9514.50617148844,-1164.3038117531055,-2586.7068749522537,-6960.5478040943035,6035.689313844004,-5311.5747056873115,-753.1639906958408,-7371.5584304786535,-5747.213415353409,-4280.145248938671,-6219.646337539511,582.4001884386386,7958.695196777611,-7103.220803483984,-346.07315718171236,16918.575366279478,-4272.963737354333,-508.4713007222295,-6660.788115353565,-6170.117901853488,-9761.335527552093,-10769.396436610366,-11604.204978943493,-8344.777834795093,-8055.409597490973,-12486.941014886677,-3426.234196487643,-8904.240214663118,-9461.40633441615,-2909.0704353926144,-6068.604834884587,-3501.7191487447653,-15972.359553521237,-3354.8050025477155,40853.40232327572,-749.841322538479,-2534.873290962887,1925.4351572399612,-5229.62926486958,-12896.788268225317,-13481.607794898437,18629.556724923037,-10676.984434375887,-4663.786059845379,-6100.958339615012,8642.335901449824,-6809.880544934087,-12169.836467198778,-6492.334050821769,-8109.757383779133,-12594.78113597421,-8611.036699029972,-8779.854940165957,-9361.166315548584,-3846.360380146728,-7211.988171397666,-11031.655951132769,-4452.287776823422,-12911.419819468838,-4605.32467260818,35.90154442217488,-4997.821126393711,-10247.160005678998,-6552.519821388661,-6738.386128226696,-4083.791686721361,-8664.222471250643,-3267.6740456308685,4875.619090055451,-3150.8770635637234,-3392.6132815957994,-8983.832577093144,-8794.997928072458,-5533.278001981997,-9838.83120198503,-11162.969408947381,-2974.2197686965105,71.49809407980706,137957.4954507828,-4262.384919698569,-1546.13717498008,-8212.254927064418,-5612.395729523977,-3537.18999387237,-10980.503292997022,-7795.9827537131205,-5261.09481936783,42821.62368027279,1019.0665418306891,5746.727736553661,-4417.754701429994,-3664.0894728939184,-2308.7796724416435,-10013.17929431214,-3003.7223153640393,-88.1400198965965,-7964.564515827922,-14781.828771066668,-7295.918323164771,-993.5517859197877,3843.06540154141,-6932.271131431169,-7565.334350222769,-5060.4976479152965,-9537.269554539394,-6190.81862027431,3418.978535660299,-4405.499097865497,3622.4574551504106,-4512.283360595106,-2154.9413547329386,-12256.96081740326,-4071.882083163093,-1494.1741989307461,52512.25607143945,1162.5630844253076,-5544.2217572900145,-3159.586537737761,-3602.196020762591,-1651.000756890587,-7809.272798613652,-2533.7900668844413,-10264.418015211644,40133.130926849124,-3762.485148076073,28957.681417368443,-3103.780081538574,527.4486724487997,-6659.939884995322,-5453.768717334469,18106.376044200562,-4894.877059437102,-9046.042920680804,-9269.364127261299,-6101.515391503738,25876.217168305488,-12403.69060423485,-7612.047567575012,-3726.5740835995975,-7959.874230201694,-9571.802949465804,13442.057886000628,-7183.415163201417,-6288.060649112664,-6199.860582029507,-9857.903607205752,50526.415673721065,1800.6166065050104,42875.47167430522,-13154.4054878784,-5972.485837752476,-2635.8937571403135,1513.4603995793084,-6930.625611682444,-2320.9484049516277,-3558.9370811335693,-8386.196484813434,-8791.35107275576,-7939.502981968106,-11773.56954191552,-3072.8889493143993,-14574.794919080741,-12794.942989625571,-1571.325341458556,-1917.131149869111,-1972.9986718409582,-7804.460575010758,-7063.300798281718,-3367.156125612532,-6724.741760724278,-12262.07289066126,518.0815891306889,-8390.499860897527,-11338.636887834287,-2494.173408314496,-5030.413676282928,2014.5195413013655,11613.710923477396,-3928.9962827579134,-6094.652253642093,-11263.221236919057,-17401.642492077048,-9586.982247808259,-5615.926399445825,-5983.3540008904665,-4538.413662641251,-5907.381073783595,-14852.020390390318,2201.914266518973,-7065.932975433894,1612.0815802012842,877.278669115765,-10323.06554746613,-6529.943646972618,-2977.9547058468233,-4288.552428275804,-4230.381963054036,-612.3313737092354,568.4972454310373,-5944.952623697046,-9480.74208319218,-11260.990213568373,-6136.2076706200105,-3484.1118490071494,-5832.65324191055,-11096.502416733363,-7636.9310470809905,-6638.268726108065,-2833.665774880977,25345.27437297359,-11492.707730354368,-8187.775794626339,34564.22218414805,-5439.483477749949,-7862.694185512865,-8568.022286550786,6011.858010906023,-6642.636975642664,-2836.1275313208616,-5659.752362592861,-8055.140139433474,-9091.742070388298,-14078.109059947774,-4970.5973060628685,-6820.701088725453,-10693.526801774758,-4473.40278002128,-3947.06807309232,-6758.541805324874,4258.760343276551,-10079.98727747975,-8840.155127912805,1385.4940814108625,-7269.621311056255,105184.52491237626,1393.4395826352886,-5703.160758762316,-7752.802306108336,-8798.417714476604,-8213.938997093042,-6937.680913828159,11620.12958509289,-8406.206725640475,-9380.108559285796,-7979.137185931869,-9410.616821031377,-6311.98682970469,-5484.845124524421,2715.450575459396,-5737.706359431434,-9340.699860576518,-8962.976132699085,13356.107814350178,-3443.3814323051865,-7124.632309464428,-425.56815909979883,31751.944145100497,-16471.232892874155,-5099.276182391791,-7445.1830880408825,-9581.050649453753,15175.716343557535,-4683.089612510604,-8788.193174536345,-9970.146438132233,-9426.411446072834,-5752.812070388353,-4959.071182484822,-13243.40451728711,-2916.619609625629,-7979.599515392377,-3003.207608614524,-10894.662395459996,-11686.172410863537,-11049.019731341536,-8103.585314031299,-8959.648903127416,-13244.631865644884,-14158.539658872722,-9228.955195978844,88.6917500195362,-9100.370504344599,17833.435105358833,-6596.653264032797,-7008.789051615238,-3524.3351012179955,3241.4541256610264,-7822.901059987337,11966.154981738122,-11115.445451277936,62402.906736709105,-4080.6663918204226,-6964.447572679626,-5767.497021879834,-9757.091085222319,-9806.113960048864,-4213.012312835994,-3957.665272370431,-11312.169983501612,3070.7914363151226,13631.69649756756,-3669.299085534656,-4573.074966986721,-6209.071233894792,-6229.672484061022,-5913.810361303031,-2265.842672812595,93729.17783494963,66094.40637005495,-12022.2179362627,-7239.100457252722,-4255.267002775684,473.65050585874974,-13281.124825694349,-7565.591335554182,-13384.64826474363,-15048.839485697832,16042.021903154977,5025.738449094573,-1154.1018995956376,-5263.874890902578,-8372.422123046392,-11354.945239552404,-12863.533315141163,-1115.4393501506552,-1578.9453954581734,17744.315498319596,-9141.779220267725,-8740.026731633947,-6232.47261237028,-5842.535915057073,-9139.760554471586,-8975.454010402555,-2921.8986066698003,-7673.607215546366,-8224.62381631283,-1138.478864672488,2161.8599117334,-422.64028512509026,-9196.305877158331,13283.635811249582,-7280.78274041739,-4912.369060677623,-4520.144066926681,-13980.841685407167,-6237.335861097286,-6144.339405367452,-11834.769229381674,-6136.503693572738,-4883.730344532344,-10689.47345474918,-6429.263626689047,-6567.334478617635,-15765.865082472268,972.9020563102694,-6767.374996401968,-8153.068866472859,-10144.26310375087,-9034.532985093336,-2214.6459343656174,-5882.6965888041,-8876.17840607846,15578.880842637245,-5920.4459308156565,-11137.39832374724,-1095.58871230943,-2272.390562985632,-2195.7812341471586,132095.8556107638,-1957.8256907756913,-14174.832866351197,-7860.2934113913325,1474.7153678447037,-12161.685903478108,-9875.795074462896,-4745.609892224618,22122.59060772056,17815.64665303497,-9019.54451744302,605.7988723814246,-4712.112672633962,-7987.749837386916,7792.347066459056,-10397.573508425492,-6077.692561653913,12579.797543404222,-5014.42837435269,-4387.183156869233,-8552.308494022089,-9119.599410282512,-4140.20983192516,-3242.4458896101673,-9056.769268909957,-5969.161284714541,-12233.614095103245,-4266.37815805038,-7847.618466803026,36752.4972875481,18408.551867153285,4053.5726151525773,5524.2991571410885,-6384.288872029324,5002.645191714141,387.9313830935189,-262.666746804336,-3744.6386621142615,-3027.239919365687,-3028.790454625657,-940.2023062741306,-12108.821234355271,1941.0040258160786,-5487.283086126695,-5702.694134705353,76288.81675693796,-12877.176816564586,-4172.773334579892,-11114.545267326128,25762.619049698616,-6217.775207295413,-9369.46421393651,-5074.39606649251,-6757.036370154022,-2230.828693736097,-13997.722917317493,-8108.003003640287,-3527.9818393902783,738.593030948865,-5234.068663937558,-6216.618204105054,-7004.402579670007,-9381.787916359124,-9715.089720583932,-5489.58922404208,-2773.4395054130755,-5052.775068165412,-2100.0988219956175,4099.543654582016,53924.77913337281,-6659.405956999329,-6665.948772732352,-6522.5486039177085,-13663.36393402666,-11120.978278145243,-1906.6476487680325,-6197.177491341639,-11089.40226686104,-9106.461009876351,-10129.128132328386,571.2090205061206,-310.76870216041874,-15753.349099089708,-6469.776193550367,-6754.542247089361,-12450.417133585399,25755.107557164945,2439.436544150606,-6101.557110136257,-12397.494857699434,-2186.7668422054007,-16592.995580133935,-17108.595718614248,15680.603816900728,-10420.789399781905,-13200.635600622178,-6109.699269818779,-6822.650279017206,-14843.838109341792,-19703.157640513273,18312.884513936464,4343.091548470324,-8877.345207834991,-9636.650123340438,-3213.485167944448,-374.36077682936957,-9836.431685698697,-10743.120217413196,-9042.331770189607,-9943.909085289477,-2463.359929828573,-5505.670986071134,-1765.524086804307,-5391.325103294391,-4100.50253758153,-11575.88081364564,-20920.80449703106,393.5271313729089,-8319.466710570066,-2377.796240922358,-3961.376157395424,3269.702790511315,-9310.654476290834,-2641.1465324796704,-5537.231206630996,-10033.166557002622,-4764.8841009907865,-199.7910290225858,-10788.33287484394,-15797.042943081973,-11136.839958057288,-14956.396443887465,-10161.687975219058,15071.978308436059,-5965.73259399654,-9381.24156976934,-6894.859940195237,-6811.891005553304,-8976.329364403486,-7795.155875133808,-11982.830607844871,-13738.107226032109,-5656.883069864544,-9025.414001064348,-7776.284938187375,-5247.291189909911,-10958.514829749322,-4728.2049015030225,117.88874157869053,-9868.749272228519,-3659.8128535635474,-4397.349015757147,-6503.110768178926,-12887.713884434672,-1357.4655225493398,-14233.59201752315,364.419266704942,3981.7655018286514,-6532.999365988096,-8408.844988767423,-6528.368791285247,-13657.748129499218,-5881.307038385957,-7208.013044765029,-3866.2958713304865,-5767.791276186493,-7516.686490976126,-13783.907485512982,-3255.6999206249225,-632.3363756174065,-839.0105701521695,-4840.190061256107,-10423.431753051584,1769.283456839029,4849.583679486357,81404.70254707478,-5168.449032371713,-5044.320395391057,-14641.13008548608,-5316.436431991864,16692.18002600221,-8737.865390802948,-11028.870327558128,-9789.991156545235,-5971.241620506598,7292.918114817652,-782.494234552793,-12403.334231283376,-12310.296768548167,-8432.06588694441,-2938.722999090518,-200.1821930138966,-7192.028863695669,-8200.101653413896,-7030.603086609965,-4867.8692115258245,-6171.089345928591,-10906.752736834027,47343.29180319103,-11540.05443788434,-13525.19141139764,-1618.4057961505523,-1877.5564182587345,-2521.7742351142147,-5366.657734380042,-4363.885847530688,-14195.16243598871,-7233.486181832057,-4536.54881023997,-11241.06636334625,7778.884688688687,-4596.962525063569,-11476.365540635472,-3250.8974189401824,-8903.908589196735,-10339.970113226105,-6266.059999349236,-533.6447422206817,5181.483152814898,-5736.911436283799,-4679.3475098246445,-11731.827830904063,-9748.029516325452,-8336.264778104254,4586.299209202742,12090.545550078066,-7102.465275527711,-8602.297850843044,-14448.170937262603,-7452.187932731542,-7570.7693137134,-1729.0037671432724,-7949.908460353426,15587.564477037911,-15821.13201154026,-5450.34010092116,4795.834142909564,12672.997095655317,-444.35096576954123,-6561.269475716462,-4110.213237237941,-11948.94808034696,-7203.8681213042555,71379.68934029342,7486.2766638488,-5164.553921810887,-5693.4615717243605,23656.66406297417,25819.67939350751,-12170.11046925612,-13073.112361554735,-11665.00969015304,-2320.182497153197,-10464.174481304392,-5867.687326058775,-6633.283943315617,-6685.133986599028,-8301.362536996501,1529.800705401917,-6666.827640595913,-4009.1747541182926,-12346.02095372087,-8489.715391428934,-3950.8345264177283,-15831.41254320211,-7360.530606788207,-10232.552677806143,-18621.4238330033,38919.00898505806,-3550.619108910193,-9252.6964323969,-16551.959596970988,3910.6323520433816,-9706.0846939983,-7728.705217894139,-10813.817259066256,-4869.566613658238,-13564.677909237804,-3897.987060155642,17111.745601975563,23137.390842301673,-14143.010245446387,-16047.818177666923,-5902.272588010165,-4693.006895554644,-8152.66569602727,21752.842470647956,693.5993114956702,-7579.33845620534,-8774.017557571457,-407.5880150231122,12379.00815485993,-13303.707640317147,-9800.761411619176,-13360.35018638223,-912.7730249615352,-8226.484258656552,-2299.776112096545,-16799.36597349846,-8533.270685866493,2321.100628609217,-3455.716996431624,-13469.717367751078,-11136.79170421213,-3795.8480260327665,-8057.605884418371,-2967.8522740503763,3314.6877833493427,-8979.784721897158,-1169.7702685413865,-10862.121691568624,3124.0583702032814,-8371.761865396169,-11318.419616081812,-2419.317056534068,-1326.8729393685394,-10043.924745805058,-6337.340523119216,50953.37717623019,-10473.482867705705,-10395.891899559536,-9985.698348830267,-10050.668782266124,-27460.786047391473,-9705.333649727669,841.963023486855,36602.253885915416,-4730.725371164593,-14616.003911894064,-7399.858848095366,-4966.074088621447,-8967.171822546616,-10678.779236806464,-14032.144187152417,30503.68741999734,20721.078275863114,-9333.528479309569,-9917.231205624195,13773.418933233976,196805.00061281247,-9472.491638146388,-14324.075844227977,-11466.897173091524,-6733.771920162616,-4280.726520089051,-3409.762174372504,-6067.46426663458,-3538.5587304266774,1306.048136280349,11893.484591678309,-1007.2932061691072,-11989.019483950337,-10567.23526707772,-4401.994881980378,-6573.933852334841,-9679.94503783947,11635.277920159557,-9087.005322057199,-32067.867037927117,-10065.27252109052,-11094.748790480759,-3685.9594680116643,-22469.647612247994,-6138.0065270379755,-2892.023535337908,9475.28067755812,6807.10668970864,-12458.829449117466,-13763.999378741844,-12629.193834242102,-12369.029745403357,-12382.593349525236,-7770.788662510341,19793.358274228933,-4815.210715170161,10814.403661454568,-3624.799909851068,-7907.220717093915,-23403.20970710896,-8997.058715928333,1027.2358312304038,-9208.374140163323,-5921.750171183895,2114.197989701855,-11858.178800173924,-5465.6009808833105,-8389.200888607978,-18687.20254383169,-7593.689445080584,-18880.286335895522,-8762.17806511101,-12061.862152697075,-17623.115007804125,-6654.461243225255,-6354.720203831476,-15010.933888589228,-13853.160640031807,-7824.754043381301,-477.84009694004396,-6037.546897913362,28946.441555707155,-11879.930167284552,-17348.97214825045,-17168.119472388335,1959.8301041549792,-15782.730401248038,-11095.136850443278,14436.297767635773,-5045.352818435862,-6112.959463021555,-15281.738614183478,-7577.406462121602,7195.034941162529,-197.62157181224953,14752.58386661059,17935.64720935715,-13618.725741664184,-12613.561440059722,-10126.254653210863,-13621.229908130552,-16907.822008723666,27551.46883193047,-2708.772841111094,-18493.755299739583,-14983.313369246933,-3006.908958437141,-8970.637277705835,-8472.64743902027,-4365.623193387408,20744.46311135134,12711.552373303946,21628.915172833847,-10358.324998716764,-1824.2094915590153,-7207.827967553518,-6395.194596755915,-16174.23973831542,-8975.824500556162,-9538.155824131962,-4293.409175036653,-12157.327853263798,-11925.022704154399,-13059.345335191976,-8327.585345656888,-9419.033813257527,-6489.900141437635,-5424.8390291181295,6148.325029984002,-12172.04369023051,-14342.802890166444,-19212.28090621798,-10470.877245784735,-5714.67238740272,-8140.715478629935,-16111.918446046982,-2044.3834039333935,7277.170591425945,-6661.013124757144,-11720.767836822442,-10584.158776756542,-8601.50522587074,-15938.958073041002,-15183.701672039957,-8316.341695815467,-7322.599533119983,-8246.946386669844,-11317.806558182889,-6016.429483151151,-9289.606331301426,-9234.985849051447,-19076.3548327614,-13169.161428998284,2204.821361125942,-8825.273839499705,-15766.502974166657,-17949.910126544746,-8192.61002674912,-2334.4875991324298,-7277.879158488725,-7146.064241143038,-15083.719427423188,-13811.414046328935,-16248.563624509032,-6909.528022449915,-5220.691574820016,-12508.99499688439,-15027.856902895113,6090.1711632203405,-16490.135638038893,-34392.080911481404,-1034.2790308317497,1028.7106377471066,-13140.929915570989,-11145.264826868231,-20780.253844027084,-9639.151481778646,-15261.82328157047,-3705.5472040098502,-9283.787498034317,4163.821881023882,-11983.578028126132,-5991.336493745101,35291.714329757364,15205.14195805198,-2362.7139087948312,-11865.013742871584,-15698.431536314823,-17220.859885420967,-8501.3656772965,-654.4275346632894,1414.6287630364877,-6766.410977829262,-2780.6465534024796,-8379.271159109905,18676.880730562774,13502.480394919538,13370.118690054556,3730.144860546451,17031.206868819343,-5320.479303833763,-7765.273770497964,1553.7678935694337,5079.000434272567,-8295.014605182501,-5175.756561387718,-10481.669706871957,-10746.88887549365,41663.747755982564,6111.9641968029,-16415.014460149967,-17323.649126371092,-3255.764733075188,-18008.38625622719,-3943.503622337126,-14095.30340437471,-12240.983127680398,-7300.534524173122,-7934.578512075594,-16538.846886943524,-2020.1921882845045,-10397.878422547132,-10206.59530493426,-8411.462366286936,-6113.778086526775,55846.55507017548,-11841.613109603788,17895.252429175915,-14141.587430879767,-8982.593671966113,-12270.31146005976,-20048.54099240622,-12752.744094022457,-3079.979814659792,6944.347909023293,-3040.6602659316213,-2571.4331672362023,-7795.557154593794,-1981.5762221418381,-7308.772753138327,-8567.93740731271,-10304.451870078441,9328.939400895244,-11490.63750939801,-4131.5116897671705,-15100.22020308479,-598.0647997186563,-9445.57283790429,-1322.0838726824843,-11162.785905614997,-20668.94576987624,-4858.047459953034,-16251.627320169897,-5602.258397680676,-9574.907962583748,-12497.125356224644,-6304.222217883447,-14855.303939760583,-10164.738897785168,-20633.70355848542,8653.897008837224,-12939.18391888468,-20023.86563301231,-16240.172678150155,-3023.3273538396847,-8494.773926282152,-170.37825369916274,81994.09947492433,-14250.295493635937,-16751.697153869794,-10273.043528762828,-10117.682776636893,-6769.517569638684,-8293.407454989767,-5598.795105420869,-47283.48077072806,-2905.1751153968426,-13506.002790734121,-7235.900555910165,-10417.246244100561,-8282.73245006599,749.1058050231933,-2650.8193438070693,-13743.129535944285,-8638.025981045335,-4589.1753537409195,-13576.441586127283,20023.948937569134,-4187.536945259857,-13807.243819418347,1234.3022157389223,-9832.186584041014,-3845.5971354807066,-16116.159024400657,-12510.583325494188,19914.827273523068,-34158.154689628216,78642.3022049423,-3384.588738067386,-11029.278413543556,-6179.802658996299,-1911.3920463429595,-4714.207843169791,-5455.669807147241,-11917.87257624473,8988.764097095924,4444.747288389851,-6834.01669812386,-7191.371125917784,-7305.666506505202,-12634.347974711052,-8051.474089932903,-5737.846144002202,-10397.031796632737,913.6855270300287,-13955.607596489714,-4004.817718348875,-11728.200206656958,2952.2677180904584,-11869.803164669589,-17889.575191789976,3297.365558028196,-12144.83871616705,-16416.604411479017,-109.57536311331106,250228.74991381497,-3985.4245153898487,-14427.807667613115,-7308.94285798402,-730.1730413071984,-4769.854700818214,36416.12938224484,90385.63422456446,11354.285755565405,-4876.199733512987,-5055.986805838602,-13253.674460692644,40234.823940073795,-10670.379332379558,-14046.492376457589,-1198.5816035613777,-10076.114514187699,-25535.350865794324,42821.88403200742,-17166.179087435372,-13788.265092204709,-19192.214616214133,0.0,15944.117727362185,69.31432118892472,-3744.74370650045,-6093.06786489494,7647.641133455995,3951.6812722110685,-11851.647023117373,-7522.361887651975,0.0,-9305.530868764281,0.0,0.0,0.0,36477.07469733369,-18103.078065883656,0.0,1708.6937287983465,10130.77318105803,0.0,0.0,-379.37545026646046,9783.676529822582,10344.286984520135,11096.11168817907,-2718.086410785247,-8871.81571608683,-8234.277357758823,5291.7067834195,10004.008912066027,7324.853925658453,9518.503298939337,-2380.6805936529686,279.6522382573177,6027.071871784079,-9491.155203880653,-5512.326065548662,-3290.817167305493,7084.001673269895,-1213.510864596427,-2694.2965816019387,5783.389283271486,-5235.50315497114,-2202.239436174736,-5128.7650125304945,11413.576955386825,748.7183646894489,-3550.803214488748,-4901.875984525577,-3198.420146331211,9717.57732846932,-1844.0186415255,-2758.917309086119,1363.069304089559,-129.9743440000126,-2209.834928800229,-1283.8260508766668,-474.60708832417214,-3537.2531320776766,-4199.779960427101,-946.8122653298067,12154.597778805086,14501.77306520971,5009.345626385412,440.1458734334851,-3731.1663298545536,-4442.488002827339,-10137.009966113294,-7831.177355583997,-4628.261434613663,-4536.270540381591,-3975.0852166432937,14711.65635399161,5707.940645440246,-4200.479711527504,-1549.4843416485369,-4575.854400293359,-2978.633517926641,-5437.752186365052,-5639.038795060465,2356.3309782638125,-6385.4457721944655,10477.05817555103,8985.142168096107,-3937.9095899605745,12433.950248989342,-1568.7411452061792,-4561.039634220747,-1283.3614196974013,4379.323155700386,-4498.962966842476,10659.979597475094,-1570.3641891404077,9260.56356660059,-6150.020339756247,-1518.4981996826218,250.4775144760065,3958.9529072867786,3068.7387868476317,-3350.544716916801,-5962.13757480232,-3250.0906004129993,-9719.067228337179,-4578.3878561683805,-4002.9433268441276,-2356.4978568717165,-6171.6448796364,-2749.486470819597,-6005.314052671382,245.0959367172468,-870.8102286956364,1666.0788362556775,-4850.442745714421,518.8873897170539,-3275.4171484659555,-9791.04914166015,-5783.059929046796,-2588.405856747582,4036.0156306318945,-6342.740727095816,-3116.3991950781083,-2988.8432084727865,-4069.7539811522965,-3139.8984249531227,-6773.878428716025,6337.638951762606,14401.852538807889,1340.840563345487,-4862.291611410408,-9993.322432015473,-5877.8068069231995,-3014.6323365018116,6028.1835544713,2793.8197542663684,-3179.790321543936,2440.9958692063346,-3241.180289165718,-2994.6627146078167,12512.344334195035,2643.1099538135572,-3389.6478255226975,-6115.778663506335,-4692.384550953991,-3049.562751923655,-4601.81654549314,-3739.0140033107255,-9444.120289247096,5394.24973964479,501.450604776503,-4892.025508770382,-6522.663120820829,-3200.2513002869687,-3667.1713900267605,-4619.978553205522,-6234.899406142283,2541.7941717979647,-6606.968329510071,1801.4014995749706,-6927.920524127779,-6329.622202014692,2459.0401114819906,13361.744343951204,5529.753730922061,-4625.258098538686,-3999.274923537621,-4016.953941603788,-3225.5664464342494,14707.70015275299,-863.1015276503217,2125.236797982911,-8899.254564658942,11771.39365978957,3582.163350817348,-882.9975113862278,-6570.687536634269,675.4096240778342,11848.116241058591,-4354.900985560534,-4470.037682979838,2215.2078693641674,-1101.4464812081774,-4538.4592991255895,-6866.9397073499995,15091.313936184733,-4329.483786579965,-3499.4951559810443,3762.0356315963645,12839.135710557694,-6227.858404429465,-3991.4983624440574,-4562.057953158869,-4584.957039519497,1993.0800679933548,-9010.880572570417,11543.17672653063,-4348.4556201832065,2706.4887524270744,11487.917705439439,11014.740657383436,-3801.5550661930442,13634.465984869503,2306.799964083584,11419.820229991241,589.2564075736806,-3302.7751198863357,-7017.123103722241,-3028.811625512577,2042.0322655074892,2017.98040399067,-3300.829451627275,1640.2040831714105,-5806.346665090779,-3544.563654005038,-11752.350332068096,11000.202869640354,9710.09091545712,-4943.561587505106,10738.049837391349,10648.574132695892,10502.850919811694,9425.982446587612,8752.473959275008,8013.067370911234,8529.838878680339,8367.138006326772,8799.560127273078,-11834.21224658261,-30601.322751459844,-309661.31520045194,-309551.42943976034,-309742.06131558144,-310158.271599095,-310817.3363551032,-308776.8156125812,-308389.5329478389,-308178.3017848756,-308052.4270811644,-307955.7848320084,-307829.5888263713,-307718.2598203077,-307550.5043637636,-307504.9414094273,-307587.6628066114,-306287.988915194,-306165.98533106147,-306007.196552358,-305668.48037169926,-305572.2010011219,-304021.33836652344,-303806.31698258215,-303378.4365134328,-302986.44766103267,-302403.39534786233,-299002.585214359,-297961.1659812493,-297185.807624699,-296478.3307089733,-295819.1407156966,-293883.84061493655,-291672.2874882985,-292966.7410206439,-292206.7664222965,-290571.06072737277,-288404.2129827732,-289149.70677696,-288270.83220249537,-287148.65031775174,-285433.7142479451,-283219.6490436937,-280221.5358391165,-280463.9793977738,-278131.92846459144,-282061.9035142561,-276768.2179234283,-276085.14507388254,-274508.52950194123,-313203.78499618504,-282966.44610459433,-274073.5025667003,-269706.11223262723,-270639.83027884725,-269165.96631437796,-260362.64360345606,-256306.97656561877,-266358.30914225115,-267562.2213417796,-256044.98980145124,-255326.46387248105,-241647.5886212935,-222519.30834862153,-207835.76164785033,-218918.20293147938,-217044.00303038824,-215018.2530638502,-178152.9429490183,-213769.49690335433,-180981.42549271975,-201392.59556990268,-188571.9215315712,-216911.74921902549,-135832.4625630019,-134384.51313560308,-140084.9067006588,-158418.42278492445,-84351.31453160703,-307915.77018969733,-203702.05739332872,-89376.84003318212,-61583.4614671801,-72034.9979033068,-315282.210624197,-305758.40313575946,-91874.98242706999,-184061.5409095702,-128114.90945625235,219.53704207477855]\n",
      "296272.43007168535\n"
     ]
    },
    {
     "name": "stderr",
     "output_type": "stream",
     "text": [
      "                                                                                \r"
     ]
    }
   ],
   "source": [
    "lrm2 = LinearRegression(featuresCol=\"Features\" , labelCol=\"price\")\n",
    "lrm2 = lrm2.fit(train_data) \n",
    "\n",
    "# coefficient\n",
    "print(lrm2.coefficients)\n",
    "print(lrm2.intercept)\n",
    "# prediction \n",
    "lrm2_pred = lrm2.evaluate(test_data)"
   ]
  },
  {
   "cell_type": "code",
   "execution_count": 159,
   "id": "9b43ecbf-b0a8-4f9e-bcf8-de0a6b433002",
   "metadata": {},
   "outputs": [
    {
     "name": "stdout",
     "output_type": "stream",
     "text": [
      "MAE 7098.736377942542\n",
      "MSE 158016531.89785177\n",
      "R2square 0.7600093622537104\n"
     ]
    }
   ],
   "source": [
    "print(\"MAE\" ,lrm2_pred.meanAbsoluteError)\n",
    "print(\"MSE\", lrm2_pred.meanSquaredError)\n",
    "print(\"R2square\",lrm2_pred.r2)"
   ]
  },
  {
   "cell_type": "code",
   "execution_count": 156,
   "id": "124511ff-5a71-4672-a20b-6f328d3a1f57",
   "metadata": {},
   "outputs": [
    {
     "name": "stderr",
     "output_type": "stream",
     "text": [
      "[Stage 406:>                                                        (0 + 1) / 1]\r"
     ]
    },
    {
     "name": "stdout",
     "output_type": "stream",
     "text": [
      "+-----+--------------------+-------------------+\n",
      "|price|            Features|         prediction|\n",
      "+-----+--------------------+-------------------+\n",
      "|  350|(3948,[0,2719,372...| -4437.692583541269|\n",
      "|  350|(3948,[0,2719,380...| -6509.417153333023|\n",
      "|  400|(3948,[0,2719,384...| -5733.976564776443|\n",
      "|  400|(3948,[0,2970,369...|-4013.0069895955385|\n",
      "|  400|(3948,[0,2970,369...|-4093.7531047250377|\n",
      "|  400|(3948,[0,3529,376...| -5688.017067756329|\n",
      "|  475|(3948,[0,2584,377...|-5420.7330094565405|\n",
      "|  500|(3948,[0,81,3748,...|  90458.57759309892|\n",
      "|  500|(3948,[0,350,3802...| 13151.246928044828|\n",
      "|  500|(3948,[0,350,3802...| 13364.565338925226|\n",
      "|  500|(3948,[0,350,3802...| 14862.310195994563|\n",
      "|  500|(3948,[0,1983,365...|   4929.26265570696|\n",
      "|  500|(3948,[0,1983,365...|  9966.678487995698|\n",
      "|  500|(3948,[0,2382,379...|  3183.314864574466|\n",
      "|  500|(3948,[0,2936,377...|-3183.1108724874794|\n",
      "|  500|(3948,[0,2936,379...| -4820.348523548164|\n",
      "|  525|(3948,[0,2936,381...| -5167.034153062385|\n",
      "|  550|(3948,[0,1063,384...| -8595.793014900526|\n",
      "|  550|(3948,[0,2970,376...| -4366.275854140753|\n",
      "|  600|(3948,[0,1079,369...|  -9265.15905553376|\n",
      "+-----+--------------------+-------------------+\n",
      "only showing top 20 rows\n",
      "\n"
     ]
    },
    {
     "name": "stderr",
     "output_type": "stream",
     "text": [
      "                                                                                \r"
     ]
    }
   ],
   "source": [
    "lrm2_pred.predictions.show()"
   ]
  },
  {
   "cell_type": "code",
   "execution_count": 160,
   "id": "4b5bd0f0-a9a7-4780-a178-0677ae7cb9b4",
   "metadata": {},
   "outputs": [
    {
     "name": "stderr",
     "output_type": "stream",
     "text": [
      "                                                                                \r"
     ]
    }
   ],
   "source": [
    "result = lrm2_pred.predictions.toPandas()"
   ]
  },
  {
   "cell_type": "code",
   "execution_count": 161,
   "id": "4c854d73-fa32-499d-b80f-84babdc8751d",
   "metadata": {},
   "outputs": [
    {
     "data": {
      "text/html": [
       "<div>\n",
       "<style scoped>\n",
       "    .dataframe tbody tr th:only-of-type {\n",
       "        vertical-align: middle;\n",
       "    }\n",
       "\n",
       "    .dataframe tbody tr th {\n",
       "        vertical-align: top;\n",
       "    }\n",
       "\n",
       "    .dataframe thead th {\n",
       "        text-align: right;\n",
       "    }\n",
       "</style>\n",
       "<table border=\"1\" class=\"dataframe\">\n",
       "  <thead>\n",
       "    <tr style=\"text-align: right;\">\n",
       "      <th></th>\n",
       "      <th>price</th>\n",
       "      <th>Features</th>\n",
       "      <th>prediction</th>\n",
       "    </tr>\n",
       "  </thead>\n",
       "  <tbody>\n",
       "    <tr>\n",
       "      <th>0</th>\n",
       "      <td>350</td>\n",
       "      <td>(34.459999084472656, 0.0, 0.0, 0.0, 0.0, 0.0, ...</td>\n",
       "      <td>-4437.692584</td>\n",
       "    </tr>\n",
       "    <tr>\n",
       "      <th>1</th>\n",
       "      <td>350</td>\n",
       "      <td>(34.459999084472656, 0.0, 0.0, 0.0, 0.0, 0.0, ...</td>\n",
       "      <td>-6509.417153</td>\n",
       "    </tr>\n",
       "    <tr>\n",
       "      <th>2</th>\n",
       "      <td>400</td>\n",
       "      <td>(34.4900016784668, 0.0, 0.0, 0.0, 0.0, 0.0, 0....</td>\n",
       "      <td>-5733.976565</td>\n",
       "    </tr>\n",
       "    <tr>\n",
       "      <th>3</th>\n",
       "      <td>400</td>\n",
       "      <td>(44.0099983215332, 0.0, 0.0, 0.0, 0.0, 0.0, 0....</td>\n",
       "      <td>-4013.006990</td>\n",
       "    </tr>\n",
       "    <tr>\n",
       "      <th>4</th>\n",
       "      <td>400</td>\n",
       "      <td>(44.0099983215332, 0.0, 0.0, 0.0, 0.0, 0.0, 0....</td>\n",
       "      <td>-4093.753105</td>\n",
       "    </tr>\n",
       "    <tr>\n",
       "      <th>...</th>\n",
       "      <td>...</td>\n",
       "      <td>...</td>\n",
       "      <td>...</td>\n",
       "    </tr>\n",
       "    <tr>\n",
       "      <th>3838803</th>\n",
       "      <td>900000</td>\n",
       "      <td>(217.86000061035156, 0.0, 0.0, 0.0, 0.0, 0.0, ...</td>\n",
       "      <td>176850.133063</td>\n",
       "    </tr>\n",
       "    <tr>\n",
       "      <th>3838804</th>\n",
       "      <td>970000</td>\n",
       "      <td>(228.33999633789062, 0.0, 0.0, 0.0, 0.0, 0.0, ...</td>\n",
       "      <td>224452.513438</td>\n",
       "    </tr>\n",
       "    <tr>\n",
       "      <th>3838805</th>\n",
       "      <td>990000</td>\n",
       "      <td>(198.218994140625, 0.0, 0.0, 0.0, 0.0, 0.0, 0....</td>\n",
       "      <td>178061.393807</td>\n",
       "    </tr>\n",
       "    <tr>\n",
       "      <th>3838806</th>\n",
       "      <td>1000000</td>\n",
       "      <td>(268.6700134277344, 0.0, 0.0, 0.0, 0.0, 0.0, 0...</td>\n",
       "      <td>240034.729580</td>\n",
       "    </tr>\n",
       "    <tr>\n",
       "      <th>3838807</th>\n",
       "      <td>1450000</td>\n",
       "      <td>(273.9599914550781, 0.0, 0.0, 0.0, 0.0, 0.0, 0...</td>\n",
       "      <td>212498.427190</td>\n",
       "    </tr>\n",
       "  </tbody>\n",
       "</table>\n",
       "<p>3838808 rows × 3 columns</p>\n",
       "</div>"
      ],
      "text/plain": [
       "           price                                           Features  \\\n",
       "0            350  (34.459999084472656, 0.0, 0.0, 0.0, 0.0, 0.0, ...   \n",
       "1            350  (34.459999084472656, 0.0, 0.0, 0.0, 0.0, 0.0, ...   \n",
       "2            400  (34.4900016784668, 0.0, 0.0, 0.0, 0.0, 0.0, 0....   \n",
       "3            400  (44.0099983215332, 0.0, 0.0, 0.0, 0.0, 0.0, 0....   \n",
       "4            400  (44.0099983215332, 0.0, 0.0, 0.0, 0.0, 0.0, 0....   \n",
       "...          ...                                                ...   \n",
       "3838803   900000  (217.86000061035156, 0.0, 0.0, 0.0, 0.0, 0.0, ...   \n",
       "3838804   970000  (228.33999633789062, 0.0, 0.0, 0.0, 0.0, 0.0, ...   \n",
       "3838805   990000  (198.218994140625, 0.0, 0.0, 0.0, 0.0, 0.0, 0....   \n",
       "3838806  1000000  (268.6700134277344, 0.0, 0.0, 0.0, 0.0, 0.0, 0...   \n",
       "3838807  1450000  (273.9599914550781, 0.0, 0.0, 0.0, 0.0, 0.0, 0...   \n",
       "\n",
       "            prediction  \n",
       "0         -4437.692584  \n",
       "1         -6509.417153  \n",
       "2         -5733.976565  \n",
       "3         -4013.006990  \n",
       "4         -4093.753105  \n",
       "...                ...  \n",
       "3838803  176850.133063  \n",
       "3838804  224452.513438  \n",
       "3838805  178061.393807  \n",
       "3838806  240034.729580  \n",
       "3838807  212498.427190  \n",
       "\n",
       "[3838808 rows x 3 columns]"
      ]
     },
     "execution_count": 161,
     "metadata": {},
     "output_type": "execute_result"
    }
   ],
   "source": [
    "result"
   ]
  },
  {
   "cell_type": "markdown",
   "id": "a7e27b68-56f4-4bcd-a9a8-a1141d85a135",
   "metadata": {},
   "source": [
    "## 혼자서한 분석"
   ]
  },
  {
   "cell_type": "code",
   "execution_count": 71,
   "id": "43c39db6-6b4b-47ca-8392-a410676ef6c9",
   "metadata": {},
   "outputs": [
    {
     "data": {
      "text/plain": [
       "['시군구',\n",
       " '단지명',\n",
       " '전용면적(㎡)',\n",
       " '계약년월',\n",
       " '거래금액(만원)',\n",
       " '층',\n",
       " '건축년도',\n",
       " '시군구Index',\n",
       " '단지명Index',\n",
       " '계약년월Index',\n",
       " '층Index',\n",
       " '건축년도Index']"
      ]
     },
     "execution_count": 71,
     "metadata": {},
     "output_type": "execute_result"
    }
   ],
   "source": [
    "one_hot.columns"
   ]
  },
  {
   "cell_type": "code",
   "execution_count": 72,
   "id": "807c38b4-3e26-4214-a0e1-312ef6a1623b",
   "metadata": {},
   "outputs": [],
   "source": [
    "from pyspark.ml.feature import OneHotEncoder\n",
    "encoder = OneHotEncoder(inputCols=['시군구Index','단지명Index','계약년월Index','층Index','건축년도Index'],outputCols=['시군구_Vec','단지명_Vec','계약년월_Vec','층_Vec','건축년도_Vec'])\n",
    "df = encoder.fit(one_hot).transform(one_hot)"
   ]
  },
  {
   "cell_type": "code",
   "execution_count": 74,
   "id": "ea1e6caf-7f70-472f-b677-282622be63b7",
   "metadata": {},
   "outputs": [
    {
     "name": "stdout",
     "output_type": "stream",
     "text": [
      "23/11/30 15:23:31 WARN DAGScheduler: Broadcasting large task binary with size 1736.0 KiB\n",
      "+---------------------------------+-----------+------------+--------+--------------+---+--------+-----------+-----------+-------------+-------+-------------+-------------------+--------------------+-----------------+---------------+---------------+\n",
      "|                           시군구|     단지명|전용면적(㎡)|계약년월|거래금액(만원)| 층|건축년도|시군구Index|단지명Index|계약년월Index|층Index|건축년도Index|         시군구_Vec|          단지명_Vec|     계약년월_Vec|         층_Vec|   건축년도_Vec|\n",
      "+---------------------------------+-----------+------------+--------+--------------+---+--------+-----------+-----------+-------------+-------+-------------+-------------------+--------------------+-----------------+---------------+---------------+\n",
      "|강원특별자치도 양구군 양구읍 상리|       경림|        59.0|  200509|          5000| 11|    1998|     1969.0|     2139.0|        206.0|   10.0|          1.0|(3653,[1969],[1.0])|(34151,[2139],[1.0])|      (206,[],[])|(87,[10],[1.0])| (60,[1],[1.0])|\n",
      "|           경기도 의정부시 민락동| 한라비발디|        84.0|  200510|         12750| 19|    2003|       95.0|       25.0|        204.0|   18.0|          9.0|  (3653,[95],[1.0])|  (34151,[25],[1.0])|(206,[204],[1.0])|(87,[18],[1.0])| (60,[9],[1.0])|\n",
      "|           경기도 의정부시 신곡동|      신일1|        59.0|  200510|          5750|  3|    1997|       17.0|     6011.0|        204.0|    2.0|          0.0|  (3653,[17],[1.0])|(34151,[6011],[1.0])|(206,[204],[1.0])| (87,[2],[1.0])| (60,[0],[1.0])|\n",
      "|           경기도 의정부시 신곡동|       풍림|        49.0|  200510|          5500|  8|    1998|       17.0|       36.0|        204.0|    7.0|          1.0|  (3653,[17],[1.0])|  (34151,[36],[1.0])|(206,[204],[1.0])| (87,[7],[1.0])| (60,[1],[1.0])|\n",
      "|           경기도 의정부시 용현동|용현현대1차|       129.0|  200511|         12200| 11|    1992|      187.0|     2206.0|        205.0|   10.0|         13.0| (3653,[187],[1.0])|(34151,[2206],[1.0])|(206,[205],[1.0])|(87,[10],[1.0])|(60,[13],[1.0])|\n",
      "|           경기도 의정부시 용현동|용현현대1차|       129.0|  200511|         11500| 17|    1992|      187.0|     2206.0|        205.0|   16.0|         13.0| (3653,[187],[1.0])|(34151,[2206],[1.0])|(206,[205],[1.0])|(87,[16],[1.0])|(60,[13],[1.0])|\n",
      "|     강원특별자치도 강릉시 견소동|   송정한신|        43.0|  200601|          4200|  1|    1997|     1197.0|     2888.0|        191.0|    4.0|          0.0|(3653,[1197],[1.0])|(34151,[2888],[1.0])|(206,[191],[1.0])| (87,[4],[1.0])| (60,[0],[1.0])|\n",
      "|       강원특별자치도 강릉시 교동|  교동1주공|        59.0|  200601|          7500|  2|    1999|      363.0|     1516.0|        191.0|    3.0|          7.0| (3653,[363],[1.0])|(34151,[1516],[1.0])|(206,[191],[1.0])| (87,[3],[1.0])| (60,[7],[1.0])|\n",
      "|       강원특별자치도 강릉시 교동|  교동1주공|        59.0|  200601|          8500| 11|    1999|      363.0|     1516.0|        191.0|   10.0|          7.0| (3653,[363],[1.0])|(34151,[1516],[1.0])|(206,[191],[1.0])|(87,[10],[1.0])| (60,[7],[1.0])|\n",
      "|       강원특별자치도 강릉시 교동|  교동1주공|        84.0|  200601|         12500|  5|    1999|      363.0|     1516.0|        191.0|    1.0|          7.0| (3653,[363],[1.0])|(34151,[1516],[1.0])|(206,[191],[1.0])| (87,[1],[1.0])| (60,[7],[1.0])|\n",
      "|       강원특별자치도 강릉시 교동|  교동1주공|        59.0|  200601|          5998|  2|    1999|      363.0|     1516.0|        191.0|    3.0|          7.0| (3653,[363],[1.0])|(34151,[1516],[1.0])|(206,[191],[1.0])| (87,[3],[1.0])| (60,[7],[1.0])|\n",
      "|       강원특별자치도 강릉시 교동|  교동1주공|        59.0|  200601|          7379|  4|    1999|      363.0|     1516.0|        191.0|    0.0|          7.0| (3653,[363],[1.0])|(34151,[1516],[1.0])|(206,[191],[1.0])| (87,[0],[1.0])| (60,[7],[1.0])|\n",
      "|       강원특별자치도 강릉시 교동|  교동1주공|        49.0|  200601|          5580|  6|    1999|      363.0|     1516.0|        191.0|    5.0|          7.0| (3653,[363],[1.0])|(34151,[1516],[1.0])|(206,[191],[1.0])| (87,[5],[1.0])| (60,[7],[1.0])|\n",
      "|       강원특별자치도 강릉시 교동|  교동1주공|        59.0|  200601|          7213| 14|    1999|      363.0|     1516.0|        191.0|   13.0|          7.0| (3653,[363],[1.0])|(34151,[1516],[1.0])|(206,[191],[1.0])|(87,[13],[1.0])| (60,[7],[1.0])|\n",
      "|       강원특별자치도 강릉시 교동|  교동1주공|        59.0|  200601|          7379|  7|    1999|      363.0|     1516.0|        191.0|    6.0|          7.0| (3653,[363],[1.0])|(34151,[1516],[1.0])|(206,[191],[1.0])| (87,[6],[1.0])| (60,[7],[1.0])|\n",
      "|       강원특별자치도 강릉시 교동|  교동1주공|        59.0|  200601|          7379| 13|    1999|      363.0|     1516.0|        191.0|   12.0|          7.0| (3653,[363],[1.0])|(34151,[1516],[1.0])|(206,[191],[1.0])|(87,[12],[1.0])| (60,[7],[1.0])|\n",
      "|       강원특별자치도 강릉시 교동|  교동1주공|        59.0|  200601|          7213| 14|    1999|      363.0|     1516.0|        191.0|   13.0|          7.0| (3653,[363],[1.0])|(34151,[1516],[1.0])|(206,[191],[1.0])|(87,[13],[1.0])| (60,[7],[1.0])|\n",
      "|       강원특별자치도 강릉시 교동|  교동1주공|        59.0|  200601|          7379|  9|    1999|      363.0|     1516.0|        191.0|    8.0|          7.0| (3653,[363],[1.0])|(34151,[1516],[1.0])|(206,[191],[1.0])| (87,[8],[1.0])| (60,[7],[1.0])|\n",
      "|       강원특별자치도 강릉시 교동|  교동1주공|        59.0|  200601|          7379|  3|    1999|      363.0|     1516.0|        191.0|    2.0|          7.0| (3653,[363],[1.0])|(34151,[1516],[1.0])|(206,[191],[1.0])| (87,[2],[1.0])| (60,[7],[1.0])|\n",
      "|       강원특별자치도 강릉시 교동|  교동1주공|        59.0|  200601|          8600|  7|    1999|      363.0|     1516.0|        191.0|    6.0|          7.0| (3653,[363],[1.0])|(34151,[1516],[1.0])|(206,[191],[1.0])| (87,[6],[1.0])| (60,[7],[1.0])|\n",
      "+---------------------------------+-----------+------------+--------+--------------+---+--------+-----------+-----------+-------------+-------+-------------+-------------------+--------------------+-----------------+---------------+---------------+\n",
      "only showing top 20 rows\n",
      "\n"
     ]
    }
   ],
   "source": [
    "df.show()"
   ]
  },
  {
   "cell_type": "code",
   "execution_count": 78,
   "id": "25dc67b6-4765-4928-bb9a-b2305c2168bd",
   "metadata": {},
   "outputs": [],
   "source": [
    "df = df.drop('시군구','단지명','계약년월','층','건축년도','시군구Index','단지명Index','계약년월Index','층Index','건축년도Index')"
   ]
  },
  {
   "cell_type": "code",
   "execution_count": 80,
   "id": "7c3ff069-3355-4805-8946-117af27fa0d4",
   "metadata": {},
   "outputs": [
    {
     "name": "stdout",
     "output_type": "stream",
     "text": [
      "root\n",
      " |-- 전용면적(㎡): float (nullable = true)\n",
      " |-- 거래금액(만원): integer (nullable = true)\n",
      " |-- 시군구_Vec: vector (nullable = true)\n",
      " |-- 단지명_Vec: vector (nullable = true)\n",
      " |-- 계약년월_Vec: vector (nullable = true)\n",
      " |-- 층_Vec: vector (nullable = true)\n",
      " |-- 건축년도_Vec: vector (nullable = true)\n",
      "\n"
     ]
    }
   ],
   "source": [
    "df.printSchema()"
   ]
  },
  {
   "cell_type": "code",
   "execution_count": 81,
   "id": "99901c17-f77f-4fba-887a-6e416b3fe089",
   "metadata": {},
   "outputs": [
    {
     "data": {
      "text/plain": [
       "['전용면적(㎡)', '거래금액(만원)', '시군구_Vec', '단지명_Vec', '계약년월_Vec', '층_Vec', '건축년도_Vec']"
      ]
     },
     "execution_count": 81,
     "metadata": {},
     "output_type": "execute_result"
    }
   ],
   "source": [
    "df.columns"
   ]
  },
  {
   "cell_type": "code",
   "execution_count": 82,
   "id": "2a86eca8-95ff-4826-8155-74bafddaf07d",
   "metadata": {},
   "outputs": [
    {
     "name": "stdout",
     "output_type": "stream",
     "text": [
      "23/11/30 15:26:32 WARN DAGScheduler: Broadcasting large task binary with size 1772.0 KiB\n",
      "+------------+--------------+-------------------+--------------------+-----------------+---------------+---------------+--------------------+\n",
      "|전용면적(㎡)|거래금액(만원)|         시군구_Vec|          단지명_Vec|     계약년월_Vec|         층_Vec|   건축년도_Vec|            Features|\n",
      "+------------+--------------+-------------------+--------------------+-----------------+---------------+---------------+--------------------+\n",
      "|        59.0|          5000|(3653,[1969],[1.0])|(34151,[2139],[1.0])|      (206,[],[])|(87,[10],[1.0])| (60,[1],[1.0])|(38158,[0,1970,57...|\n",
      "|        84.0|         12750|  (3653,[95],[1.0])|  (34151,[25],[1.0])|(206,[204],[1.0])|(87,[18],[1.0])| (60,[9],[1.0])|(38158,[0,96,3679...|\n",
      "|        59.0|          5750|  (3653,[17],[1.0])|(34151,[6011],[1.0])|(206,[204],[1.0])| (87,[2],[1.0])| (60,[0],[1.0])|(38158,[0,18,9665...|\n",
      "|        49.0|          5500|  (3653,[17],[1.0])|  (34151,[36],[1.0])|(206,[204],[1.0])| (87,[7],[1.0])| (60,[1],[1.0])|(38158,[0,18,3690...|\n",
      "|       129.0|         12200| (3653,[187],[1.0])|(34151,[2206],[1.0])|(206,[205],[1.0])|(87,[10],[1.0])|(60,[13],[1.0])|(38158,[0,188,586...|\n",
      "|       129.0|         11500| (3653,[187],[1.0])|(34151,[2206],[1.0])|(206,[205],[1.0])|(87,[16],[1.0])|(60,[13],[1.0])|(38158,[0,188,586...|\n",
      "|        43.0|          4200|(3653,[1197],[1.0])|(34151,[2888],[1.0])|(206,[191],[1.0])| (87,[4],[1.0])| (60,[0],[1.0])|(38158,[0,1198,65...|\n",
      "|        59.0|          7500| (3653,[363],[1.0])|(34151,[1516],[1.0])|(206,[191],[1.0])| (87,[3],[1.0])| (60,[7],[1.0])|(38158,[0,364,517...|\n",
      "|        59.0|          8500| (3653,[363],[1.0])|(34151,[1516],[1.0])|(206,[191],[1.0])|(87,[10],[1.0])| (60,[7],[1.0])|(38158,[0,364,517...|\n",
      "|        84.0|         12500| (3653,[363],[1.0])|(34151,[1516],[1.0])|(206,[191],[1.0])| (87,[1],[1.0])| (60,[7],[1.0])|(38158,[0,364,517...|\n",
      "|        59.0|          5998| (3653,[363],[1.0])|(34151,[1516],[1.0])|(206,[191],[1.0])| (87,[3],[1.0])| (60,[7],[1.0])|(38158,[0,364,517...|\n",
      "|        59.0|          7379| (3653,[363],[1.0])|(34151,[1516],[1.0])|(206,[191],[1.0])| (87,[0],[1.0])| (60,[7],[1.0])|(38158,[0,364,517...|\n",
      "|        49.0|          5580| (3653,[363],[1.0])|(34151,[1516],[1.0])|(206,[191],[1.0])| (87,[5],[1.0])| (60,[7],[1.0])|(38158,[0,364,517...|\n",
      "|        59.0|          7213| (3653,[363],[1.0])|(34151,[1516],[1.0])|(206,[191],[1.0])|(87,[13],[1.0])| (60,[7],[1.0])|(38158,[0,364,517...|\n",
      "|        59.0|          7379| (3653,[363],[1.0])|(34151,[1516],[1.0])|(206,[191],[1.0])| (87,[6],[1.0])| (60,[7],[1.0])|(38158,[0,364,517...|\n",
      "|        59.0|          7379| (3653,[363],[1.0])|(34151,[1516],[1.0])|(206,[191],[1.0])|(87,[12],[1.0])| (60,[7],[1.0])|(38158,[0,364,517...|\n",
      "|        59.0|          7213| (3653,[363],[1.0])|(34151,[1516],[1.0])|(206,[191],[1.0])|(87,[13],[1.0])| (60,[7],[1.0])|(38158,[0,364,517...|\n",
      "|        59.0|          7379| (3653,[363],[1.0])|(34151,[1516],[1.0])|(206,[191],[1.0])| (87,[8],[1.0])| (60,[7],[1.0])|(38158,[0,364,517...|\n",
      "|        59.0|          7379| (3653,[363],[1.0])|(34151,[1516],[1.0])|(206,[191],[1.0])| (87,[2],[1.0])| (60,[7],[1.0])|(38158,[0,364,517...|\n",
      "|        59.0|          8600| (3653,[363],[1.0])|(34151,[1516],[1.0])|(206,[191],[1.0])| (87,[6],[1.0])| (60,[7],[1.0])|(38158,[0,364,517...|\n",
      "+------------+--------------+-------------------+--------------------+-----------------+---------------+---------------+--------------------+\n",
      "only showing top 20 rows\n",
      "\n"
     ]
    }
   ],
   "source": [
    "from pyspark.ml.feature import VectorAssembler\n",
    "feature_assembler = VectorAssembler(inputCols=['전용면적(㎡)','시군구_Vec', '단지명_Vec', '계약년월_Vec', '층_Vec', '건축년도_Vec'],outputCol=\"Features\")\n",
    "final_df =feature_assembler.transform(df) \n",
    "final_df.show()"
   ]
  },
  {
   "cell_type": "code",
   "execution_count": 85,
   "id": "e1875905-c57a-4996-a7cd-188f760113f1",
   "metadata": {},
   "outputs": [],
   "source": [
    "final_df = final_df.drop('전용면적(㎡)','시군구_Vec', '단지명_Vec', '계약년월_Vec', '층_Vec', '건축년도_Vec')"
   ]
  },
  {
   "cell_type": "code",
   "execution_count": 101,
   "id": "b7918cf7-6e97-4f74-9f4b-d3ec00e112ce",
   "metadata": {},
   "outputs": [
    {
     "name": "stdout",
     "output_type": "stream",
     "text": [
      "23/11/30 15:34:32 WARN DAGScheduler: Broadcasting large task binary with size 1741.9 KiB\n",
      "+--------------+--------------------+\n",
      "|거래금액(만원)|            Features|\n",
      "+--------------+--------------------+\n",
      "|          5000|(38158,[0,1970,57...|\n",
      "|         12750|(38158,[0,96,3679...|\n",
      "|          5750|(38158,[0,18,9665...|\n",
      "|          5500|(38158,[0,18,3690...|\n",
      "|         12200|(38158,[0,188,586...|\n",
      "|         11500|(38158,[0,188,586...|\n",
      "|          4200|(38158,[0,1198,65...|\n",
      "|          7500|(38158,[0,364,517...|\n",
      "|          8500|(38158,[0,364,517...|\n",
      "|         12500|(38158,[0,364,517...|\n",
      "|          5998|(38158,[0,364,517...|\n",
      "|          7379|(38158,[0,364,517...|\n",
      "|          5580|(38158,[0,364,517...|\n",
      "|          7213|(38158,[0,364,517...|\n",
      "|          7379|(38158,[0,364,517...|\n",
      "|          7379|(38158,[0,364,517...|\n",
      "|          7213|(38158,[0,364,517...|\n",
      "|          7379|(38158,[0,364,517...|\n",
      "|          7379|(38158,[0,364,517...|\n",
      "|          8600|(38158,[0,364,517...|\n",
      "+--------------+--------------------+\n",
      "only showing top 20 rows\n",
      "\n"
     ]
    }
   ],
   "source": [
    "final_df.show()"
   ]
  },
  {
   "cell_type": "code",
   "execution_count": 97,
   "id": "25edc6a8-b8e6-4d36-b66d-29920081662c",
   "metadata": {},
   "outputs": [],
   "source": [
    "(train_data,test_data) = final_df.randomSplit([0.6,0.4],seed=10)"
   ]
  },
  {
   "cell_type": "code",
   "execution_count": 98,
   "id": "7d9ca0b9-f88a-4154-886d-4bd1405ce793",
   "metadata": {},
   "outputs": [],
   "source": [
    "from sklearn.linear_model import LinearRegression"
   ]
  },
  {
   "cell_type": "code",
   "execution_count": 102,
   "id": "87a91b73-1660-4900-9f68-2925d26553c3",
   "metadata": {},
   "outputs": [
    {
     "name": "stdout",
     "output_type": "stream",
     "text": [
      "23/11/30 15:35:28 WARN DAGScheduler: Broadcasting large task binary with size 4.6 MiB\n"
     ]
    },
    {
     "name": "stderr",
     "output_type": "stream",
     "text": [
      "[Stage 119:===============================================>         (5 + 1) / 6]\r"
     ]
    },
    {
     "name": "stdout",
     "output_type": "stream",
     "text": [
      "23/11/30 15:36:11 WARN DAGScheduler: Broadcasting large task binary with size 4.6 MiB\n"
     ]
    },
    {
     "name": "stderr",
     "output_type": "stream",
     "text": [
      "                                                                                \r"
     ]
    },
    {
     "name": "stdout",
     "output_type": "stream",
     "text": [
      "23/11/30 15:36:12 WARN DAGScheduler: Broadcasting large task binary with size 4.6 MiB\n"
     ]
    },
    {
     "name": "stderr",
     "output_type": "stream",
     "text": [
      "[Stage 121:===============================================>         (5 + 1) / 6]\r"
     ]
    },
    {
     "name": "stdout",
     "output_type": "stream",
     "text": [
      "23/11/30 15:36:55 WARN DAGScheduler: Broadcasting large task binary with size 4.6 MiB\n",
      "23/11/30 15:36:55 WARN BLAS: Failed to load implementation from: com.github.fommil.netlib.NativeSystemBLAS\n",
      "23/11/30 15:36:55 WARN BLAS: Failed to load implementation from: com.github.fommil.netlib.NativeRefBLAS\n"
     ]
    },
    {
     "name": "stderr",
     "output_type": "stream",
     "text": [
      "                                                                                \r"
     ]
    },
    {
     "name": "stdout",
     "output_type": "stream",
     "text": [
      "23/11/30 15:36:56 WARN DAGScheduler: Broadcasting large task binary with size 4.6 MiB\n"
     ]
    },
    {
     "name": "stderr",
     "output_type": "stream",
     "text": [
      "[Stage 123:======================================>                  (4 + 2) / 6]\r"
     ]
    },
    {
     "name": "stdout",
     "output_type": "stream",
     "text": [
      "23/11/30 15:36:57 WARN DAGScheduler: Broadcasting large task binary with size 4.6 MiB\n"
     ]
    },
    {
     "name": "stderr",
     "output_type": "stream",
     "text": [
      "                                                                                \r"
     ]
    },
    {
     "name": "stdout",
     "output_type": "stream",
     "text": [
      "23/11/30 15:36:57 WARN DAGScheduler: Broadcasting large task binary with size 4.6 MiB\n",
      "23/11/30 15:36:57 WARN DAGScheduler: Broadcasting large task binary with size 4.6 MiB\n",
      "23/11/30 15:36:57 WARN DAGScheduler: Broadcasting large task binary with size 4.6 MiB\n",
      "23/11/30 15:36:58 WARN DAGScheduler: Broadcasting large task binary with size 4.6 MiB\n",
      "23/11/30 15:36:58 WARN DAGScheduler: Broadcasting large task binary with size 4.6 MiB\n",
      "23/11/30 15:36:59 WARN DAGScheduler: Broadcasting large task binary with size 4.6 MiB\n",
      "23/11/30 15:36:59 WARN DAGScheduler: Broadcasting large task binary with size 4.6 MiB\n",
      "23/11/30 15:36:59 WARN DAGScheduler: Broadcasting large task binary with size 4.6 MiB\n",
      "23/11/30 15:37:00 WARN DAGScheduler: Broadcasting large task binary with size 4.6 MiB\n"
     ]
    },
    {
     "name": "stderr",
     "output_type": "stream",
     "text": [
      "                                                                                \r"
     ]
    },
    {
     "name": "stdout",
     "output_type": "stream",
     "text": [
      "23/11/30 15:37:00 WARN DAGScheduler: Broadcasting large task binary with size 4.6 MiB\n",
      "23/11/30 15:37:01 WARN DAGScheduler: Broadcasting large task binary with size 4.6 MiB\n",
      "23/11/30 15:37:01 WARN DAGScheduler: Broadcasting large task binary with size 4.6 MiB\n",
      "23/11/30 15:37:01 WARN DAGScheduler: Broadcasting large task binary with size 4.6 MiB\n"
     ]
    },
    {
     "name": "stderr",
     "output_type": "stream",
     "text": [
      "[Stage 137:============================>                            (3 + 3) / 6]\r"
     ]
    },
    {
     "name": "stdout",
     "output_type": "stream",
     "text": [
      "23/11/30 15:37:02 WARN DAGScheduler: Broadcasting large task binary with size 4.6 MiB\n"
     ]
    },
    {
     "name": "stderr",
     "output_type": "stream",
     "text": [
      "                                                                                \r"
     ]
    },
    {
     "name": "stdout",
     "output_type": "stream",
     "text": [
      "23/11/30 15:37:03 WARN DAGScheduler: Broadcasting large task binary with size 4.6 MiB\n",
      "23/11/30 15:37:03 WARN DAGScheduler: Broadcasting large task binary with size 4.6 MiB\n",
      "23/11/30 15:37:03 WARN DAGScheduler: Broadcasting large task binary with size 4.6 MiB\n",
      "23/11/30 15:37:04 WARN DAGScheduler: Broadcasting large task binary with size 4.6 MiB\n",
      "23/11/30 15:37:04 WARN DAGScheduler: Broadcasting large task binary with size 4.6 MiB\n",
      "23/11/30 15:37:04 WARN DAGScheduler: Broadcasting large task binary with size 4.6 MiB\n",
      "23/11/30 15:37:05 WARN DAGScheduler: Broadcasting large task binary with size 4.6 MiB\n",
      "23/11/30 15:37:05 WARN DAGScheduler: Broadcasting large task binary with size 4.6 MiB\n",
      "23/11/30 15:37:05 WARN DAGScheduler: Broadcasting large task binary with size 4.6 MiB\n",
      "23/11/30 15:37:05 WARN DAGScheduler: Broadcasting large task binary with size 4.6 MiB\n",
      "23/11/30 15:37:06 WARN DAGScheduler: Broadcasting large task binary with size 4.6 MiB\n",
      "23/11/30 15:37:06 WARN DAGScheduler: Broadcasting large task binary with size 4.6 MiB\n",
      "23/11/30 15:37:06 WARN DAGScheduler: Broadcasting large task binary with size 4.6 MiB\n",
      "23/11/30 15:37:07 WARN DAGScheduler: Broadcasting large task binary with size 4.6 MiB\n",
      "23/11/30 15:37:07 WARN DAGScheduler: Broadcasting large task binary with size 4.6 MiB\n",
      "23/11/30 15:37:07 WARN DAGScheduler: Broadcasting large task binary with size 4.6 MiB\n",
      "23/11/30 15:37:07 WARN DAGScheduler: Broadcasting large task binary with size 4.6 MiB\n",
      "23/11/30 15:37:08 WARN DAGScheduler: Broadcasting large task binary with size 4.6 MiB\n",
      "23/11/30 15:37:08 WARN DAGScheduler: Broadcasting large task binary with size 4.6 MiB\n",
      "23/11/30 15:37:08 WARN DAGScheduler: Broadcasting large task binary with size 4.6 MiB\n",
      "23/11/30 15:37:09 WARN DAGScheduler: Broadcasting large task binary with size 4.6 MiB\n",
      "23/11/30 15:37:09 WARN DAGScheduler: Broadcasting large task binary with size 4.6 MiB\n",
      "23/11/30 15:37:09 WARN DAGScheduler: Broadcasting large task binary with size 4.6 MiB\n",
      "23/11/30 15:37:10 WARN DAGScheduler: Broadcasting large task binary with size 4.6 MiB\n",
      "23/11/30 15:37:10 WARN DAGScheduler: Broadcasting large task binary with size 4.6 MiB\n",
      "23/11/30 15:37:10 WARN DAGScheduler: Broadcasting large task binary with size 4.6 MiB\n",
      "23/11/30 15:37:10 WARN DAGScheduler: Broadcasting large task binary with size 4.6 MiB\n",
      "23/11/30 15:37:11 WARN DAGScheduler: Broadcasting large task binary with size 4.6 MiB\n",
      "23/11/30 15:37:11 WARN DAGScheduler: Broadcasting large task binary with size 4.6 MiB\n",
      "23/11/30 15:37:11 WARN DAGScheduler: Broadcasting large task binary with size 4.6 MiB\n",
      "23/11/30 15:37:12 WARN DAGScheduler: Broadcasting large task binary with size 4.6 MiB\n",
      "23/11/30 15:37:12 WARN DAGScheduler: Broadcasting large task binary with size 4.6 MiB\n",
      "23/11/30 15:37:12 WARN DAGScheduler: Broadcasting large task binary with size 4.6 MiB\n",
      "23/11/30 15:37:12 WARN DAGScheduler: Broadcasting large task binary with size 4.6 MiB\n",
      "23/11/30 15:37:13 WARN DAGScheduler: Broadcasting large task binary with size 4.6 MiB\n",
      "23/11/30 15:37:13 WARN DAGScheduler: Broadcasting large task binary with size 4.6 MiB\n",
      "23/11/30 15:37:13 WARN DAGScheduler: Broadcasting large task binary with size 4.6 MiB\n",
      "23/11/30 15:37:14 WARN DAGScheduler: Broadcasting large task binary with size 4.6 MiB\n",
      "23/11/30 15:37:14 WARN DAGScheduler: Broadcasting large task binary with size 4.6 MiB\n",
      "23/11/30 15:37:14 WARN DAGScheduler: Broadcasting large task binary with size 4.6 MiB\n",
      "23/11/30 15:37:15 WARN DAGScheduler: Broadcasting large task binary with size 4.6 MiB\n",
      "23/11/30 15:37:15 WARN DAGScheduler: Broadcasting large task binary with size 4.6 MiB\n",
      "23/11/30 15:37:15 WARN DAGScheduler: Broadcasting large task binary with size 4.6 MiB\n",
      "23/11/30 15:37:15 WARN DAGScheduler: Broadcasting large task binary with size 4.6 MiB\n",
      "23/11/30 15:37:16 WARN DAGScheduler: Broadcasting large task binary with size 4.6 MiB\n",
      "23/11/30 15:37:16 WARN DAGScheduler: Broadcasting large task binary with size 4.6 MiB\n",
      "23/11/30 15:37:16 WARN DAGScheduler: Broadcasting large task binary with size 4.6 MiB\n",
      "23/11/30 15:37:17 WARN DAGScheduler: Broadcasting large task binary with size 4.6 MiB\n",
      "23/11/30 15:37:17 WARN DAGScheduler: Broadcasting large task binary with size 4.6 MiB\n",
      "23/11/30 15:37:17 WARN DAGScheduler: Broadcasting large task binary with size 4.6 MiB\n",
      "23/11/30 15:37:18 WARN DAGScheduler: Broadcasting large task binary with size 4.6 MiB\n",
      "23/11/30 15:37:18 WARN DAGScheduler: Broadcasting large task binary with size 4.6 MiB\n",
      "23/11/30 15:37:18 WARN DAGScheduler: Broadcasting large task binary with size 4.6 MiB\n",
      "23/11/30 15:37:18 WARN DAGScheduler: Broadcasting large task binary with size 4.6 MiB\n",
      "23/11/30 15:37:19 WARN DAGScheduler: Broadcasting large task binary with size 4.6 MiB\n",
      "23/11/30 15:37:19 WARN DAGScheduler: Broadcasting large task binary with size 4.6 MiB\n",
      "23/11/30 15:37:19 WARN DAGScheduler: Broadcasting large task binary with size 4.6 MiB\n",
      "23/11/30 15:37:20 WARN DAGScheduler: Broadcasting large task binary with size 4.6 MiB\n",
      "23/11/30 15:37:20 WARN DAGScheduler: Broadcasting large task binary with size 4.6 MiB\n",
      "23/11/30 15:37:20 WARN DAGScheduler: Broadcasting large task binary with size 4.6 MiB\n",
      "23/11/30 15:37:20 WARN DAGScheduler: Broadcasting large task binary with size 4.6 MiB\n",
      "23/11/30 15:37:21 WARN DAGScheduler: Broadcasting large task binary with size 4.6 MiB\n",
      "23/11/30 15:37:21 WARN DAGScheduler: Broadcasting large task binary with size 4.6 MiB\n",
      "23/11/30 15:37:21 WARN DAGScheduler: Broadcasting large task binary with size 4.6 MiB\n",
      "23/11/30 15:37:22 WARN DAGScheduler: Broadcasting large task binary with size 4.6 MiB\n",
      "23/11/30 15:37:22 WARN DAGScheduler: Broadcasting large task binary with size 4.6 MiB\n",
      "23/11/30 15:37:22 WARN DAGScheduler: Broadcasting large task binary with size 4.6 MiB\n",
      "23/11/30 15:37:22 WARN DAGScheduler: Broadcasting large task binary with size 4.6 MiB\n",
      "23/11/30 15:37:23 WARN DAGScheduler: Broadcasting large task binary with size 4.6 MiB\n",
      "23/11/30 15:37:23 WARN DAGScheduler: Broadcasting large task binary with size 4.6 MiB\n",
      "23/11/30 15:37:23 WARN DAGScheduler: Broadcasting large task binary with size 4.6 MiB\n",
      "23/11/30 15:37:24 WARN DAGScheduler: Broadcasting large task binary with size 4.6 MiB\n",
      "23/11/30 15:37:24 WARN DAGScheduler: Broadcasting large task binary with size 4.6 MiB\n",
      "23/11/30 15:37:24 WARN DAGScheduler: Broadcasting large task binary with size 4.6 MiB\n",
      "23/11/30 15:37:25 WARN DAGScheduler: Broadcasting large task binary with size 4.6 MiB\n",
      "23/11/30 15:37:25 WARN DAGScheduler: Broadcasting large task binary with size 4.6 MiB\n",
      "23/11/30 15:37:25 WARN DAGScheduler: Broadcasting large task binary with size 4.6 MiB\n",
      "23/11/30 15:37:26 WARN DAGScheduler: Broadcasting large task binary with size 4.6 MiB\n",
      "23/11/30 15:37:26 WARN DAGScheduler: Broadcasting large task binary with size 4.6 MiB\n",
      "23/11/30 15:37:26 WARN DAGScheduler: Broadcasting large task binary with size 4.6 MiB\n",
      "23/11/30 15:37:26 WARN DAGScheduler: Broadcasting large task binary with size 4.6 MiB\n",
      "23/11/30 15:37:27 WARN DAGScheduler: Broadcasting large task binary with size 4.6 MiB\n",
      "23/11/30 15:37:27 WARN DAGScheduler: Broadcasting large task binary with size 4.6 MiB\n",
      "23/11/30 15:37:27 WARN DAGScheduler: Broadcasting large task binary with size 4.6 MiB\n",
      "23/11/30 15:37:27 WARN DAGScheduler: Broadcasting large task binary with size 4.6 MiB\n",
      "23/11/30 15:37:28 WARN DAGScheduler: Broadcasting large task binary with size 4.6 MiB\n",
      "23/11/30 15:37:28 WARN DAGScheduler: Broadcasting large task binary with size 4.6 MiB\n",
      "23/11/30 15:37:28 WARN DAGScheduler: Broadcasting large task binary with size 4.6 MiB\n",
      "23/11/30 15:37:29 WARN DAGScheduler: Broadcasting large task binary with size 4.6 MiB\n",
      "23/11/30 15:37:29 WARN DAGScheduler: Broadcasting large task binary with size 4.6 MiB\n",
      "23/11/30 15:37:29 WARN DAGScheduler: Broadcasting large task binary with size 4.6 MiB\n",
      "23/11/30 15:37:30 WARN DAGScheduler: Broadcasting large task binary with size 4.6 MiB\n",
      "23/11/30 15:37:30 WARN DAGScheduler: Broadcasting large task binary with size 4.6 MiB\n",
      "23/11/30 15:37:30 WARN DAGScheduler: Broadcasting large task binary with size 4.6 MiB\n",
      "23/11/30 15:37:30 WARN DAGScheduler: Broadcasting large task binary with size 4.6 MiB\n",
      "23/11/30 15:37:31 WARN DAGScheduler: Broadcasting large task binary with size 4.6 MiB\n",
      "23/11/30 15:37:31 WARN DAGScheduler: Broadcasting large task binary with size 4.6 MiB\n",
      "23/11/30 15:37:31 WARN DAGScheduler: Broadcasting large task binary with size 4.6 MiB\n",
      "23/11/30 15:37:32 WARN DAGScheduler: Broadcasting large task binary with size 4.6 MiB\n",
      "23/11/30 15:37:32 WARN DAGScheduler: Broadcasting large task binary with size 4.6 MiB\n",
      "23/11/30 15:37:32 WARN DAGScheduler: Broadcasting large task binary with size 4.6 MiB\n",
      "23/11/30 15:37:32 WARN DAGScheduler: Broadcasting large task binary with size 4.6 MiB\n",
      "23/11/30 15:37:33 WARN DAGScheduler: Broadcasting large task binary with size 4.6 MiB\n",
      "23/11/30 15:37:33 WARN DAGScheduler: Broadcasting large task binary with size 4.6 MiB\n",
      "23/11/30 15:37:33 WARN DAGScheduler: Broadcasting large task binary with size 4.6 MiB\n",
      "23/11/30 15:37:33 WARN DAGScheduler: Broadcasting large task binary with size 4.6 MiB\n",
      "23/11/30 15:37:34 WARN DAGScheduler: Broadcasting large task binary with size 4.6 MiB\n",
      "23/11/30 15:37:34 WARN DAGScheduler: Broadcasting large task binary with size 4.6 MiB\n",
      "23/11/30 15:37:34 WARN DAGScheduler: Broadcasting large task binary with size 4.6 MiB\n",
      "23/11/30 15:37:35 WARN DAGScheduler: Broadcasting large task binary with size 4.6 MiB\n",
      "23/11/30 15:37:35 WARN DAGScheduler: Broadcasting large task binary with size 4.6 MiB\n",
      "23/11/30 15:37:35 WARN DAGScheduler: Broadcasting large task binary with size 4.6 MiB\n",
      "23/11/30 15:37:35 WARN DAGScheduler: Broadcasting large task binary with size 4.6 MiB\n",
      "23/11/30 15:37:36 WARN DAGScheduler: Broadcasting large task binary with size 4.6 MiB\n",
      "23/11/30 15:37:36 WARN DAGScheduler: Broadcasting large task binary with size 4.6 MiB\n",
      "23/11/30 15:37:36 WARN DAGScheduler: Broadcasting large task binary with size 4.6 MiB\n",
      "23/11/30 15:37:36 WARN DAGScheduler: Broadcasting large task binary with size 4.6 MiB\n",
      "23/11/30 15:37:37 WARN DAGScheduler: Broadcasting large task binary with size 4.6 MiB\n",
      "23/11/30 15:37:37 WARN DAGScheduler: Broadcasting large task binary with size 4.6 MiB\n",
      "23/11/30 15:37:37 WARN DAGScheduler: Broadcasting large task binary with size 4.6 MiB\n",
      "23/11/30 15:37:38 WARN DAGScheduler: Broadcasting large task binary with size 4.6 MiB\n",
      "23/11/30 15:37:38 WARN DAGScheduler: Broadcasting large task binary with size 4.6 MiB\n",
      "23/11/30 15:37:38 WARN DAGScheduler: Broadcasting large task binary with size 4.6 MiB\n",
      "23/11/30 15:37:38 WARN DAGScheduler: Broadcasting large task binary with size 4.6 MiB\n",
      "23/11/30 15:37:39 WARN DAGScheduler: Broadcasting large task binary with size 4.6 MiB\n",
      "23/11/30 15:37:39 WARN DAGScheduler: Broadcasting large task binary with size 4.6 MiB\n",
      "23/11/30 15:37:39 WARN DAGScheduler: Broadcasting large task binary with size 4.6 MiB\n",
      "23/11/30 15:37:40 WARN DAGScheduler: Broadcasting large task binary with size 4.6 MiB\n",
      "23/11/30 15:37:40 WARN DAGScheduler: Broadcasting large task binary with size 4.6 MiB\n",
      "23/11/30 15:37:40 WARN DAGScheduler: Broadcasting large task binary with size 4.6 MiB\n",
      "23/11/30 15:37:40 WARN DAGScheduler: Broadcasting large task binary with size 4.6 MiB\n",
      "23/11/30 15:37:41 WARN DAGScheduler: Broadcasting large task binary with size 4.6 MiB\n",
      "23/11/30 15:37:41 WARN DAGScheduler: Broadcasting large task binary with size 4.6 MiB\n",
      "23/11/30 15:37:41 WARN DAGScheduler: Broadcasting large task binary with size 4.6 MiB\n",
      "23/11/30 15:37:41 WARN DAGScheduler: Broadcasting large task binary with size 4.6 MiB\n",
      "23/11/30 15:37:42 WARN DAGScheduler: Broadcasting large task binary with size 4.6 MiB\n",
      "23/11/30 15:37:42 WARN DAGScheduler: Broadcasting large task binary with size 4.6 MiB\n",
      "23/11/30 15:37:42 WARN DAGScheduler: Broadcasting large task binary with size 4.6 MiB\n",
      "23/11/30 15:37:43 WARN DAGScheduler: Broadcasting large task binary with size 4.6 MiB\n",
      "23/11/30 15:37:43 WARN DAGScheduler: Broadcasting large task binary with size 4.6 MiB\n",
      "23/11/30 15:37:43 WARN DAGScheduler: Broadcasting large task binary with size 4.6 MiB\n",
      "23/11/30 15:37:43 WARN DAGScheduler: Broadcasting large task binary with size 4.6 MiB\n",
      "23/11/30 15:37:44 WARN DAGScheduler: Broadcasting large task binary with size 4.6 MiB\n",
      "23/11/30 15:37:44 WARN DAGScheduler: Broadcasting large task binary with size 4.6 MiB\n",
      "23/11/30 15:37:44 WARN DAGScheduler: Broadcasting large task binary with size 4.6 MiB\n",
      "23/11/30 15:37:45 WARN DAGScheduler: Broadcasting large task binary with size 4.6 MiB\n",
      "23/11/30 15:37:45 WARN DAGScheduler: Broadcasting large task binary with size 4.6 MiB\n",
      "23/11/30 15:37:45 WARN DAGScheduler: Broadcasting large task binary with size 4.6 MiB\n",
      "23/11/30 15:37:45 WARN DAGScheduler: Broadcasting large task binary with size 4.6 MiB\n",
      "23/11/30 15:37:46 WARN DAGScheduler: Broadcasting large task binary with size 4.6 MiB\n",
      "23/11/30 15:37:46 WARN DAGScheduler: Broadcasting large task binary with size 4.6 MiB\n",
      "23/11/30 15:37:46 WARN DAGScheduler: Broadcasting large task binary with size 4.6 MiB\n",
      "23/11/30 15:37:46 WARN DAGScheduler: Broadcasting large task binary with size 4.6 MiB\n",
      "23/11/30 15:37:47 WARN DAGScheduler: Broadcasting large task binary with size 4.6 MiB\n",
      "23/11/30 15:37:47 WARN DAGScheduler: Broadcasting large task binary with size 4.6 MiB\n",
      "23/11/30 15:37:47 WARN DAGScheduler: Broadcasting large task binary with size 4.6 MiB\n",
      "23/11/30 15:37:48 WARN DAGScheduler: Broadcasting large task binary with size 4.6 MiB\n",
      "23/11/30 15:37:48 WARN DAGScheduler: Broadcasting large task binary with size 4.6 MiB\n",
      "23/11/30 15:37:48 WARN DAGScheduler: Broadcasting large task binary with size 4.6 MiB\n",
      "23/11/30 15:37:49 WARN DAGScheduler: Broadcasting large task binary with size 4.6 MiB\n",
      "23/11/30 15:37:49 WARN DAGScheduler: Broadcasting large task binary with size 4.6 MiB\n",
      "23/11/30 15:37:49 WARN DAGScheduler: Broadcasting large task binary with size 4.6 MiB\n",
      "23/11/30 15:37:49 WARN DAGScheduler: Broadcasting large task binary with size 4.6 MiB\n",
      "23/11/30 15:37:50 WARN DAGScheduler: Broadcasting large task binary with size 4.6 MiB\n",
      "23/11/30 15:37:50 WARN DAGScheduler: Broadcasting large task binary with size 4.6 MiB\n",
      "23/11/30 15:37:50 WARN DAGScheduler: Broadcasting large task binary with size 4.6 MiB\n",
      "23/11/30 15:37:51 WARN DAGScheduler: Broadcasting large task binary with size 4.6 MiB\n",
      "23/11/30 15:37:51 WARN DAGScheduler: Broadcasting large task binary with size 4.6 MiB\n",
      "23/11/30 15:37:51 WARN DAGScheduler: Broadcasting large task binary with size 4.6 MiB\n",
      "23/11/30 15:37:51 WARN DAGScheduler: Broadcasting large task binary with size 4.6 MiB\n",
      "23/11/30 15:37:52 WARN DAGScheduler: Broadcasting large task binary with size 4.6 MiB\n",
      "23/11/30 15:37:52 WARN DAGScheduler: Broadcasting large task binary with size 4.6 MiB\n",
      "23/11/30 15:37:52 WARN DAGScheduler: Broadcasting large task binary with size 4.6 MiB\n",
      "23/11/30 15:37:53 WARN DAGScheduler: Broadcasting large task binary with size 4.6 MiB\n",
      "23/11/30 15:37:53 WARN DAGScheduler: Broadcasting large task binary with size 4.9 MiB\n"
     ]
    },
    {
     "name": "stderr",
     "output_type": "stream",
     "text": [
      "[Stage 313:===============================================>         (5 + 1) / 6]\r"
     ]
    },
    {
     "name": "stdout",
     "output_type": "stream",
     "text": [
      "23/11/30 15:38:36 WARN DAGScheduler: Broadcasting large task binary with size 4.9 MiB\n"
     ]
    },
    {
     "name": "stderr",
     "output_type": "stream",
     "text": [
      "                                                                                \r"
     ]
    },
    {
     "name": "stdout",
     "output_type": "stream",
     "text": [
      "23/11/30 15:38:36 WARN DAGScheduler: Broadcasting large task binary with size 4.9 MiB\n"
     ]
    },
    {
     "name": "stderr",
     "output_type": "stream",
     "text": [
      "[Stage 315:>                                                        (0 + 1) / 1]\r"
     ]
    },
    {
     "name": "stdout",
     "output_type": "stream",
     "text": [
      "+--------------+--------------------+-------------------+\n",
      "|거래금액(만원)|            Features|         prediction|\n",
      "+--------------+--------------------+-------------------+\n",
      "|           300|(38158,[0,2719,60...| -6054.419482411144|\n",
      "|           350|(38158,[0,2719,60...| -5265.223193744128|\n",
      "|           400|(38158,[0,2719,60...| -6112.746924267241|\n",
      "|           400|(38158,[0,2970,18...| -2969.701294544844|\n",
      "|           400|(38158,[0,2970,18...| -2859.499930259256|\n",
      "|           400|(38158,[0,3529,32...| -4520.104168246416|\n",
      "|           475|(38158,[0,2584,15...|-3749.8395664017035|\n",
      "|           500|(38158,[0,350,482...| 12010.186251796866|\n",
      "|           500|(38158,[0,350,482...|  12032.77404386088|\n",
      "|           500|(38158,[0,350,482...| 12399.761108115696|\n",
      "|           500|(38158,[0,1983,77...|  10821.89716452942|\n",
      "|           500|(38158,[0,2382,36...| 2868.3446563533116|\n",
      "|           500|(38158,[0,2936,15...|-4705.5232096228865|\n",
      "|           513|(38158,[0,2936,15...| -5389.514853604227|\n",
      "|           513|(38158,[0,2936,15...| -5389.514853604227|\n",
      "|           525|(38158,[0,2936,15...|  -4773.04523875891|\n",
      "|           550|(38158,[0,1063,58...| -7492.678219189811|\n",
      "|           550|(38158,[0,2970,18...|-3610.2705328542024|\n",
      "|           550|(38158,[0,2984,19...|-3419.6383065316786|\n",
      "|           578|(38158,[0,1079,41...| -7067.243344105747|\n",
      "+--------------+--------------------+-------------------+\n",
      "only showing top 20 rows\n",
      "\n"
     ]
    },
    {
     "name": "stderr",
     "output_type": "stream",
     "text": [
      "                                                                                \r"
     ]
    }
   ],
   "source": [
    "from pyspark.ml.regression import LinearRegression\n",
    "lrm = LinearRegression(featuresCol=\"Features\", labelCol=\"거래금액(만원)\")\n",
    "lrm = lrm.fit(train_data)\n",
    "lrm_pred = lrm.transform(test_data)\n",
    "lrm_pred.show()"
   ]
  },
  {
   "cell_type": "code",
   "execution_count": null,
   "id": "5486f7f4-eece-48ed-b730-d37f801e65ae",
   "metadata": {},
   "outputs": [],
   "source": []
  },
  {
   "cell_type": "code",
   "execution_count": null,
   "id": "4730b290-37a3-4bf3-82ef-d066f8c39255",
   "metadata": {},
   "outputs": [],
   "source": []
  },
  {
   "cell_type": "code",
   "execution_count": null,
   "id": "dba1d98b-19c3-410b-8498-aaf17a3e280f",
   "metadata": {},
   "outputs": [],
   "source": []
  }
 ],
 "metadata": {
  "kernelspec": {
   "display_name": "Python 3 (ipykernel)",
   "language": "python",
   "name": "python3"
  },
  "language_info": {
   "codemirror_mode": {
    "name": "ipython",
    "version": 3
   },
   "file_extension": ".py",
   "mimetype": "text/x-python",
   "name": "python",
   "nbconvert_exporter": "python",
   "pygments_lexer": "ipython3",
   "version": "3.11.5"
  }
 },
 "nbformat": 4,
 "nbformat_minor": 5
}
