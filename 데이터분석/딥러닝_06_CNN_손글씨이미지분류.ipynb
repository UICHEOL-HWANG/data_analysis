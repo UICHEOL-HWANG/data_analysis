{
 "cells": [
  {
   "cell_type": "markdown",
   "id": "b6ee2f16",
   "metadata": {},
   "source": [
    "## 딥러닝을 이용한 이미지 분류 "
   ]
  },
  {
   "cell_type": "code",
   "execution_count": 2,
   "id": "e97192a1",
   "metadata": {},
   "outputs": [],
   "source": [
    "from tensorflow.keras.datasets import mnist\n",
    "from tensorflow.keras.utils import to_categorical\n",
    "import matplotlib.pyplot as plt \n",
    "import sys \n",
    "import pandas as pd \n",
    "import numpy as np \n",
    "import koreanize_matplotlib\n",
    "import seaborn as sns \n",
    "\n",
    "from tensorflow.keras.models import Sequential\n",
    "from tensorflow.keras.layers import Dense\n",
    "from tensorflow.keras.callbacks import ModelCheckpoint,EarlyStopping\n",
    "\n",
    "import os "
   ]
  },
  {
   "cell_type": "code",
   "execution_count": 3,
   "id": "c8c3f258",
   "metadata": {
    "scrolled": true
   },
   "outputs": [],
   "source": [
    "(X_train,y_train),(X_test,y_test) = mnist.load_data()"
   ]
  },
  {
   "cell_type": "code",
   "execution_count": 4,
   "id": "fa8f2978",
   "metadata": {
    "scrolled": true
   },
   "outputs": [
    {
     "data": {
      "text/plain": [
       "(60000, 28, 28)"
      ]
     },
     "execution_count": 4,
     "metadata": {},
     "output_type": "execute_result"
    }
   ],
   "source": [
    "X_train.shape"
   ]
  },
  {
   "cell_type": "code",
   "execution_count": 5,
   "id": "b4a0bb76",
   "metadata": {},
   "outputs": [
    {
     "data": {
      "text/plain": [
       "(10000, 28, 28)"
      ]
     },
     "execution_count": 5,
     "metadata": {},
     "output_type": "execute_result"
    }
   ],
   "source": [
    "X_test.shape"
   ]
  },
  {
   "cell_type": "code",
   "execution_count": 6,
   "id": "e01e4cd1",
   "metadata": {},
   "outputs": [
    {
     "data": {
      "text/plain": [
       "<matplotlib.image.AxesImage at 0x1c504a08f70>"
      ]
     },
     "execution_count": 6,
     "metadata": {},
     "output_type": "execute_result"
    },
    {
     "data": {
      "image/png": "[encoded data removed]",
      "text/plain": [
       "<Figure size 640x480 with 1 Axes>"
      ]
     },
     "metadata": {},
     "output_type": "display_data"
    }
   ],
   "source": [
    "plt.imshow(X_train[0])"
   ]
  },
  {
   "cell_type": "code",
   "execution_count": 7,
   "id": "94654108",
   "metadata": {
    "scrolled": false
   },
   "outputs": [
    {
     "name": "stdout",
     "output_type": "stream",
     "text": [
      "0  0  0  0  0  0  0  0  0  0  0  0  0  0  0  0  0  0  0  0  0  0  0  0  0  0  0  0  \n",
      "0  0  0  0  0  0  0  0  0  0  0  0  0  0  0  0  0  0  0  0  0  0  0  0  0  0  0  0  \n",
      "0  0  0  0  0  0  0  0  0  0  0  0  0  0  0  0  0  0  0  0  0  0  0  0  0  0  0  0  \n",
      "0  0  0  0  0  0  0  0  0  0  0  0  0  0  0  0  0  0  0  0  0  0  0  0  0  0  0  0  \n",
      "0  0  0  0  0  0  0  0  0  0  0  0  0  0  0  0  0  0  0  0  0  0  0  0  0  0  0  0  \n",
      "0  0  0  0  0  0  0  0  0  0  0  0  3  18 18 18 12613617526 1662552471270  0  0  0  \n",
      "0  0  0  0  0  0  0  0  30 36 94 15417025325325325325322517225324219564 0  0  0  0  \n",
      "0  0  0  0  0  0  0  49 23825325325325325325325325325193 82 82 56 39 0  0  0  0  0  \n",
      "0  0  0  0  0  0  0  18 2192532532532532531981822472410  0  0  0  0  0  0  0  0  0  \n",
      "0  0  0  0  0  0  0  0  80 15610725325320511 0  43 1540  0  0  0  0  0  0  0  0  0  \n",
      "0  0  0  0  0  0  0  0  0  14 1  15425390 0  0  0  0  0  0  0  0  0  0  0  0  0  0  \n",
      "0  0  0  0  0  0  0  0  0  0  0  1392531902  0  0  0  0  0  0  0  0  0  0  0  0  0  \n",
      "0  0  0  0  0  0  0  0  0  0  0  11 19025370 0  0  0  0  0  0  0  0  0  0  0  0  0  \n",
      "0  0  0  0  0  0  0  0  0  0  0  0  35 2412251601081  0  0  0  0  0  0  0  0  0  0  \n",
      "0  0  0  0  0  0  0  0  0  0  0  0  0  81 24025325311925 0  0  0  0  0  0  0  0  0  \n",
      "0  0  0  0  0  0  0  0  0  0  0  0  0  0  45 18625325315027 0  0  0  0  0  0  0  0  \n",
      "0  0  0  0  0  0  0  0  0  0  0  0  0  0  0  16 93 2522531870  0  0  0  0  0  0  0  \n",
      "0  0  0  0  0  0  0  0  0  0  0  0  0  0  0  0  0  24925324964 0  0  0  0  0  0  0  \n",
      "0  0  0  0  0  0  0  0  0  0  0  0  0  0  46 1301832532532072  0  0  0  0  0  0  0  \n",
      "0  0  0  0  0  0  0  0  0  0  0  0  39 1482292532532532501820  0  0  0  0  0  0  0  \n",
      "0  0  0  0  0  0  0  0  0  0  24 11422125325325325320178 0  0  0  0  0  0  0  0  0  \n",
      "0  0  0  0  0  0  0  0  23 66 21325325325325319881 2  0  0  0  0  0  0  0  0  0  0  \n",
      "0  0  0  0  0  0  18 17121925325325325319580 9  0  0  0  0  0  0  0  0  0  0  0  0  \n",
      "0  0  0  0  55 17222625325325325324413311 0  0  0  0  0  0  0  0  0  0  0  0  0  0  \n",
      "0  0  0  0  13625325325321213513216 0  0  0  0  0  0  0  0  0  0  0  0  0  0  0  0  \n",
      "0  0  0  0  0  0  0  0  0  0  0  0  0  0  0  0  0  0  0  0  0  0  0  0  0  0  0  0  \n",
      "0  0  0  0  0  0  0  0  0  0  0  0  0  0  0  0  0  0  0  0  0  0  0  0  0  0  0  0  \n",
      "0  0  0  0  0  0  0  0  0  0  0  0  0  0  0  0  0  0  0  0  0  0  0  0  0  0  0  0  \n"
     ]
    }
   ],
   "source": [
    "# 컴퓨터는 어떻게 이미지를 인식하는지? \n",
    "for x in X_train[0]:\n",
    "\n",
    "    for i in x:\n",
    "        sys.stdout.write(\"%-3s\"% i)\n",
    "    sys.stdout.write('\\n')"
   ]
  },
  {
   "cell_type": "code",
   "execution_count": 8,
   "id": "23d94e18",
   "metadata": {},
   "outputs": [],
   "source": [
    "# 차원 변환 과정 보기 \n",
    "X_train = X_train.reshape(X_train.shape[0],784)"
   ]
  },
  {
   "cell_type": "code",
   "execution_count": 9,
   "id": "fee86f1c",
   "metadata": {},
   "outputs": [
    {
     "data": {
      "text/plain": [
       "(60000, 784)"
      ]
     },
     "execution_count": 9,
     "metadata": {},
     "output_type": "execute_result"
    }
   ],
   "source": [
    "X_train.shape"
   ]
  },
  {
   "cell_type": "markdown",
   "id": "c406419f",
   "metadata": {},
   "source": [
    "## 케라스 \n",
    "* 이미지 분석시 데이터를 0에서 1사이의 값으로 변환해야 분석이 잘됨\n",
    "* 이미지 분석을 할 때 필요한 작업은 255로 나누어주는 작업이 필수\n",
    "* 데이터 정규화 작업(normalization)이라고 한다.\n",
    "* 왜 255개로 나누는가? 컬러는 0-255개이기 때문"
   ]
  },
  {
   "cell_type": "code",
   "execution_count": 10,
   "id": "194f77d1",
   "metadata": {},
   "outputs": [],
   "source": [
    "X_train = X_train.astype(\"float64\")\n",
    "X_train = X_train / 255 \n",
    "# 정규화 작업 \n",
    "\n",
    "X_test = X_test.reshape(X_test.shape[0],784)\n",
    "X_test = X_test.astype(\"float64\")\n",
    "X_test = X_test / 255"
   ]
  },
  {
   "cell_type": "code",
   "execution_count": 11,
   "id": "a6b7ddbb",
   "metadata": {},
   "outputs": [
    {
     "data": {
      "text/plain": [
       "array([[0., 0., 0., ..., 0., 0., 0.],\n",
       "       [0., 0., 0., ..., 0., 0., 0.],\n",
       "       [0., 0., 0., ..., 0., 0., 0.],\n",
       "       ...,\n",
       "       [0., 0., 0., ..., 0., 0., 0.],\n",
       "       [0., 0., 0., ..., 0., 0., 0.],\n",
       "       [0., 0., 0., ..., 0., 0., 0.]])"
      ]
     },
     "execution_count": 11,
     "metadata": {},
     "output_type": "execute_result"
    }
   ],
   "source": [
    "X_test"
   ]
  },
  {
   "cell_type": "code",
   "execution_count": 12,
   "id": "ececfaae",
   "metadata": {},
   "outputs": [],
   "source": [
    "# 타겟이 카테고리형이어야 하기 때문에 숫자로 된 타겟 컬럼을 원 핫 인코딩을 해줘야한다 (범주형 숫자로 변형)\n",
    "y_train = to_categorical(y_train,10)\n",
    "y_test = to_categorical(y_test,10) # 10개의 범주형 숫자로 변형 "
   ]
  },
  {
   "cell_type": "code",
   "execution_count": 13,
   "id": "872c304f",
   "metadata": {},
   "outputs": [
    {
     "data": {
      "text/plain": [
       "array([0., 0., 0., 0., 1., 0., 0., 0., 0., 0.], dtype=float32)"
      ]
     },
     "execution_count": 13,
     "metadata": {},
     "output_type": "execute_result"
    }
   ],
   "source": [
    "y_train[150]"
   ]
  },
  {
   "cell_type": "markdown",
   "id": "b6fd5dd6",
   "metadata": {},
   "source": [
    "## 딥러닝을 이용한 mnist 손글씨 분석 "
   ]
  },
  {
   "cell_type": "code",
   "execution_count": 14,
   "id": "36101a2b",
   "metadata": {},
   "outputs": [],
   "source": [
    "model = Sequential()\n",
    "model.add(Dense(512,input_dim=X_train.shape[1],activation=\"relu\")) # Dense는 사용자 임의 지정이지만 보통 2의 배수로 지정시킴 \n",
    "model.add(Dense(10,activation=\"softmax\"))\n",
    "\n",
    "model.compile(loss=\"categorical_crossentropy\",optimizer =\"adam\",metrics=[\"accuracy\"])\n"
   ]
  },
  {
   "cell_type": "code",
   "execution_count": 15,
   "id": "b3ce1b5b",
   "metadata": {},
   "outputs": [
    {
     "name": "stdout",
     "output_type": "stream",
     "text": [
      "Model: \"sequential\"\n",
      "_________________________________________________________________\n",
      " Layer (type)                Output Shape              Param #   \n",
      "=================================================================\n",
      " dense (Dense)               (None, 512)               401920    \n",
      "                                                                 \n",
      " dense_1 (Dense)             (None, 10)                5130      \n",
      "                                                                 \n",
      "=================================================================\n",
      "Total params: 407,050\n",
      "Trainable params: 407,050\n",
      "Non-trainable params: 0\n",
      "_________________________________________________________________\n"
     ]
    }
   ],
   "source": [
    "model.summary()"
   ]
  },
  {
   "cell_type": "markdown",
   "id": "fd8aba4c",
   "metadata": {},
   "source": [
    "## 모델 최적화를 위한 설정 저장"
   ]
  },
  {
   "cell_type": "code",
   "execution_count": 16,
   "id": "990aeb9f",
   "metadata": {},
   "outputs": [],
   "source": [
    "model_dir = \"./deep_model/\"\n",
    "\n",
    "if not os.path.exists(model_dir):\n",
    "    od.mkdir(model_dir)\n",
    "\n",
    "modelpath = \"./deep_model/MINIST_MLP.hdf5\"\n",
    "checkpointer = ModelCheckpoint(filepath = modelpath,monitor=\"val_loss\",verbose=1, save_best_only=True)\n",
    "early_stopping_callback = EarlyStopping(monitor=\"val_loss\",patience=10)\n"
   ]
  },
  {
   "cell_type": "code",
   "execution_count": 17,
   "id": "42a76b68",
   "metadata": {
    "scrolled": false
   },
   "outputs": [
    {
     "name": "stdout",
     "output_type": "stream",
     "text": [
      "\n",
      "Epoch 1: val_loss improved from inf to 0.18781, saving model to ./deep_model\\MINIST_MLP.hdf5\n",
      "\n",
      "Epoch 2: val_loss improved from 0.18781 to 0.13691, saving model to ./deep_model\\MINIST_MLP.hdf5\n",
      "\n",
      "Epoch 3: val_loss improved from 0.13691 to 0.11931, saving model to ./deep_model\\MINIST_MLP.hdf5\n",
      "\n",
      "Epoch 4: val_loss improved from 0.11931 to 0.09693, saving model to ./deep_model\\MINIST_MLP.hdf5\n",
      "\n",
      "Epoch 5: val_loss improved from 0.09693 to 0.09047, saving model to ./deep_model\\MINIST_MLP.hdf5\n",
      "\n",
      "Epoch 6: val_loss improved from 0.09047 to 0.08394, saving model to ./deep_model\\MINIST_MLP.hdf5\n",
      "\n",
      "Epoch 7: val_loss improved from 0.08394 to 0.08287, saving model to ./deep_model\\MINIST_MLP.hdf5\n",
      "\n",
      "Epoch 8: val_loss did not improve from 0.08287\n",
      "\n",
      "Epoch 9: val_loss improved from 0.08287 to 0.08189, saving model to ./deep_model\\MINIST_MLP.hdf5\n",
      "\n",
      "Epoch 10: val_loss did not improve from 0.08189\n",
      "\n",
      "Epoch 11: val_loss improved from 0.08189 to 0.07918, saving model to ./deep_model\\MINIST_MLP.hdf5\n",
      "\n",
      "Epoch 12: val_loss improved from 0.07918 to 0.07822, saving model to ./deep_model\\MINIST_MLP.hdf5\n",
      "\n",
      "Epoch 13: val_loss did not improve from 0.07822\n",
      "\n",
      "Epoch 14: val_loss did not improve from 0.07822\n",
      "\n",
      "Epoch 15: val_loss did not improve from 0.07822\n",
      "\n",
      "Epoch 16: val_loss did not improve from 0.07822\n",
      "\n",
      "Epoch 17: val_loss did not improve from 0.07822\n",
      "\n",
      "Epoch 18: val_loss did not improve from 0.07822\n",
      "\n",
      "Epoch 19: val_loss did not improve from 0.07822\n",
      "\n",
      "Epoch 20: val_loss did not improve from 0.07822\n",
      "\n",
      "Epoch 21: val_loss did not improve from 0.07822\n",
      "\n",
      "Epoch 22: val_loss did not improve from 0.07822\n"
     ]
    }
   ],
   "source": [
    "history = model.fit(X_train,y_train,validation_split=0.25,epochs=30,batch_size=200,verbose=0 ,\n",
    "                   callbacks=[early_stopping_callback,checkpointer])"
   ]
  },
  {
   "cell_type": "code",
   "execution_count": 18,
   "id": "ecf6034f",
   "metadata": {},
   "outputs": [
    {
     "data": {
      "text/plain": [
       "(10000, 784)"
      ]
     },
     "execution_count": 18,
     "metadata": {},
     "output_type": "execute_result"
    }
   ],
   "source": [
    "X_test.shape"
   ]
  },
  {
   "cell_type": "code",
   "execution_count": 19,
   "id": "50479cec",
   "metadata": {},
   "outputs": [
    {
     "name": "stdout",
     "output_type": "stream",
     "text": [
      "313/313 [==============================] - 1s 3ms/step - loss: 0.0692 - accuracy: 0.9817\n"
     ]
    },
    {
     "data": {
      "text/plain": [
       "[0.06920810788869858, 0.9817000031471252]"
      ]
     },
     "execution_count": 19,
     "metadata": {},
     "output_type": "execute_result"
    }
   ],
   "source": [
    "model.evaluate(X_test,y_test)"
   ]
  },
  {
   "cell_type": "code",
   "execution_count": 20,
   "id": "4e750153",
   "metadata": {},
   "outputs": [],
   "source": [
    "y_val_loss = history.history['val_loss']\n",
    "y_loss = history.history['loss']"
   ]
  },
  {
   "cell_type": "code",
   "execution_count": 21,
   "id": "95bea7e2",
   "metadata": {},
   "outputs": [
    {
     "data": {
      "text/plain": [
       "[0.18781378865242004,\n",
       " 0.13691096007823944,\n",
       " 0.11931060254573822,\n",
       " 0.09692687541246414,\n",
       " 0.09046956896781921,\n",
       " 0.0839417427778244,\n",
       " 0.08287002891302109,\n",
       " 0.08354852348566055,\n",
       " 0.08188819885253906,\n",
       " 0.08237108588218689,\n",
       " 0.07918046414852142,\n",
       " 0.07821919769048691,\n",
       " 0.08007930964231491,\n",
       " 0.08351213485002518,\n",
       " 0.08069789409637451,\n",
       " 0.0815582275390625,\n",
       " 0.08205777406692505,\n",
       " 0.08370493352413177,\n",
       " 0.08584035187959671,\n",
       " 0.08607368916273117,\n",
       " 0.08711718767881393,\n",
       " 0.08902940154075623]"
      ]
     },
     "execution_count": 21,
     "metadata": {},
     "output_type": "execute_result"
    }
   ],
   "source": [
    "y_val_loss"
   ]
  },
  {
   "cell_type": "code",
   "execution_count": 22,
   "id": "9e45183f",
   "metadata": {},
   "outputs": [
    {
     "data": {
      "image/png": "[encoded data removed]",
      "text/plain": [
       "<Figure size 640x480 with 1 Axes>"
      ]
     },
     "metadata": {},
     "output_type": "display_data"
    }
   ],
   "source": [
    "x_len = np.arange(len(y_loss))\n",
    "\n",
    "plt.plot(x_len,y_val_loss,marker=\".\",c=\"red\",label=\"Testset_loss\")\n",
    "plt.plot(x_len,y_loss,marker=\".\",c=\"blue\",label=\"Trainset_loss\")\n",
    "plt.legend(loc=\"upper right\")\n",
    "plt.grid()\n",
    "plt.xlabel(\"epoch\")\n",
    "plt.ylabel(\"loss\")\n",
    "plt.show()\n",
    "\n",
    "# 각 구간별 점이 찍혀서 나온다"
   ]
  },
  {
   "cell_type": "markdown",
   "id": "ba7d951a",
   "metadata": {},
   "source": [
    "## 합성곱 신경망 (Convolutional Neural Network)\n",
    "* CNN은 입련된 이미지에서 다시 한 번 특징을 추출해내기 위하여 커널(필터)을 이용하는 방법 "
   ]
  },
  {
   "cell_type": "markdown",
   "id": "e44910d7",
   "metadata": {},
   "source": [
    "## 구동원리 \n",
    "-----\n",
    "\n",
    "![이미지](https://img1.daumcdn.net/thumb/R1280x0/?scode=mtistory2&fname=https%3A%2F%2Ft1.daumcdn.net%2Fcfile%2Ftistory%2F993E80355C62DA441D)\n",
    "\n",
    "----\n",
    "\n",
    "* 행과 열이 이동하면서 계산 \n",
    "* 왜? → 이미지 출력시 0,1 과정에서 0이 불필요하게 많기에 깔끔하게 제거 시키기 위해서\n",
    "\n",
    "\n",
    "-----\n",
    "![이미지2](https://blog.kakaocdn.net/dn/bkZvKX/btqBFMSuybU/u6qWG3fwCyeSGAFlAiC7jK/img.png)\n",
    "\n",
    "\n",
    "----\n",
    "\n",
    "![이미지3](https://blog.kakaocdn.net/dn/brllFX/btq7CGO2HUl/UijveTiTYJBzxkBWcLLKjk/img.gif)\n",
    "\n",
    "* (중요!) 픽셀을 돌아다니면서 값을 조정"
   ]
  },
  {
   "cell_type": "code",
   "execution_count": 23,
   "id": "c69ad182",
   "metadata": {},
   "outputs": [],
   "source": [
    "(X_train,y_train),(X_test,y_test) = mnist.load_data()"
   ]
  },
  {
   "cell_type": "code",
   "execution_count": 24,
   "id": "d9a970ee",
   "metadata": {},
   "outputs": [],
   "source": [
    "X_train = X_train.reshape(X_train.shape[0],28,28,1).astype('float32') / 255 \n",
    "X_test = X_test.reshape(X_test.shape[0],28,28,1).astype('float32') / 255 \n",
    "y_train = to_categorical(y_train)\n",
    "y_test = to_categorical(y_test)"
   ]
  },
  {
   "cell_type": "markdown",
   "id": "3d9d4ec0",
   "metadata": {},
   "source": [
    "# 데이터셋 준비 완료 \n",
    "## 컨볼루션 신경망 설정 "
   ]
  },
  {
   "cell_type": "code",
   "execution_count": 25,
   "id": "0740f100",
   "metadata": {},
   "outputs": [],
   "source": [
    "# 컨볼루션 임포트 \n",
    "from tensorflow.keras.layers import Conv2D,MaxPooling2D,Flatten,Dropout # 컨볼루션  2D"
   ]
  },
  {
   "cell_type": "code",
   "execution_count": 26,
   "id": "8ea86eee",
   "metadata": {},
   "outputs": [
    {
     "name": "stdout",
     "output_type": "stream",
     "text": [
      "Model: \"sequential_1\"\n",
      "_________________________________________________________________\n",
      " Layer (type)                Output Shape              Param #   \n",
      "=================================================================\n",
      " conv2d (Conv2D)             (None, 26, 26, 32)        320       \n",
      "                                                                 \n",
      " conv2d_1 (Conv2D)           (None, 24, 24, 64)        18496     \n",
      "                                                                 \n",
      " max_pooling2d (MaxPooling2D  (None, 12, 12, 64)       0         \n",
      " )                                                               \n",
      "                                                                 \n",
      " dropout (Dropout)           (None, 12, 12, 64)        0         \n",
      "                                                                 \n",
      " flatten (Flatten)           (None, 9216)              0         \n",
      "                                                                 \n",
      " dense_2 (Dense)             (None, 128)               1179776   \n",
      "                                                                 \n",
      " dropout_1 (Dropout)         (None, 128)               0         \n",
      "                                                                 \n",
      " dense_3 (Dense)             (None, 10)                1290      \n",
      "                                                                 \n",
      "=================================================================\n",
      "Total params: 1,199,882\n",
      "Trainable params: 1,199,882\n",
      "Non-trainable params: 0\n",
      "_________________________________________________________________\n"
     ]
    }
   ],
   "source": [
    "model = Sequential()\n",
    "model.add(Conv2D(32,kernel_size=(3,3),input_shape=(28,28,1),activation=\"relu\"))\n",
    "model.add(Conv2D(64,(3,3),activation=\"relu\")) # 행열 줄여주기 \n",
    "model.add(MaxPooling2D(pool_size=(2,2))) # 행열 줄여주기 \n",
    "model.add(Dropout(0.25)) # 과적합 방지를 위한 단순화\n",
    "model.add(Flatten())\n",
    "model.add(Dense(128,activation=\"relu\"))\n",
    "model.add(Dropout(0.5))\n",
    "model.add(Dense(10,activation=\"softmax\"))\n",
    "model.summary()"
   ]
  },
  {
   "cell_type": "code",
   "execution_count": 27,
   "id": "540f4c51",
   "metadata": {},
   "outputs": [],
   "source": [
    "# 모델 최적화\n",
    "\n",
    "model.compile(loss=\"categorical_crossentropy\",optimizer=\"adam\",metrics=[\"accuracy\"])\n",
    "model_dir = \"./deep_model/\"\n",
    "\n",
    "if not os.path.exists(model_dir):\n",
    "    od.mkdir(model_dir)\n",
    "\n",
    "modelpath = \"./deep_model/MINIST_CNN.hdf5\"\n",
    "checkpointer = ModelCheckpoint(filepath = modelpath,monitor=\"val_loss\",verbose=1, save_best_only=True)\n",
    "early_stopping_callback = EarlyStopping(monitor=\"val_loss\",patience=10)"
   ]
  },
  {
   "cell_type": "code",
   "execution_count": 28,
   "id": "f59c1fed",
   "metadata": {},
   "outputs": [
    {
     "name": "stdout",
     "output_type": "stream",
     "text": [
      "None\n"
     ]
    }
   ],
   "source": [
    "import tensorflow as tf \n",
    "# 지금 텐서가 어디에 할당 되었는지 확인하기\n",
    "print(tf.debugging.set_log_device_placement(True))\n",
    "# GPU를 안써서 시간이 좀 걸렸던 듯 "
   ]
  },
  {
   "cell_type": "code",
   "execution_count": 29,
   "id": "29be41f8",
   "metadata": {},
   "outputs": [
    {
     "name": "stdout",
     "output_type": "stream",
     "text": [
      "\n",
      "Epoch 1: val_loss improved from inf to 0.07753, saving model to ./deep_model\\MINIST_CNN.hdf5\n",
      "\n",
      "Epoch 2: val_loss improved from 0.07753 to 0.05902, saving model to ./deep_model\\MINIST_CNN.hdf5\n",
      "\n",
      "Epoch 3: val_loss improved from 0.05902 to 0.04945, saving model to ./deep_model\\MINIST_CNN.hdf5\n",
      "\n",
      "Epoch 4: val_loss improved from 0.04945 to 0.04411, saving model to ./deep_model\\MINIST_CNN.hdf5\n",
      "\n",
      "Epoch 5: val_loss did not improve from 0.04411\n",
      "\n",
      "Epoch 6: val_loss improved from 0.04411 to 0.04138, saving model to ./deep_model\\MINIST_CNN.hdf5\n",
      "\n",
      "Epoch 7: val_loss did not improve from 0.04138\n",
      "\n",
      "Epoch 8: val_loss did not improve from 0.04138\n",
      "\n",
      "Epoch 9: val_loss did not improve from 0.04138\n",
      "\n",
      "Epoch 10: val_loss did not improve from 0.04138\n",
      "\n",
      "Epoch 11: val_loss did not improve from 0.04138\n",
      "\n",
      "Epoch 12: val_loss did not improve from 0.04138\n",
      "\n",
      "Epoch 13: val_loss improved from 0.04138 to 0.04001, saving model to ./deep_model\\MINIST_CNN.hdf5\n",
      "\n",
      "Epoch 14: val_loss did not improve from 0.04001\n",
      "\n",
      "Epoch 15: val_loss did not improve from 0.04001\n",
      "\n",
      "Epoch 16: val_loss did not improve from 0.04001\n",
      "\n",
      "Epoch 17: val_loss did not improve from 0.04001\n",
      "\n",
      "Epoch 18: val_loss did not improve from 0.04001\n",
      "\n",
      "Epoch 19: val_loss did not improve from 0.04001\n",
      "\n",
      "Epoch 20: val_loss did not improve from 0.04001\n",
      "\n",
      "Epoch 21: val_loss did not improve from 0.04001\n",
      "\n",
      "Epoch 22: val_loss improved from 0.04001 to 0.03752, saving model to ./deep_model\\MINIST_CNN.hdf5\n",
      "\n",
      "Epoch 23: val_loss did not improve from 0.03752\n",
      "\n",
      "Epoch 24: val_loss did not improve from 0.03752\n",
      "\n",
      "Epoch 25: val_loss did not improve from 0.03752\n",
      "\n",
      "Epoch 26: val_loss did not improve from 0.03752\n",
      "\n",
      "Epoch 27: val_loss did not improve from 0.03752\n",
      "\n",
      "Epoch 28: val_loss did not improve from 0.03752\n",
      "\n",
      "Epoch 29: val_loss did not improve from 0.03752\n",
      "\n",
      "Epoch 30: val_loss did not improve from 0.03752\n"
     ]
    }
   ],
   "source": [
    "\n",
    "# 모델 훈련 \n",
    "history = model.fit(X_train,y_train,validation_split=0.25,epochs=30,batch_size=200,verbose=0 ,\n",
    "                   callbacks=[early_stopping_callback,checkpointer])"
   ]
  },
  {
   "cell_type": "code",
   "execution_count": 30,
   "id": "c21957a5",
   "metadata": {},
   "outputs": [
    {
     "name": "stdout",
     "output_type": "stream",
     "text": [
      "313/313 [==============================] - 2s 5ms/step - loss: 0.0380 - accuracy: 0.9911\n"
     ]
    },
    {
     "data": {
      "text/plain": [
       "[0.038038868457078934, 0.991100013256073]"
      ]
     },
     "execution_count": 30,
     "metadata": {},
     "output_type": "execute_result"
    }
   ],
   "source": [
    "model.evaluate(X_test,y_test)"
   ]
  },
  {
   "cell_type": "code",
   "execution_count": 31,
   "id": "75ece314",
   "metadata": {},
   "outputs": [],
   "source": [
    "y_val_loss = history.history['val_loss']\n",
    "y_loss = history.history['loss']"
   ]
  },
  {
   "cell_type": "code",
   "execution_count": 32,
   "id": "f72d68b5",
   "metadata": {},
   "outputs": [
    {
     "data": {
      "image/png": "[encoded data removed]",
      "text/plain": [
       "<Figure size 640x480 with 1 Axes>"
      ]
     },
     "metadata": {},
     "output_type": "display_data"
    }
   ],
   "source": [
    "x_len = np.arange(len(y_loss))\n",
    "\n",
    "plt.plot(x_len,y_val_loss,marker=\".\",c=\"red\",label=\"Testset_loss\")\n",
    "plt.plot(x_len,y_loss,marker=\".\",c=\"blue\",label=\"Trainset_loss\")\n",
    "plt.legend(loc=\"upper right\")\n",
    "plt.grid()\n",
    "plt.xlabel(\"epoch\")\n",
    "plt.ylabel(\"loss\")\n",
    "plt.show()"
   ]
  },
  {
   "cell_type": "code",
   "execution_count": null,
   "id": "8a20babd",
   "metadata": {},
   "outputs": [],
   "source": []
  },
  {
   "cell_type": "code",
   "execution_count": null,
   "id": "3c5fc61a",
   "metadata": {},
   "outputs": [],
   "source": []
  },
  {
   "cell_type": "code",
   "execution_count": null,
   "id": "a1b86886",
   "metadata": {},
   "outputs": [],
   "source": []
  },
  {
   "cell_type": "code",
   "execution_count": null,
   "id": "3e47ce25",
   "metadata": {},
   "outputs": [],
   "source": []
  },
  {
   "cell_type": "code",
   "execution_count": null,
   "id": "4da81f1c",
   "metadata": {},
   "outputs": [],
   "source": []
  },
  {
   "cell_type": "code",
   "execution_count": null,
   "id": "aac4e91a",
   "metadata": {},
   "outputs": [],
   "source": []
  },
  {
   "cell_type": "code",
   "execution_count": null,
   "id": "fb0657e5",
   "metadata": {},
   "outputs": [],
   "source": []
  },
  {
   "cell_type": "code",
   "execution_count": null,
   "id": "aeed884e",
   "metadata": {},
   "outputs": [],
   "source": []
  },
  {
   "cell_type": "code",
   "execution_count": null,
   "id": "9a084f99",
   "metadata": {},
   "outputs": [],
   "source": []
  },
  {
   "cell_type": "code",
   "execution_count": null,
   "id": "db3e2fd9",
   "metadata": {},
   "outputs": [],
   "source": []
  },
  {
   "cell_type": "code",
   "execution_count": null,
   "id": "b9eb946f",
   "metadata": {},
   "outputs": [],
   "source": []
  }
 ],
 "metadata": {
  "kernelspec": {
   "display_name": "tensorflow",
   "language": "python",
   "name": "tensorflow"
  },
  "language_info": {
   "codemirror_mode": {
    "name": "ipython",
    "version": 3
   },
   "file_extension": ".py",
   "mimetype": "text/x-python",
   "name": "python",
   "nbconvert_exporter": "python",
   "pygments_lexer": "ipython3",
   "version": "3.9.18"
  }
 },
 "nbformat": 4,
 "nbformat_minor": 5
}
