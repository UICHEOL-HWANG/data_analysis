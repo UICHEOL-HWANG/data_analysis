{
 "cells": [
  {
   "cell_type": "code",
   "execution_count": 1,
   "id": "1f390917",
   "metadata": {},
   "outputs": [],
   "source": [
    "import pandas as pd \n",
    "import numpy as np "
   ]
  },
  {
   "cell_type": "code",
   "execution_count": 2,
   "id": "2429125e",
   "metadata": {},
   "outputs": [],
   "source": [
    "data = pd.read_csv(r\"C:\\Users\\hi\\Downloads\\부동산실거래가1998-2023.csv\",encoding=\"utf-8\")"
   ]
  },
  {
   "cell_type": "code",
   "execution_count": 10,
   "id": "41ca4784",
   "metadata": {},
   "outputs": [],
   "source": [
    "X = data.drop([\"거래금액(만원)\",\"시군구\",\"단지명\"],axis=1)\n",
    "y = data[\"거래금액(만원)\"]"
   ]
  },
  {
   "cell_type": "code",
   "execution_count": 7,
   "id": "d8437b54",
   "metadata": {},
   "outputs": [],
   "source": [
    "from sklearn.preprocessing import RobustScaler"
   ]
  },
  {
   "cell_type": "code",
   "execution_count": 11,
   "id": "462b1145",
   "metadata": {},
   "outputs": [
    {
     "data": {
      "text/html": [
       "<div>\n",
       "<style scoped>\n",
       "    .dataframe tbody tr th:only-of-type {\n",
       "        vertical-align: middle;\n",
       "    }\n",
       "\n",
       "    .dataframe tbody tr th {\n",
       "        vertical-align: top;\n",
       "    }\n",
       "\n",
       "    .dataframe thead th {\n",
       "        text-align: right;\n",
       "    }\n",
       "</style>\n",
       "<table border=\"1\" class=\"dataframe\">\n",
       "  <thead>\n",
       "    <tr style=\"text-align: right;\">\n",
       "      <th></th>\n",
       "      <th>전용면적(㎡)</th>\n",
       "      <th>계약년월</th>\n",
       "      <th>층</th>\n",
       "      <th>건축년도</th>\n",
       "    </tr>\n",
       "  </thead>\n",
       "  <tbody>\n",
       "    <tr>\n",
       "      <th>0</th>\n",
       "      <td>59.400</td>\n",
       "      <td>200509</td>\n",
       "      <td>11</td>\n",
       "      <td>1998</td>\n",
       "    </tr>\n",
       "    <tr>\n",
       "      <th>1</th>\n",
       "      <td>84.990</td>\n",
       "      <td>200510</td>\n",
       "      <td>19</td>\n",
       "      <td>2003</td>\n",
       "    </tr>\n",
       "    <tr>\n",
       "      <th>2</th>\n",
       "      <td>59.878</td>\n",
       "      <td>200510</td>\n",
       "      <td>3</td>\n",
       "      <td>1997</td>\n",
       "    </tr>\n",
       "    <tr>\n",
       "      <th>3</th>\n",
       "      <td>49.830</td>\n",
       "      <td>200510</td>\n",
       "      <td>8</td>\n",
       "      <td>1998</td>\n",
       "    </tr>\n",
       "    <tr>\n",
       "      <th>4</th>\n",
       "      <td>129.730</td>\n",
       "      <td>200511</td>\n",
       "      <td>11</td>\n",
       "      <td>1992</td>\n",
       "    </tr>\n",
       "    <tr>\n",
       "      <th>...</th>\n",
       "      <td>...</td>\n",
       "      <td>...</td>\n",
       "      <td>...</td>\n",
       "      <td>...</td>\n",
       "    </tr>\n",
       "    <tr>\n",
       "      <th>9591223</th>\n",
       "      <td>84.960</td>\n",
       "      <td>202308</td>\n",
       "      <td>2</td>\n",
       "      <td>1994</td>\n",
       "    </tr>\n",
       "    <tr>\n",
       "      <th>9591224</th>\n",
       "      <td>84.680</td>\n",
       "      <td>202308</td>\n",
       "      <td>3</td>\n",
       "      <td>2002</td>\n",
       "    </tr>\n",
       "    <tr>\n",
       "      <th>9591225</th>\n",
       "      <td>84.950</td>\n",
       "      <td>202308</td>\n",
       "      <td>11</td>\n",
       "      <td>2019</td>\n",
       "    </tr>\n",
       "    <tr>\n",
       "      <th>9591226</th>\n",
       "      <td>99.870</td>\n",
       "      <td>202308</td>\n",
       "      <td>13</td>\n",
       "      <td>2019</td>\n",
       "    </tr>\n",
       "    <tr>\n",
       "      <th>9591227</th>\n",
       "      <td>99.800</td>\n",
       "      <td>202308</td>\n",
       "      <td>3</td>\n",
       "      <td>2019</td>\n",
       "    </tr>\n",
       "  </tbody>\n",
       "</table>\n",
       "<p>9591228 rows × 4 columns</p>\n",
       "</div>"
      ],
      "text/plain": [
       "         전용면적(㎡)    계약년월   층  건축년도\n",
       "0         59.400  200509  11  1998\n",
       "1         84.990  200510  19  2003\n",
       "2         59.878  200510   3  1997\n",
       "3         49.830  200510   8  1998\n",
       "4        129.730  200511  11  1992\n",
       "...          ...     ...  ..   ...\n",
       "9591223   84.960  202308   2  1994\n",
       "9591224   84.680  202308   3  2002\n",
       "9591225   84.950  202308  11  2019\n",
       "9591226   99.870  202308  13  2019\n",
       "9591227   99.800  202308   3  2019\n",
       "\n",
       "[9591228 rows x 4 columns]"
      ]
     },
     "execution_count": 11,
     "metadata": {},
     "output_type": "execute_result"
    }
   ],
   "source": [
    "X"
   ]
  },
  {
   "cell_type": "code",
   "execution_count": 12,
   "id": "32646b16",
   "metadata": {},
   "outputs": [],
   "source": [
    "rc = RobustScaler() \n",
    "X_scaled = rc.fit_transform(X)\n",
    "X_scaled = pd.DataFrame(X,columns=X.columns)\n"
   ]
  },
  {
   "cell_type": "code",
   "execution_count": 13,
   "id": "4eb3cd31",
   "metadata": {},
   "outputs": [
    {
     "data": {
      "text/html": [
       "<div>\n",
       "<style scoped>\n",
       "    .dataframe tbody tr th:only-of-type {\n",
       "        vertical-align: middle;\n",
       "    }\n",
       "\n",
       "    .dataframe tbody tr th {\n",
       "        vertical-align: top;\n",
       "    }\n",
       "\n",
       "    .dataframe thead th {\n",
       "        text-align: right;\n",
       "    }\n",
       "</style>\n",
       "<table border=\"1\" class=\"dataframe\">\n",
       "  <thead>\n",
       "    <tr style=\"text-align: right;\">\n",
       "      <th></th>\n",
       "      <th>전용면적(㎡)</th>\n",
       "      <th>계약년월</th>\n",
       "      <th>층</th>\n",
       "      <th>건축년도</th>\n",
       "    </tr>\n",
       "  </thead>\n",
       "  <tbody>\n",
       "    <tr>\n",
       "      <th>0</th>\n",
       "      <td>59.400</td>\n",
       "      <td>200509</td>\n",
       "      <td>11</td>\n",
       "      <td>1998</td>\n",
       "    </tr>\n",
       "    <tr>\n",
       "      <th>1</th>\n",
       "      <td>84.990</td>\n",
       "      <td>200510</td>\n",
       "      <td>19</td>\n",
       "      <td>2003</td>\n",
       "    </tr>\n",
       "    <tr>\n",
       "      <th>2</th>\n",
       "      <td>59.878</td>\n",
       "      <td>200510</td>\n",
       "      <td>3</td>\n",
       "      <td>1997</td>\n",
       "    </tr>\n",
       "    <tr>\n",
       "      <th>3</th>\n",
       "      <td>49.830</td>\n",
       "      <td>200510</td>\n",
       "      <td>8</td>\n",
       "      <td>1998</td>\n",
       "    </tr>\n",
       "    <tr>\n",
       "      <th>4</th>\n",
       "      <td>129.730</td>\n",
       "      <td>200511</td>\n",
       "      <td>11</td>\n",
       "      <td>1992</td>\n",
       "    </tr>\n",
       "    <tr>\n",
       "      <th>...</th>\n",
       "      <td>...</td>\n",
       "      <td>...</td>\n",
       "      <td>...</td>\n",
       "      <td>...</td>\n",
       "    </tr>\n",
       "    <tr>\n",
       "      <th>9591223</th>\n",
       "      <td>84.960</td>\n",
       "      <td>202308</td>\n",
       "      <td>2</td>\n",
       "      <td>1994</td>\n",
       "    </tr>\n",
       "    <tr>\n",
       "      <th>9591224</th>\n",
       "      <td>84.680</td>\n",
       "      <td>202308</td>\n",
       "      <td>3</td>\n",
       "      <td>2002</td>\n",
       "    </tr>\n",
       "    <tr>\n",
       "      <th>9591225</th>\n",
       "      <td>84.950</td>\n",
       "      <td>202308</td>\n",
       "      <td>11</td>\n",
       "      <td>2019</td>\n",
       "    </tr>\n",
       "    <tr>\n",
       "      <th>9591226</th>\n",
       "      <td>99.870</td>\n",
       "      <td>202308</td>\n",
       "      <td>13</td>\n",
       "      <td>2019</td>\n",
       "    </tr>\n",
       "    <tr>\n",
       "      <th>9591227</th>\n",
       "      <td>99.800</td>\n",
       "      <td>202308</td>\n",
       "      <td>3</td>\n",
       "      <td>2019</td>\n",
       "    </tr>\n",
       "  </tbody>\n",
       "</table>\n",
       "<p>9591228 rows × 4 columns</p>\n",
       "</div>"
      ],
      "text/plain": [
       "         전용면적(㎡)    계약년월   층  건축년도\n",
       "0         59.400  200509  11  1998\n",
       "1         84.990  200510  19  2003\n",
       "2         59.878  200510   3  1997\n",
       "3         49.830  200510   8  1998\n",
       "4        129.730  200511  11  1992\n",
       "...          ...     ...  ..   ...\n",
       "9591223   84.960  202308   2  1994\n",
       "9591224   84.680  202308   3  2002\n",
       "9591225   84.950  202308  11  2019\n",
       "9591226   99.870  202308  13  2019\n",
       "9591227   99.800  202308   3  2019\n",
       "\n",
       "[9591228 rows x 4 columns]"
      ]
     },
     "execution_count": 13,
     "metadata": {},
     "output_type": "execute_result"
    }
   ],
   "source": [
    "X_scaled"
   ]
  },
  {
   "cell_type": "code",
   "execution_count": 14,
   "id": "c67049dd",
   "metadata": {},
   "outputs": [],
   "source": [
    "from sklearn.model_selection import train_test_split"
   ]
  },
  {
   "cell_type": "code",
   "execution_count": 16,
   "id": "c1efe83a",
   "metadata": {},
   "outputs": [],
   "source": [
    "X_train,X_test,y_train,y_test = train_test_split(X_scaled,y,test_size=0.4,random_state=10)\n",
    "X_valid,X_test,y_valid,y_test = train_test_split(X_test,y_test,test_size=0.5,random_state=10)"
   ]
  },
  {
   "cell_type": "code",
   "execution_count": 19,
   "id": "7fac96cf",
   "metadata": {},
   "outputs": [],
   "source": [
    "from sklearn.tree import DecisionTreeRegressor\n",
    "from sklearn.metrics import mean_squared_log_error,r2_score #회귀분석때 필요한거"
   ]
  },
  {
   "cell_type": "code",
   "execution_count": 20,
   "id": "7b492b50",
   "metadata": {},
   "outputs": [
    {
     "name": "stdout",
     "output_type": "stream",
     "text": [
      "0.21178902532705007\n",
      "0.6071851101400749\n"
     ]
    }
   ],
   "source": [
    "dtr = DecisionTreeRegressor()\n",
    "dtr.fit(X_train,y_train)\n",
    "dtr_pred = dtr.predict(X_valid)\n",
    "\n",
    "print(mean_squared_log_error(y_valid,dtr_pred))\n",
    "print(r2_score(y_valid,dtr_pred))"
   ]
  },
  {
   "cell_type": "markdown",
   "id": "c8bf1168",
   "metadata": {},
   "source": [
    "## 학습된 데이터를 저장"
   ]
  },
  {
   "cell_type": "code",
   "execution_count": 21,
   "id": "2324b592",
   "metadata": {},
   "outputs": [],
   "source": [
    "# 변수 혹은 모델에 저장되어 있는 데이터를 파일로 만들어 주는 라이브러리\n",
    "import joblib"
   ]
  },
  {
   "cell_type": "code",
   "execution_count": 22,
   "id": "dd6b5f54",
   "metadata": {},
   "outputs": [
    {
     "data": {
      "text/plain": [
       "['./apart_model.model']"
      ]
     },
     "execution_count": 22,
     "metadata": {},
     "output_type": "execute_result"
    }
   ],
   "source": [
    "joblib.dump(dtr,'./apart_model.model')"
   ]
  },
  {
   "cell_type": "code",
   "execution_count": null,
   "id": "c71deda6",
   "metadata": {},
   "outputs": [],
   "source": []
  },
  {
   "cell_type": "code",
   "execution_count": null,
   "id": "c6f10362",
   "metadata": {},
   "outputs": [],
   "source": []
  },
  {
   "cell_type": "code",
   "execution_count": null,
   "id": "6f738f59",
   "metadata": {},
   "outputs": [],
   "source": []
  },
  {
   "cell_type": "code",
   "execution_count": null,
   "id": "da143731",
   "metadata": {},
   "outputs": [],
   "source": []
  },
  {
   "cell_type": "code",
   "execution_count": null,
   "id": "62ddf489",
   "metadata": {},
   "outputs": [],
   "source": []
  }
 ],
 "metadata": {
  "kernelspec": {
   "display_name": "myvenv",
   "language": "python",
   "name": "myvenv"
  },
  "language_info": {
   "codemirror_mode": {
    "name": "ipython",
    "version": 3
   },
   "file_extension": ".py",
   "mimetype": "text/x-python",
   "name": "python",
   "nbconvert_exporter": "python",
   "pygments_lexer": "ipython3",
   "version": "3.8.17"
  }
 },
 "nbformat": 4,
 "nbformat_minor": 5
}
