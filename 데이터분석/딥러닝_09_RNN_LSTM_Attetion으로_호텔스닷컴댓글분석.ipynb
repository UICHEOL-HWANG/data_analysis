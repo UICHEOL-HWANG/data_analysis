{
 "cells": [
  {
   "cell_type": "code",
   "execution_count": 1,
   "id": "ee4f8e8e",
   "metadata": {},
   "outputs": [],
   "source": [
    "import pandas as pd \n",
    "import numpy as np \n",
    "import matplotlib.pyplot as plt \n",
    "import koreanize_matplotlib\n",
    "import seaborn as sns \n",
    "from tensorflow.keras.layers import Dense,Flatten,Embedding\n",
    "from tensorflow.keras.models import Sequential\n",
    "from tensorflow.keras.preprocessing.text import Tokenizer,text_to_word_sequence\n",
    "from tensorflow.keras.preprocessing.sequence import pad_sequences\n",
    "from tensorflow.keras.utils import to_categorical\n",
    "from numpy import array\n",
    "\n",
    "from tensorflow.keras.callbacks import EarlyStopping,ModelCheckpoint"
   ]
  },
  {
   "cell_type": "code",
   "execution_count": 2,
   "id": "fadb6326",
   "metadata": {},
   "outputs": [],
   "source": [
    "data =pd.read_csv(\"https://raw.githubusercontent.com/haram4th/ablearn/main/hotel_review_75000.csv\",encoding=\"utf-8\")"
   ]
  },
  {
   "cell_type": "code",
   "execution_count": 3,
   "id": "4f80826f",
   "metadata": {},
   "outputs": [],
   "source": [
    "data[\"target\"] = data[\"rating\"].apply(lambda x: 1 if x >= 8 else 0)"
   ]
  },
  {
   "cell_type": "code",
   "execution_count": 20,
   "id": "d5b08e3a",
   "metadata": {},
   "outputs": [],
   "source": [
    "docs = data[\"description\"]"
   ]
  },
  {
   "cell_type": "code",
   "execution_count": 21,
   "id": "08797476",
   "metadata": {},
   "outputs": [],
   "source": [
    "token = Tokenizer(lower=False)\n",
    "token.fit_on_texts(docs)"
   ]
  },
  {
   "cell_type": "code",
   "execution_count": 22,
   "id": "1d35c326",
   "metadata": {},
   "outputs": [
    {
     "data": {
      "text/plain": [
       "261893"
      ]
     },
     "execution_count": 22,
     "metadata": {},
     "output_type": "execute_result"
    }
   ],
   "source": [
    " len(token.word_index) #전체 호텔 리뷰의 인덱스 개수 "
   ]
  },
  {
   "cell_type": "code",
   "execution_count": 23,
   "id": "ea83dec0",
   "metadata": {},
   "outputs": [],
   "source": [
    "word_size = len(token.word_index)+1"
   ]
  },
  {
   "cell_type": "code",
   "execution_count": 24,
   "id": "3c1b4661",
   "metadata": {},
   "outputs": [],
   "source": [
    "X = token.texts_to_sequences(docs)"
   ]
  },
  {
   "cell_type": "code",
   "execution_count": 28,
   "id": "f16399e3",
   "metadata": {},
   "outputs": [],
   "source": [
    "classes = data[\"target\"]"
   ]
  },
  {
   "cell_type": "code",
   "execution_count": 27,
   "id": "7a99354c",
   "metadata": {},
   "outputs": [],
   "source": [
    "max_length = max(len(i)for i in X)"
   ]
  },
  {
   "cell_type": "code",
   "execution_count": null,
   "id": "5220b60f",
   "metadata": {},
   "outputs": [],
   "source": [
    "X2 = pd.Series(X)\n",
    "X2 "
   ]
  },
  {
   "cell_type": "code",
   "execution_count": null,
   "id": "a186ebcd",
   "metadata": {},
   "outputs": [],
   "source": [
    "X2_len =X2.apply(len)\n",
    "X2_len.max()"
   ]
  },
  {
   "cell_type": "code",
   "execution_count": 29,
   "id": "40410067",
   "metadata": {},
   "outputs": [],
   "source": [
    "padded_x = pad_sequences(X,max_length)"
   ]
  },
  {
   "cell_type": "code",
   "execution_count": 31,
   "id": "d576bc95",
   "metadata": {},
   "outputs": [],
   "source": [
    "from sklearn.model_selection import train_test_split"
   ]
  },
  {
   "cell_type": "code",
   "execution_count": 32,
   "id": "9b055a04",
   "metadata": {},
   "outputs": [],
   "source": [
    "X_train, X_test, y_train, y_test = train_test_split(padded_x, classes, test_size=0.4, random_state=7)\n",
    "X_valid, X_test, y_valid, y_test = train_test_split(X_test, y_test, test_size=0.5, random_state=7)"
   ]
  },
  {
   "cell_type": "code",
   "execution_count": 34,
   "id": "17bb641d",
   "metadata": {},
   "outputs": [
    {
     "name": "stdout",
     "output_type": "stream",
     "text": [
      "Model: \"sequential_1\"\n",
      "_________________________________________________________________\n",
      " Layer (type)                Output Shape              Param #   \n",
      "=================================================================\n",
      " embedding_1 (Embedding)     (None, 377, 32)           8380608   \n",
      "                                                                 \n",
      " flatten_1 (Flatten)         (None, 12064)             0         \n",
      "                                                                 \n",
      " dense_1 (Dense)             (None, 1)                 12065     \n",
      "                                                                 \n",
      "=================================================================\n",
      "Total params: 8,392,673\n",
      "Trainable params: 8,392,673\n",
      "Non-trainable params: 0\n",
      "_________________________________________________________________\n"
     ]
    }
   ],
   "source": [
    "# 단어 임베딩을 포함해서 딥러닝 모델 생성\n",
    "model = Sequential()\n",
    "model.add(Embedding(word_size, 32, input_length=377)) \n",
    "model.add(Flatten())\n",
    "model.add(Dense(1, activation='sigmoid'))\n",
    "model.summary()"
   ]
  },
  {
   "cell_type": "code",
   "execution_count": null,
   "id": "32304182",
   "metadata": {},
   "outputs": [],
   "source": [
    "modelpath = \"./deep_model/{epoch:02d}-{val_accuracy:.4f}.hdf5\"\n",
    "checkpointer = ModelCheckpoint(filepath=modelpath, monitor='val_loss', verbose=1, save_best_only=True)\n",
    "early_stopping_callback = EarlyStopping(monitor='val_loss', patience=2)\n",
    "\n",
    "model.compile(loss= 'binary_crossentropy', optimizer='adam', metrics=['accuracy'])\n",
    "history = model.fit(X_train, y_train, epochs=5, validation_data=(X_valid, y_valid))\n",
    "print('Accuracy: ', model.evaluate(X_test, y_test)[1])"
   ]
  },
  {
   "cell_type": "code",
   "execution_count": 38,
   "id": "dbc2effd",
   "metadata": {},
   "outputs": [],
   "source": [
    "def plt_show(x):\n",
    "    y_val_loss = history.history['val_loss']\n",
    "    y_loss = history.history['loss']\n",
    "    x_len = np.arange(len(y_loss))\n",
    "    plt.plot(x_len, y_val_loss, marker='.', c=\"red\", label='Testset_loss')\n",
    "    plt.plot(x_len, y_loss, marker='.', c=\"blue\", label='trainset_loss')\n",
    "    plt.legend(loc='upper right')\n",
    "    plt.grid()\n",
    "    plt.xlabel('epoch')\n",
    "    plt.ylabel('loss')\n",
    "    plt.show()"
   ]
  },
  {
   "cell_type": "markdown",
   "id": "ab18c896",
   "metadata": {},
   "source": [
    "## RNN,LSTM 텍스트 분석 \n",
    "* RNN(Recurrent Neural Network) : 시간적으로 연속성이 있는 데이터를 처리하려고 만든 인공 신경망 \n",
    "    * 이전 은닉층이 현재 은닉층의 입력이 되면서, 반복되는 순환 구조를 가진다. \n",
    "* RNN의 가장 큰 차이점은 기억을 갖는(memory) 신경망 \n",
    "* 텍스트 분석 , 시계열 데이터 분석에 활용 \n",
    "\n",
    "## LSTM\n",
    "* RNN은 입력이 길어지면 가장 먼저 입력된 정보를 잊어버림 (기울기 소실 문제) \n",
    "* 기울기 소멸 문제를 해결하기 위해 망각 게이트, 입력 게이트 , 출력 게이트 추가\n",
    "* 정보가 소실되지 않고 기억되도록 함 "
   ]
  },
  {
   "cell_type": "code",
   "execution_count": 35,
   "id": "5bd614cd",
   "metadata": {},
   "outputs": [],
   "source": [
    "from tensorflow.keras.layers import LSTM"
   ]
  },
  {
   "cell_type": "code",
   "execution_count": 36,
   "id": "794b304e",
   "metadata": {},
   "outputs": [
    {
     "name": "stdout",
     "output_type": "stream",
     "text": [
      "Model: \"sequential_2\"\n",
      "_________________________________________________________________\n",
      " Layer (type)                Output Shape              Param #   \n",
      "=================================================================\n",
      " embedding_2 (Embedding)     (None, 377, 32)           8380608   \n",
      "                                                                 \n",
      " lstm (LSTM)                 (None, 377)               618280    \n",
      "                                                                 \n",
      " dense_2 (Dense)             (None, 1)                 378       \n",
      "                                                                 \n",
      "=================================================================\n",
      "Total params: 8,999,266\n",
      "Trainable params: 8,999,266\n",
      "Non-trainable params: 0\n",
      "_________________________________________________________________\n"
     ]
    }
   ],
   "source": [
    "model = Sequential()\n",
    "model.add(Embedding(word_size, 32, input_length=max_length))\n",
    "model.add(LSTM(max_length,activation=\"tanh\")) # LSTM은 하이퍼볼릭 탄젠트를 사용한다 \n",
    "model.add(Dense(1,activation=\"sigmoid\"))\n",
    "\n",
    "model.summary()"
   ]
  },
  {
   "cell_type": "code",
   "execution_count": 37,
   "id": "22c321ee",
   "metadata": {},
   "outputs": [
    {
     "name": "stdout",
     "output_type": "stream",
     "text": [
      "Epoch 1/5\n",
      "1407/1407 [==============================] - 123s 85ms/step - loss: 0.3944 - accuracy: 0.8253 - val_loss: 0.3679 - val_accuracy: 0.8375\n",
      "Epoch 2/5\n",
      "1407/1407 [==============================] - 120s 85ms/step - loss: 0.1816 - accuracy: 0.9322 - val_loss: 0.4038 - val_accuracy: 0.8564\n",
      "Epoch 3/5\n",
      "1407/1407 [==============================] - 121s 86ms/step - loss: 0.0734 - accuracy: 0.9767 - val_loss: 0.4779 - val_accuracy: 0.8385\n",
      "Epoch 4/5\n",
      "1407/1407 [==============================] - 121s 86ms/step - loss: 0.0456 - accuracy: 0.9856 - val_loss: 0.6158 - val_accuracy: 0.8355\n",
      "Epoch 5/5\n",
      "1407/1407 [==============================] - 122s 87ms/step - loss: 0.0327 - accuracy: 0.9901 - val_loss: 0.6448 - val_accuracy: 0.8334\n",
      "469/469 [==============================] - 13s 28ms/step - loss: 0.6523 - accuracy: 0.8288\n",
      "Accuracy:  0.8288000226020813\n"
     ]
    },
    {
     "ename": "NameError",
     "evalue": "name 'plt_show' is not defined",
     "output_type": "error",
     "traceback": [
      "\u001b[1;31m---------------------------------------------------------------------------\u001b[0m",
      "\u001b[1;31mNameError\u001b[0m                                 Traceback (most recent call last)",
      "Cell \u001b[1;32mIn[37], line 7\u001b[0m\n\u001b[0;32m      5\u001b[0m history \u001b[38;5;241m=\u001b[39m model\u001b[38;5;241m.\u001b[39mfit(X_train, y_train, epochs\u001b[38;5;241m=\u001b[39m\u001b[38;5;241m5\u001b[39m, validation_data\u001b[38;5;241m=\u001b[39m(X_valid, y_valid))\n\u001b[0;32m      6\u001b[0m \u001b[38;5;28mprint\u001b[39m(\u001b[38;5;124m'\u001b[39m\u001b[38;5;124mAccuracy: \u001b[39m\u001b[38;5;124m'\u001b[39m, model\u001b[38;5;241m.\u001b[39mevaluate(X_test, y_test)[\u001b[38;5;241m1\u001b[39m])\n\u001b[1;32m----> 7\u001b[0m \u001b[43mplt_show\u001b[49m(history)\n",
      "\u001b[1;31mNameError\u001b[0m: name 'plt_show' is not defined"
     ]
    }
   ],
   "source": [
    "modelpath = \"./deep_model/{epoch:02d}-{val_accuracy:.4f}.hdf5\"\n",
    "checkpointer = ModelCheckpoint(filepath=modelpath, monitor='val_loss', verbose=1, save_best_only=True)\n",
    "early_stopping_callback = EarlyStopping(monitor='val_loss', patience=2)\n",
    "model.compile(loss= 'binary_crossentropy', optimizer='adam', metrics=['accuracy'])\n",
    "history = model.fit(X_train, y_train, epochs=5, validation_data=(X_valid, y_valid))\n",
    "print('Accuracy: ', model.evaluate(X_test, y_test)[1])\n"
   ]
  },
  {
   "cell_type": "code",
   "execution_count": 39,
   "id": "14ffe81a",
   "metadata": {},
   "outputs": [
    {
     "data": {
      "image/png": "[encoded data removed]",
      "text/plain": [
       "<Figure size 640x480 with 1 Axes>"
      ]
     },
     "metadata": {},
     "output_type": "display_data"
    }
   ],
   "source": [
    "plt_show(history)"
   ]
  },
  {
   "cell_type": "markdown",
   "id": "f687b26e",
   "metadata": {},
   "source": [
    "## LSTM과 CNN 조합 모델로 분석"
   ]
  },
  {
   "cell_type": "code",
   "execution_count": 40,
   "id": "d2afe872",
   "metadata": {},
   "outputs": [],
   "source": [
    "from tensorflow.keras.layers import Dropout,Activation,Conv1D,MaxPooling1D"
   ]
  },
  {
   "cell_type": "code",
   "execution_count": 42,
   "id": "a73ee45e",
   "metadata": {},
   "outputs": [
    {
     "name": "stdout",
     "output_type": "stream",
     "text": [
      "Model: \"sequential_4\"\n",
      "_________________________________________________________________\n",
      " Layer (type)                Output Shape              Param #   \n",
      "=================================================================\n",
      " embedding_4 (Embedding)     (None, 377, 32)           8380608   \n",
      "                                                                 \n",
      " dropout (Dropout)           (None, 377, 32)           0         \n",
      "                                                                 \n",
      " conv1d (Conv1D)             (None, 373, 64)           10304     \n",
      "                                                                 \n",
      " max_pooling1d (MaxPooling1D  (None, 93, 64)           0         \n",
      " )                                                               \n",
      "                                                                 \n",
      " lstm_1 (LSTM)               (None, 377)               666536    \n",
      "                                                                 \n",
      " dense_3 (Dense)             (None, 1)                 378       \n",
      "                                                                 \n",
      " activation (Activation)     (None, 1)                 0         \n",
      "                                                                 \n",
      "=================================================================\n",
      "Total params: 9,057,826\n",
      "Trainable params: 9,057,826\n",
      "Non-trainable params: 0\n",
      "_________________________________________________________________\n"
     ]
    }
   ],
   "source": [
    "model = Sequential()\n",
    "model.add(Embedding(word_size,32,input_length=max_length))\n",
    "model.add(Dropout(0.5))\n",
    "model.add(Conv1D(64,5,padding=\"valid\",activation=\"relu\",strides=1))\n",
    "model.add(MaxPooling1D(pool_size=4))\n",
    "model.add(LSTM(max_length))\n",
    "model.add(Dense(1))\n",
    "model.add(Activation(\"sigmoid\"))\n",
    "\n",
    "model.summary()"
   ]
  },
  {
   "cell_type": "code",
   "execution_count": 43,
   "id": "6e4bf0d3",
   "metadata": {},
   "outputs": [
    {
     "name": "stdout",
     "output_type": "stream",
     "text": [
      "Epoch 1/5\n",
      "1407/1407 [==============================] - 63s 41ms/step - loss: 0.3857 - accuracy: 0.8317 - val_loss: 0.3222 - val_accuracy: 0.8636\n",
      "Epoch 2/5\n",
      "1407/1407 [==============================] - 58s 41ms/step - loss: 0.2243 - accuracy: 0.9119 - val_loss: 0.3443 - val_accuracy: 0.8558\n",
      "Epoch 3/5\n",
      "1407/1407 [==============================] - 59s 42ms/step - loss: 0.1241 - accuracy: 0.9556 - val_loss: 0.4550 - val_accuracy: 0.8465\n",
      "Epoch 4/5\n",
      "1407/1407 [==============================] - 61s 43ms/step - loss: 0.0836 - accuracy: 0.9710 - val_loss: 0.5014 - val_accuracy: 0.8406\n",
      "Epoch 5/5\n",
      "1407/1407 [==============================] - 58s 41ms/step - loss: 0.0662 - accuracy: 0.9773 - val_loss: 0.5823 - val_accuracy: 0.8361\n",
      "469/469 [==============================] - 6s 12ms/step - loss: 0.5972 - accuracy: 0.8345\n",
      "Accuracy:  0.8344666957855225\n"
     ]
    },
    {
     "data": {
      "image/png": "[encoded data removed]",
      "text/plain": [
       "<Figure size 640x480 with 1 Axes>"
      ]
     },
     "metadata": {},
     "output_type": "display_data"
    }
   ],
   "source": [
    "modelpath = \"./deep_model/{epoch:02d}-{val_accuracy:.4f}.hdf5\"\n",
    "checkpointer = ModelCheckpoint(filepath=modelpath, monitor='val_loss', verbose=1, save_best_only=True)\n",
    "early_stopping_callback = EarlyStopping(monitor='val_loss', patience=2)\n",
    "model.compile(loss= 'binary_crossentropy', optimizer='adam', metrics=['accuracy'])\n",
    "history = model.fit(X_train, y_train, epochs=5, validation_data=(X_valid, y_valid))\n",
    "print('Accuracy: ', model.evaluate(X_test, y_test)[1])\n",
    "\n",
    "plt_show(history)"
   ]
  },
  {
   "cell_type": "markdown",
   "id": "3c52cae7",
   "metadata": {},
   "source": [
    "## Attention을 이용한 분석 "
   ]
  },
  {
   "cell_type": "code",
   "execution_count": 44,
   "id": "47db8acf",
   "metadata": {},
   "outputs": [],
   "source": [
    "from attention import Attention"
   ]
  },
  {
   "cell_type": "code",
   "execution_count": 48,
   "id": "88bab45b",
   "metadata": {},
   "outputs": [
    {
     "name": "stdout",
     "output_type": "stream",
     "text": [
      "Model: \"sequential_8\"\n",
      "_________________________________________________________________\n",
      " Layer (type)                Output Shape              Param #   \n",
      "=================================================================\n",
      " embedding_8 (Embedding)     (None, 377, 32)           8380608   \n",
      "                                                                 \n",
      " dropout_7 (Dropout)         (None, 377, 32)           0         \n",
      "                                                                 \n",
      " lstm_5 (LSTM)               (None, 377, 64)           24832     \n",
      "                                                                 \n",
      " attention_3 (Attention)     (None, 128)               20480     \n",
      "                                                                 \n",
      " dropout_8 (Dropout)         (None, 128)               0         \n",
      "                                                                 \n",
      " dense_19 (Dense)            (None, 256)               33024     \n",
      "                                                                 \n",
      " dense_20 (Dense)            (None, 128)               32896     \n",
      "                                                                 \n",
      " dense_21 (Dense)            (None, 64)                8256      \n",
      "                                                                 \n",
      " dense_22 (Dense)            (None, 32)                2080      \n",
      "                                                                 \n",
      " dense_23 (Dense)            (None, 1)                 33        \n",
      "                                                                 \n",
      " activation_1 (Activation)   (None, 1)                 0         \n",
      "                                                                 \n",
      "=================================================================\n",
      "Total params: 8,502,209\n",
      "Trainable params: 8,502,209\n",
      "Non-trainable params: 0\n",
      "_________________________________________________________________\n"
     ]
    }
   ],
   "source": [
    "model = Sequential()\n",
    "\n",
    "model.add(Embedding(word_size,32,input_length=max_length))\n",
    "model.add(Dropout(0.5))\n",
    "model.add(LSTM(64,return_sequences=True))\n",
    "model.add(Attention())\n",
    "model.add(Dropout(0.5))\n",
    "model.add(Dense(256,activation=\"relu\"))\n",
    "model.add(Dense(128,activation=\"relu\"))\n",
    "model.add(Dense(64,activation=\"relu\"))\n",
    "model.add(Dense(32,activation=\"relu\"))\n",
    "model.add(Dense(1))\n",
    "model.add(Activation(\"sigmoid\"))\n",
    "\n",
    "model.summary()"
   ]
  },
  {
   "cell_type": "code",
   "execution_count": 49,
   "id": "cd57df33",
   "metadata": {},
   "outputs": [
    {
     "name": "stdout",
     "output_type": "stream",
     "text": [
      "Epoch 1/5\n",
      "1407/1407 [==============================] - 55s 37ms/step - loss: 0.3666 - accuracy: 0.8401 - val_loss: 0.3069 - val_accuracy: 0.8724\n",
      "Epoch 2/5\n",
      "1407/1407 [==============================] - 52s 37ms/step - loss: 0.2003 - accuracy: 0.9264 - val_loss: 0.3472 - val_accuracy: 0.8623\n",
      "Epoch 3/5\n",
      "1407/1407 [==============================] - 52s 37ms/step - loss: 0.1016 - accuracy: 0.9656 - val_loss: 0.4470 - val_accuracy: 0.8544\n",
      "Epoch 4/5\n",
      "1407/1407 [==============================] - 52s 37ms/step - loss: 0.0634 - accuracy: 0.9794 - val_loss: 0.4890 - val_accuracy: 0.8429\n",
      "Epoch 5/5\n",
      "1407/1407 [==============================] - 52s 37ms/step - loss: 0.0459 - accuracy: 0.9856 - val_loss: 0.5639 - val_accuracy: 0.8395\n",
      "469/469 [==============================] - 5s 10ms/step - loss: 0.5699 - accuracy: 0.8410\n",
      "Accuracy:  0.8410000205039978\n"
     ]
    },
    {
     "data": {
      "image/png": "[encoded data removed]",
      "text/plain": [
       "<Figure size 640x480 with 1 Axes>"
      ]
     },
     "metadata": {},
     "output_type": "display_data"
    }
   ],
   "source": [
    "modelpath = \"./deep_model/{epoch:02d}-{val_accuracy:.4f}.hdf5\"\n",
    "checkpointer = ModelCheckpoint(filepath=modelpath, monitor='val_loss', verbose=1, save_best_only=True)\n",
    "early_stopping_callback = EarlyStopping(monitor='val_loss', patience=2)\n",
    "model.compile(loss= 'binary_crossentropy', optimizer='adam', metrics=['accuracy'])\n",
    "history = model.fit(X_train, y_train, epochs=5, validation_data=(X_valid, y_valid))\n",
    "print('Accuracy: ', model.evaluate(X_test, y_test)[1])\n",
    "\n",
    "plt_show(history)"
   ]
  },
  {
   "cell_type": "code",
   "execution_count": null,
   "id": "f03eda95",
   "metadata": {},
   "outputs": [],
   "source": []
  },
  {
   "cell_type": "code",
   "execution_count": null,
   "id": "d088473d",
   "metadata": {},
   "outputs": [],
   "source": []
  },
  {
   "cell_type": "code",
   "execution_count": null,
   "id": "7f15bab7",
   "metadata": {},
   "outputs": [],
   "source": []
  },
  {
   "cell_type": "code",
   "execution_count": null,
   "id": "1db96845",
   "metadata": {},
   "outputs": [],
   "source": []
  },
  {
   "cell_type": "code",
   "execution_count": null,
   "id": "2784488c",
   "metadata": {},
   "outputs": [],
   "source": []
  },
  {
   "cell_type": "code",
   "execution_count": null,
   "id": "2a615023",
   "metadata": {},
   "outputs": [],
   "source": []
  },
  {
   "cell_type": "code",
   "execution_count": null,
   "id": "c2f81ddb",
   "metadata": {},
   "outputs": [],
   "source": []
  },
  {
   "cell_type": "code",
   "execution_count": null,
   "id": "d7661e6d",
   "metadata": {},
   "outputs": [],
   "source": []
  },
  {
   "cell_type": "code",
   "execution_count": null,
   "id": "084f7759",
   "metadata": {},
   "outputs": [],
   "source": []
  },
  {
   "cell_type": "code",
   "execution_count": null,
   "id": "c8f890c3",
   "metadata": {},
   "outputs": [],
   "source": []
  },
  {
   "cell_type": "code",
   "execution_count": null,
   "id": "625d3c24",
   "metadata": {},
   "outputs": [],
   "source": []
  },
  {
   "cell_type": "code",
   "execution_count": null,
   "id": "a908059c",
   "metadata": {},
   "outputs": [],
   "source": []
  },
  {
   "cell_type": "code",
   "execution_count": null,
   "id": "751f6d78",
   "metadata": {},
   "outputs": [],
   "source": []
  },
  {
   "cell_type": "code",
   "execution_count": null,
   "id": "880e5ea0",
   "metadata": {},
   "outputs": [],
   "source": []
  },
  {
   "cell_type": "markdown",
   "id": "f2e21473",
   "metadata": {},
   "source": [
    "# 이전 내용"
   ]
  },
  {
   "cell_type": "code",
   "execution_count": 11,
   "id": "382863a2",
   "metadata": {},
   "outputs": [],
   "source": [
    "text = '해보지 않으면 해낼 수 없다'"
   ]
  },
  {
   "cell_type": "code",
   "execution_count": 14,
   "id": "69a129b6",
   "metadata": {},
   "outputs": [],
   "source": [
    "result = text_to_word_sequence(text)"
   ]
  },
  {
   "cell_type": "code",
   "execution_count": 15,
   "id": "de9dc4dc",
   "metadata": {},
   "outputs": [
    {
     "name": "stdout",
     "output_type": "stream",
     "text": [
      "원본 : 해보지 않으면 해낼 수 없다\n",
      "토큰화 : ['해보지', '않으면', '해낼', '수', '없다']\n"
     ]
    }
   ],
   "source": [
    "print(f\"원본 : {text}\")\n",
    "print(f\"토큰화 : {result}\") # 토큰, 코퍼스(corpus) : 자연 언어 연구를 위해 "
   ]
  },
  {
   "cell_type": "code",
   "execution_count": 16,
   "id": "4d3d2f62",
   "metadata": {},
   "outputs": [],
   "source": [
    "# 단어 빈도수 세기 \n",
    "docs = [\"먼저 텍스트의 각 단어를 나누어 토큰화 합니다.\",\n",
    "       \"텍스트의 단어로 토큰화 해야 딥러닝에서 인식\",\n",
    "       \"토큰화한 결과는 딥러닝에서 사용할 수 있습니다\"]"
   ]
  },
  {
   "cell_type": "code",
   "execution_count": 17,
   "id": "294ef578",
   "metadata": {},
   "outputs": [],
   "source": [
    "token = Tokenizer(lower=False)\n",
    "token.fit_on_texts(docs)"
   ]
  },
  {
   "cell_type": "code",
   "execution_count": 18,
   "id": "e38a50af",
   "metadata": {},
   "outputs": [
    {
     "name": "stdout",
     "output_type": "stream",
     "text": [
      "단어 갯수 : OrderedDict([('먼저', 1), ('텍스트의', 2), ('각', 1), ('단어를', 1), ('나누어', 1), ('토큰화', 2), ('합니다', 1), ('단어로', 1), ('해야', 1), ('딥러닝에서', 2), ('인식', 1), ('토큰화한', 1), ('결과는', 1), ('사용할', 1), ('수', 1), ('있습니다', 1)])\n"
     ]
    }
   ],
   "source": [
    "print(f\"단어 갯수 : {token.word_counts}\")"
   ]
  },
  {
   "cell_type": "code",
   "execution_count": 19,
   "id": "af3a8f89",
   "metadata": {},
   "outputs": [
    {
     "name": "stdout",
     "output_type": "stream",
     "text": [
      "문장 카운트 3\n"
     ]
    }
   ],
   "source": [
    "print(f\"문장 카운트 {token.document_count}\")"
   ]
  },
  {
   "cell_type": "code",
   "execution_count": 20,
   "id": "0c374602",
   "metadata": {},
   "outputs": [
    {
     "name": "stdout",
     "output_type": "stream",
     "text": [
      "각 단어가 몇 개의 문장에 포함 되어 있는가?defaultdict(<class 'int'>, {'각': 1, '토큰화': 2, '텍스트의': 2, '나누어': 1, '합니다': 1, '단어를': 1, '먼저': 1, '딥러닝에서': 2, '해야': 1, '단어로': 1, '인식': 1, '토큰화한': 1, '있습니다': 1, '수': 1, '결과는': 1, '사용할': 1})\n"
     ]
    }
   ],
   "source": [
    "print(f\"각 단어가 몇 개의 문장에 포함 되어 있는가?{token.word_docs}\")"
   ]
  },
  {
   "cell_type": "code",
   "execution_count": 21,
   "id": "1d7b74f3",
   "metadata": {},
   "outputs": [
    {
     "name": "stdout",
     "output_type": "stream",
     "text": [
      "각 단어에 매겨진 인덱스 :{'텍스트의': 1, '토큰화': 2, '딥러닝에서': 3, '먼저': 4, '각': 5, '단어를': 6, '나누어': 7, '합니다': 8, '단어로': 9, '해야': 10, '인식': 11, '토큰화한': 12, '결과는': 13, '사용할': 14, '수': 15, '있습니다': 16}\n"
     ]
    }
   ],
   "source": [
    "print(f\"각 단어에 매겨진 인덱스 :{token.word_index}\")"
   ]
  },
  {
   "cell_type": "markdown",
   "id": "62a34206",
   "metadata": {},
   "source": [
    "## 단어의 원 핫 인코딩"
   ]
  },
  {
   "cell_type": "code",
   "execution_count": 22,
   "id": "ebe3261d",
   "metadata": {},
   "outputs": [
    {
     "name": "stdout",
     "output_type": "stream",
     "text": [
      "{'오랫동안': 1, '꿈꾸는': 2, '이는': 3, '그': 4, '꿈을': 5, '닮아간다': 6}\n"
     ]
    }
   ],
   "source": [
    "text = \"오랫동안 꿈꾸는 이는 그 꿈을 닮아간다\"\n",
    "token = Tokenizer(lower=False)\n",
    "token.fit_on_texts([text])\n",
    "\n",
    "print(token.word_index)"
   ]
  },
  {
   "cell_type": "code",
   "execution_count": 25,
   "id": "db3e9803",
   "metadata": {},
   "outputs": [],
   "source": [
    "# 단어를 벡터로 변환 \n",
    "\n",
    "x = token.texts_to_sequences([text])"
   ]
  },
  {
   "cell_type": "code",
   "execution_count": 26,
   "id": "c68d64f9",
   "metadata": {},
   "outputs": [],
   "source": [
    "# 인덱스에 1을 추가해서 원 - 핫 인코딩 배열을 만들기\n",
    "\n",
    "word_size = len(token.word_index) +1 \n",
    "# "
   ]
  },
  {
   "cell_type": "code",
   "execution_count": 27,
   "id": "6f0e325a",
   "metadata": {},
   "outputs": [
    {
     "name": "stdout",
     "output_type": "stream",
     "text": [
      "[[[0. 1. 0. 0. 0. 0. 0.]\n",
      "  [0. 0. 1. 0. 0. 0. 0.]\n",
      "  [0. 0. 0. 1. 0. 0. 0.]\n",
      "  [0. 0. 0. 0. 1. 0. 0.]\n",
      "  [0. 0. 0. 0. 0. 1. 0.]\n",
      "  [0. 0. 0. 0. 0. 0. 1.]]]\n"
     ]
    }
   ],
   "source": [
    "x = to_categorical(x,num_classes=word_size)\n",
    "print(x)\n",
    "\n",
    "# 원 핫 인코딩 행렬"
   ]
  },
  {
   "cell_type": "markdown",
   "id": "0222f6c0",
   "metadata": {},
   "source": [
    "## 텍스트를 읽고 긍정, 부정 예측하기 "
   ]
  },
  {
   "cell_type": "code",
   "execution_count": 56,
   "id": "c82d1a48",
   "metadata": {},
   "outputs": [],
   "source": [
    "docs = [\"너무 재미있네요\",\"최고에요\",\"참 잘 만든 영화예요\",\"추천하고 싶은 영화 입니다.\",\n",
    "       \"한번 더 보고싶네요\",\"글쎄요\",\"별로에요\",\"생각보다 지루하네요\",\"연기가 어색해요\",\"재미없어요\",\n",
    "       ]\n",
    "\n",
    "# 긍정 리뷰 1 , 부정 리뷰 0으로 클래스 지정 \n",
    "classes = array([1,1,1,1,1,0,0,0,0,0])\n"
   ]
  },
  {
   "cell_type": "code",
   "execution_count": 34,
   "id": "8b849201",
   "metadata": {},
   "outputs": [
    {
     "name": "stdout",
     "output_type": "stream",
     "text": [
      "{'너무': 1, '재미있네요': 2, '최고에요': 3, '참': 4, '잘': 5, '만든': 6, '영화예요': 7, '추천하고': 8, '싶은': 9, '영화': 10, '입니다': 11, '한번': 12, '더': 13, '보고싶네요': 14, '글쎄요': 15, '별로에요': 16, '생각보다': 17, '지루하네요': 18, '연기가': 19, '어색해요': 20, '재미없어요': 21}\n"
     ]
    }
   ],
   "source": [
    "# 토큰화 \n",
    "\n",
    "token = Tokenizer(lower=False)\n",
    "token.fit_on_texts(docs)\n",
    "print(token.word_index)"
   ]
  },
  {
   "cell_type": "code",
   "execution_count": 36,
   "id": "26366b91",
   "metadata": {},
   "outputs": [],
   "source": [
    "# 원 핫 인코딩 \n",
    "\n",
    "y = token.texts_to_sequences(docs)"
   ]
  },
  {
   "cell_type": "code",
   "execution_count": 46,
   "id": "0f96e299",
   "metadata": {},
   "outputs": [],
   "source": [
    "# 패딩 추가 \n",
    "max_length = max(len(item) for item in y)"
   ]
  },
  {
   "cell_type": "code",
   "execution_count": 47,
   "id": "62a346f2",
   "metadata": {},
   "outputs": [],
   "source": [
    "padded_x = pad_sequences(y,max_length)"
   ]
  },
  {
   "cell_type": "code",
   "execution_count": 55,
   "id": "0d645d3a",
   "metadata": {
    "scrolled": true
   },
   "outputs": [
    {
     "data": {
      "text/plain": [
       "array([0, 0, 0, 3])"
      ]
     },
     "execution_count": 55,
     "metadata": {},
     "output_type": "execute_result"
    }
   ],
   "source": [
    "padded_x[1]"
   ]
  },
  {
   "cell_type": "code",
   "execution_count": 59,
   "id": "52226b0e",
   "metadata": {},
   "outputs": [
    {
     "data": {
      "text/plain": [
       "1"
      ]
     },
     "execution_count": 59,
     "metadata": {},
     "output_type": "execute_result"
    }
   ],
   "source": [
    "classes[1]"
   ]
  },
  {
   "cell_type": "code",
   "execution_count": 49,
   "id": "dca2e55d",
   "metadata": {},
   "outputs": [],
   "source": [
    "# 임베딩에 입력된 단어의 수를 지정 \n",
    "word_size = len(token.word_index)+ 1 "
   ]
  },
  {
   "cell_type": "code",
   "execution_count": 50,
   "id": "11212715",
   "metadata": {},
   "outputs": [
    {
     "name": "stdout",
     "output_type": "stream",
     "text": [
      "Model: \"sequential\"\n",
      "_________________________________________________________________\n",
      " Layer (type)                Output Shape              Param #   \n",
      "=================================================================\n",
      " embedding (Embedding)       (None, 4, 8)              176       \n",
      "                                                                 \n",
      " flatten (Flatten)           (None, 32)                0         \n",
      "                                                                 \n",
      " dense (Dense)               (None, 1)                 33        \n",
      "                                                                 \n",
      "=================================================================\n",
      "Total params: 209\n",
      "Trainable params: 209\n",
      "Non-trainable params: 0\n",
      "_________________________________________________________________\n"
     ]
    }
   ],
   "source": [
    "# 단어 임베딩을 포함해서 딥러닝 모델 생성 \n",
    "model = Sequential()\n",
    "model.add(Embedding(word_size,8,input_length=max_length))\n",
    "model.add(Flatten())\n",
    "model.add(Dense(1,activation=\"sigmoid\"))\n",
    "model.summary()"
   ]
  },
  {
   "cell_type": "code",
   "execution_count": 60,
   "id": "3d020c2a",
   "metadata": {},
   "outputs": [
    {
     "name": "stdout",
     "output_type": "stream",
     "text": [
      "Epoch 1/20\n",
      "1/1 [==============================] - 0s 411ms/step - loss: 0.5956 - accuracy: 0.9000\n",
      "Epoch 2/20\n",
      "1/1 [==============================] - 0s 20ms/step - loss: 0.5931 - accuracy: 0.9000\n",
      "Epoch 3/20\n",
      "1/1 [==============================] - 0s 17ms/step - loss: 0.5906 - accuracy: 0.9000\n",
      "Epoch 4/20\n",
      "1/1 [==============================] - 0s 1ms/step - loss: 0.5881 - accuracy: 0.9000\n",
      "Epoch 5/20\n",
      "1/1 [==============================] - 0s 0s/step - loss: 0.5856 - accuracy: 0.9000\n",
      "Epoch 6/20\n",
      "1/1 [==============================] - 0s 0s/step - loss: 0.5831 - accuracy: 0.9000\n",
      "Epoch 7/20\n",
      "1/1 [==============================] - 0s 0s/step - loss: 0.5805 - accuracy: 0.9000\n",
      "Epoch 8/20\n",
      "1/1 [==============================] - 0s 13ms/step - loss: 0.5780 - accuracy: 0.9000\n",
      "Epoch 9/20\n",
      "1/1 [==============================] - 0s 0s/step - loss: 0.5755 - accuracy: 0.9000\n",
      "Epoch 10/20\n",
      "1/1 [==============================] - 0s 0s/step - loss: 0.5729 - accuracy: 0.9000\n",
      "Epoch 11/20\n",
      "1/1 [==============================] - 0s 2ms/step - loss: 0.5704 - accuracy: 0.9000\n",
      "Epoch 12/20\n",
      "1/1 [==============================] - 0s 0s/step - loss: 0.5678 - accuracy: 0.9000\n",
      "Epoch 13/20\n",
      "1/1 [==============================] - 0s 0s/step - loss: 0.5653 - accuracy: 0.9000\n",
      "Epoch 14/20\n",
      "1/1 [==============================] - 0s 19ms/step - loss: 0.5627 - accuracy: 0.9000\n",
      "Epoch 15/20\n",
      "1/1 [==============================] - 0s 6ms/step - loss: 0.5602 - accuracy: 0.9000\n",
      "Epoch 16/20\n",
      "1/1 [==============================] - 0s 6ms/step - loss: 0.5576 - accuracy: 0.9000\n",
      "Epoch 17/20\n",
      "1/1 [==============================] - 0s 0s/step - loss: 0.5550 - accuracy: 0.9000\n",
      "Epoch 18/20\n",
      "1/1 [==============================] - 0s 3ms/step - loss: 0.5524 - accuracy: 0.9000\n",
      "Epoch 19/20\n",
      "1/1 [==============================] - 0s 0s/step - loss: 0.5498 - accuracy: 0.9000\n",
      "Epoch 20/20\n",
      "1/1 [==============================] - 0s 3ms/step - loss: 0.5473 - accuracy: 0.9000\n"
     ]
    },
    {
     "ename": "ValueError",
     "evalue": "Failed to find data adapter that can handle input: <class 'numpy.ndarray'>, <class 'numpy.int32'>",
     "output_type": "error",
     "traceback": [
      "\u001b[1;31m---------------------------------------------------------------------------\u001b[0m",
      "\u001b[1;31mValueError\u001b[0m                                Traceback (most recent call last)",
      "Cell \u001b[1;32mIn[60], line 3\u001b[0m\n\u001b[0;32m      1\u001b[0m model\u001b[38;5;241m.\u001b[39mcompile(loss\u001b[38;5;241m=\u001b[39m\u001b[38;5;124m\"\u001b[39m\u001b[38;5;124mbinary_crossentropy\u001b[39m\u001b[38;5;124m\"\u001b[39m,optimizer\u001b[38;5;241m=\u001b[39m\u001b[38;5;124m\"\u001b[39m\u001b[38;5;124madam\u001b[39m\u001b[38;5;124m\"\u001b[39m,metrics\u001b[38;5;241m=\u001b[39m[\u001b[38;5;124m\"\u001b[39m\u001b[38;5;124maccuracy\u001b[39m\u001b[38;5;124m\"\u001b[39m])\n\u001b[0;32m      2\u001b[0m history \u001b[38;5;241m=\u001b[39m model\u001b[38;5;241m.\u001b[39mfit(padded_x,classes,epochs\u001b[38;5;241m=\u001b[39m\u001b[38;5;241m20\u001b[39m)\n\u001b[1;32m----> 3\u001b[0m \u001b[38;5;28mprint\u001b[39m(\u001b[38;5;124mf\u001b[39m\u001b[38;5;124m\"\u001b[39m\u001b[38;5;124mAccuracy: \u001b[39m\u001b[38;5;132;01m{\u001b[39;00mmodel\u001b[38;5;241m.\u001b[39mevaluate(padded_x,classes[\u001b[38;5;241m1\u001b[39m])\u001b[38;5;132;01m}\u001b[39;00m\u001b[38;5;124m\"\u001b[39m)\n",
      "File \u001b[1;32m~\\anaconda3\\envs\\tf\\lib\\site-packages\\keras\\utils\\traceback_utils.py:70\u001b[0m, in \u001b[0;36mfilter_traceback.<locals>.error_handler\u001b[1;34m(*args, **kwargs)\u001b[0m\n\u001b[0;32m     67\u001b[0m     filtered_tb \u001b[38;5;241m=\u001b[39m _process_traceback_frames(e\u001b[38;5;241m.\u001b[39m__traceback__)\n\u001b[0;32m     68\u001b[0m     \u001b[38;5;66;03m# To get the full stack trace, call:\u001b[39;00m\n\u001b[0;32m     69\u001b[0m     \u001b[38;5;66;03m# `tf.debugging.disable_traceback_filtering()`\u001b[39;00m\n\u001b[1;32m---> 70\u001b[0m     \u001b[38;5;28;01mraise\u001b[39;00m e\u001b[38;5;241m.\u001b[39mwith_traceback(filtered_tb) \u001b[38;5;28;01mfrom\u001b[39;00m \u001b[38;5;28;01mNone\u001b[39;00m\n\u001b[0;32m     71\u001b[0m \u001b[38;5;28;01mfinally\u001b[39;00m:\n\u001b[0;32m     72\u001b[0m     \u001b[38;5;28;01mdel\u001b[39;00m filtered_tb\n",
      "File \u001b[1;32m~\\anaconda3\\envs\\tf\\lib\\site-packages\\keras\\engine\\data_adapter.py:1083\u001b[0m, in \u001b[0;36mselect_data_adapter\u001b[1;34m(x, y)\u001b[0m\n\u001b[0;32m   1080\u001b[0m adapter_cls \u001b[38;5;241m=\u001b[39m [\u001b[38;5;28mcls\u001b[39m \u001b[38;5;28;01mfor\u001b[39;00m \u001b[38;5;28mcls\u001b[39m \u001b[38;5;129;01min\u001b[39;00m ALL_ADAPTER_CLS \u001b[38;5;28;01mif\u001b[39;00m \u001b[38;5;28mcls\u001b[39m\u001b[38;5;241m.\u001b[39mcan_handle(x, y)]\n\u001b[0;32m   1081\u001b[0m \u001b[38;5;28;01mif\u001b[39;00m \u001b[38;5;129;01mnot\u001b[39;00m adapter_cls:\n\u001b[0;32m   1082\u001b[0m     \u001b[38;5;66;03m# TODO(scottzhu): This should be a less implementation-specific error.\u001b[39;00m\n\u001b[1;32m-> 1083\u001b[0m     \u001b[38;5;28;01mraise\u001b[39;00m \u001b[38;5;167;01mValueError\u001b[39;00m(\n\u001b[0;32m   1084\u001b[0m         \u001b[38;5;124m\"\u001b[39m\u001b[38;5;124mFailed to find data adapter that can handle \u001b[39m\u001b[38;5;124m\"\u001b[39m\n\u001b[0;32m   1085\u001b[0m         \u001b[38;5;124m\"\u001b[39m\u001b[38;5;124minput: \u001b[39m\u001b[38;5;132;01m{}\u001b[39;00m\u001b[38;5;124m, \u001b[39m\u001b[38;5;132;01m{}\u001b[39;00m\u001b[38;5;124m\"\u001b[39m\u001b[38;5;241m.\u001b[39mformat(_type_name(x), _type_name(y))\n\u001b[0;32m   1086\u001b[0m     )\n\u001b[0;32m   1087\u001b[0m \u001b[38;5;28;01melif\u001b[39;00m \u001b[38;5;28mlen\u001b[39m(adapter_cls) \u001b[38;5;241m>\u001b[39m \u001b[38;5;241m1\u001b[39m:\n\u001b[0;32m   1088\u001b[0m     \u001b[38;5;28;01mraise\u001b[39;00m \u001b[38;5;167;01mRuntimeError\u001b[39;00m(\n\u001b[0;32m   1089\u001b[0m         \u001b[38;5;124m\"\u001b[39m\u001b[38;5;124mData adapters should be mutually exclusive for \u001b[39m\u001b[38;5;124m\"\u001b[39m\n\u001b[0;32m   1090\u001b[0m         \u001b[38;5;124m\"\u001b[39m\u001b[38;5;124mhandling inputs. Found multiple adapters \u001b[39m\u001b[38;5;132;01m{}\u001b[39;00m\u001b[38;5;124m to handle \u001b[39m\u001b[38;5;124m\"\u001b[39m\n\u001b[0;32m   1091\u001b[0m         \u001b[38;5;124m\"\u001b[39m\u001b[38;5;124minput: \u001b[39m\u001b[38;5;132;01m{}\u001b[39;00m\u001b[38;5;124m, \u001b[39m\u001b[38;5;132;01m{}\u001b[39;00m\u001b[38;5;124m\"\u001b[39m\u001b[38;5;241m.\u001b[39mformat(adapter_cls, _type_name(x), _type_name(y))\n\u001b[0;32m   1092\u001b[0m     )\n",
      "\u001b[1;31mValueError\u001b[0m: Failed to find data adapter that can handle input: <class 'numpy.ndarray'>, <class 'numpy.int32'>"
     ]
    }
   ],
   "source": [
    "model.compile(loss=\"binary_crossentropy\",optimizer=\"adam\",metrics=[\"accuracy\"])\n",
    "history = model.fit(padded_x,classes,epochs=20)\n",
    "print(f\"Accuracy: {model.evaluate(padded_x,classes)[1]}\")"
   ]
  },
  {
   "cell_type": "code",
   "execution_count": null,
   "id": "3c98ef7c",
   "metadata": {},
   "outputs": [],
   "source": []
  },
  {
   "cell_type": "code",
   "execution_count": null,
   "id": "d42579de",
   "metadata": {},
   "outputs": [],
   "source": []
  }
 ],
 "metadata": {
  "kernelspec": {
   "display_name": "Python 3 (ipykernel)",
   "language": "python",
   "name": "python3"
  },
  "language_info": {
   "codemirror_mode": {
    "name": "ipython",
    "version": 3
   },
   "file_extension": ".py",
   "mimetype": "text/x-python",
   "name": "python",
   "nbconvert_exporter": "python",
   "pygments_lexer": "ipython3",
   "version": "3.9.18"
  }
 },
 "nbformat": 4,
 "nbformat_minor": 5
}
